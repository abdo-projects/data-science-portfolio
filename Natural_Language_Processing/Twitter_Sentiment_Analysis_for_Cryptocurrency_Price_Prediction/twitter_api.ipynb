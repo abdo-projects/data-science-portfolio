{
 "cells": [
  {
   "cell_type": "code",
   "execution_count": 1,
   "metadata": {
    "tags": []
   },
   "outputs": [],
   "source": [
    "import pandas as pd\n",
    "import time\n",
    "import tweepy\n",
    "import configparser\n",
    "import datetime\n",
    "import pymysql\n",
    "from sqlalchemy import create_engine\n",
    "import mysql.connector"
   ]
  },
  {
   "cell_type": "markdown",
   "metadata": {
    "tags": []
   },
   "source": [
    "# Twitter retrieval search"
   ]
  },
  {
   "cell_type": "code",
   "execution_count": 2,
   "metadata": {},
   "outputs": [],
   "source": [
    "def mysql_conf():\n",
    "        config = configparser.ConfigParser()\n",
    "        config.read('config.ini')\n",
    "        username = config['mysql']['username']\n",
    "        password = config['mysql']['password']\n",
    "        hostname = config['mysql']['hostname']\n",
    "        database = config['mysql']['database']\n",
    "        return username,password,hostname,database\n",
    "    \n",
    "def create_database():\n",
    "    username,password,hostname,database = mysql_conf()\n",
    "    conn = mysql.connector.connect(host = hostname,user = username,password = password)\n",
    "    cursor = conn.cursor()\n",
    "    cursor.execute(\"CREATE DATABASE IF NOT EXISTS twitter\")\n",
    "    cursor.close()\n",
    "\n",
    "\n",
    "def create_table():\n",
    "    username,password,hostname,database = mysql_conf()\n",
    "    conn = mysql.connector.connect(host = hostname,user = username,password = password, database = database)\n",
    "    cursor = conn.cursor()\n",
    "    cursor.execute(\"CREATE TABLE IF NOT EXISTS datamined(tweet_id double NOT NULL,\\\n",
    "                            name varchar(255) NOT NULL,\\\n",
    "                            screen_name varchar(255) NOT NULL,\\\n",
    "                            retweet_count int NOT NULL,\\\n",
    "                            text text(65535) NOT NULL,\\\n",
    "                            mined_at Timestamp NOT NULL,\\\n",
    "                            created_at Timestamp NOT NULL,\\\n",
    "                            favourite_count int NOT NULL,\\\n",
    "                            hashtags text(65535),\\\n",
    "                            status_count int NOT NULL,\\\n",
    "                            followers_count int NOT NULL,\\\n",
    "                            location text(65535),\\\n",
    "                            source_device varchar(255) NOT NULL,\\\n",
    "                            processed boolean NOT NULL, PRIMARY KEY (tweet_id))\")\n",
    "    cursor.close()\n",
    "\n",
    "def check_record(value):\n",
    "    username,password,hostname,database = mysql_conf()\n",
    "    conn = mysql.connector.connect(host = hostname,user = username,password = password, database = database)\n",
    "    cursor = conn.cursor()\n",
    "\n",
    "    quary = \"\"\"SELECT tweet_id, COUNT(*) FROM datamined WHERE tweet_id =%s GROUP BY tweet_id\"\"\"\n",
    "    cursor.execute(quary,(value,))\n",
    "    row_count1 = cursor.fetchall()\n",
    "    row_count = cursor.rowcount\n",
    "    cursor.close()\n",
    "\n",
    "    return row_count\n",
    "\n",
    "def check_redundancy(df):\n",
    "    \n",
    "    for index in df.index:\n",
    "        if check_record(int(df[\"tweet_id\"][index])) == 1:\n",
    "            print(df[\"tweet_id\"][index],\"is redundant, deleteing record from dataframe!\")\n",
    "            df = df.drop(index)\n",
    "    return df\n",
    "\n",
    "def write_to_mysql(df):\n",
    "    print(\"........Storing in Mysql Database\", len(df))\n",
    "    username,password,hostname,database = mysql_conf()\n",
    "\n",
    "\n",
    "    df.hashtags = df.hashtags.astype(str)\n",
    "    df[\"processed\"] = False\n",
    "\n",
    "    engine = create_engine(\"mysql+pymysql://{user}:{pw}@{host}/{db}\".format(host=hostname, db=database, user=username, pw=password))\n",
    "    df.to_sql('datamined', con = engine, if_exists = 'append',index = False, chunksize = 1000)\n",
    "    \n",
    "    print(\"................................................ Resetting Dataframe\")\n",
    "    tweets = get_df()\n",
    "    return tweets"
   ]
  },
  {
   "cell_type": "code",
   "execution_count": 3,
   "metadata": {},
   "outputs": [],
   "source": [
    "class Linstener(tweepy.Stream):\n",
    "    tweets_df = []\n",
    "    limit = 100\n",
    "    counter = 0\n",
    "\n",
    "    def on_status(self, status):\n",
    "        self.counter +=1\n",
    "        print(\"...... Start streaming from Twitter!Retrieve tweets from twitter:\",self.counter,end=\"\\r\")\n",
    "        self.tweets_df.append(status)\n",
    "        if len(self.tweets_df) == self.limit:\n",
    "            self.disconnect()\n",
    "            \n",
    "def stream_authentication(keywords):\n",
    "    config = configparser.ConfigParser()\n",
    "    config.read('config.ini')\n",
    "\n",
    "    api_key = config['twitter']['api_key']\n",
    "    api_key_secret = config['twitter']['api_key_secret']\n",
    "\n",
    "    access_token = config['twitter']['access_token']\n",
    "    access_token_secret = config['twitter']['access_token_secret']\n",
    "\n",
    "    # authenticate\n",
    "    auth = tweepy.OAuthHandler(api_key, api_key_secret)\n",
    "    auth.set_access_token(access_token, access_token_secret)\n",
    "\n",
    "    # authenticate\n",
    "    stream_tweet = Linstener(api_key, api_key_secret, access_token, access_token_secret)\n",
    "    stream_tweet.filter(track=keywords)\n",
    "    return stream_tweet\n",
    "\n",
    "def get_df():\n",
    "    return pd.DataFrame(\n",
    "    columns = [\n",
    "            \"tweet_id\",\n",
    "            \"name\",\n",
    "            \"screen_name\",\n",
    "            \"retweet_count\",\n",
    "            \"text\",\n",
    "            \"mined_at\",\n",
    "            \"created_at\",\n",
    "            \"favourite_count\",\n",
    "            \"hashtags\",\n",
    "            \"status_count\",\n",
    "            \"followers_count\",\n",
    "            \"location\",\n",
    "            \"source_device\"])\n",
    "\n",
    "def get_df_tweet(data):\n",
    "    return pd.DataFrame(data,\n",
    "    columns = [\n",
    "            \"tweet_id\",\n",
    "            \"name\",\n",
    "            \"screen_name\",\n",
    "            \"retweet_count\",\n",
    "            \"text\",\n",
    "            \"mined_at\",\n",
    "            \"created_at\",\n",
    "            \"favourite_count\",\n",
    "            \"hashtags\",\n",
    "            \"status_count\",\n",
    "            \"followers_count\",\n",
    "            \"location\",\n",
    "            \"source_device\"])\n",
    "    \n",
    "def process_tweets(public_tweets):\n",
    "    data = []\n",
    "    \n",
    "    for tweet in public_tweets.tweets_df:\n",
    "        if tweet.truncated == False:\n",
    "            data.append([tweet.id,\n",
    "                         tweet.user.name,\n",
    "                         tweet.user.screen_name,\n",
    "                         tweet.retweet_count,\n",
    "                         tweet.text,\n",
    "                         datetime.datetime.now(),\n",
    "                         tweet.created_at,\n",
    "                         tweet.favorite_count,\n",
    "                         tweet.entities[\"hashtags\"],\n",
    "                         tweet.user.statuses_count,\n",
    "                         tweet.user.followers_count,\n",
    "                         tweet.place,\n",
    "                         tweet.source])\n",
    "        else:\n",
    "            data.append([tweet.id,\n",
    "                         tweet.user.name,\n",
    "                         tweet.user.screen_name,\n",
    "                         tweet.retweet_count,\n",
    "                         tweet.extended_tweet['full_text'],\n",
    "                         datetime.datetime.now(),\n",
    "                         tweet.created_at,\n",
    "                         tweet.favorite_count,\n",
    "                         tweet.entities[\"hashtags\"],\n",
    "                         tweet.user.statuses_count,\n",
    "                         tweet.user.followers_count,\n",
    "                         tweet.place,\n",
    "                         tweet.source])\n",
    "        \n",
    "    df = get_df_tweet(data)\n",
    "    return df"
   ]
  },
  {
   "cell_type": "code",
   "execution_count": 8,
   "metadata": {},
   "outputs": [],
   "source": [
    "def scrap_twitter(keywords=['']):\n",
    "    connection_num = 1\n",
    "    create_database()\n",
    "    create_table()\n",
    "    \n",
    "    while True:\n",
    "        # authenticate\n",
    "        if Linstener.tweets_df:\n",
    "            Linstener.tweets_df = []\n",
    "        print(\" Connection attempted:\",connection_num,\",retrieved time:\",datetime.datetime.now())\n",
    "        connection_num += 1\n",
    "#         stream_tweet = stream_authentication(keywords)\n",
    "#         df = process_tweets(stream_tweet)\n",
    "#         df = check_redundancy(df)\n",
    "#         df = write_to_mysql(df)\n",
    "        write_to_mysql(check_redundancy(process_tweets(stream_authentication(keywords))))\n",
    "        Linstener.tweets_df = []\n",
    "        print(\"........................................... Sleeping for 10 seconds!\")\n",
    "        time.sleep(10)"
   ]
  },
  {
   "cell_type": "code",
   "execution_count": 9,
   "metadata": {},
   "outputs": [
    {
     "name": "stdout",
     "output_type": "stream",
     "text": [
      " Connection attempted: 1 ,retrieved time: 2022-04-04 00:09:26.215239\n",
      "...... Start streaming from Twitter!Retrieve tweets from twitter: 99\r"
     ]
    },
    {
     "name": "stderr",
     "output_type": "stream",
     "text": [
      "Stream connection closed by Twitter\n"
     ]
    },
    {
     "name": "stdout",
     "output_type": "stream",
     "text": [
      "........Storing in Mysql Database 100etrieve tweets from twitter: 100\n",
      "................................................ Resetting Dataframe\n",
      "........................................... Sleeping for 10 seconds!\n",
      " Connection attempted: 2 ,retrieved time: 2022-04-04 00:10:29.891987\n",
      "...... Start streaming from Twitter!Retrieve tweets from twitter: 99\r"
     ]
    },
    {
     "name": "stderr",
     "output_type": "stream",
     "text": [
      "Stream connection closed by Twitter\n"
     ]
    },
    {
     "name": "stdout",
     "output_type": "stream",
     "text": [
      "........Storing in Mysql Database 100etrieve tweets from twitter: 100\n",
      "................................................ Resetting Dataframe\n",
      "........................................... Sleeping for 10 seconds!\n",
      " Connection attempted: 3 ,retrieved time: 2022-04-04 00:11:41.637557\n",
      "...... Start streaming from Twitter!Retrieve tweets from twitter: 99\r"
     ]
    },
    {
     "name": "stderr",
     "output_type": "stream",
     "text": [
      "Stream connection closed by Twitter\n"
     ]
    },
    {
     "name": "stdout",
     "output_type": "stream",
     "text": [
      "........Storing in Mysql Database 100etrieve tweets from twitter: 100\n",
      "................................................ Resetting Dataframe\n",
      "........................................... Sleeping for 10 seconds!\n",
      " Connection attempted: 4 ,retrieved time: 2022-04-04 00:12:49.978312\n",
      "...... Start streaming from Twitter!Retrieve tweets from twitter: 3\r"
     ]
    },
    {
     "name": "stderr",
     "output_type": "stream",
     "text": [
      "Stream connection has errored or timed out\n"
     ]
    },
    {
     "name": "stdout",
     "output_type": "stream",
     "text": [
      "...... Start streaming from Twitter!Retrieve tweets from twitter: 99\r"
     ]
    },
    {
     "name": "stderr",
     "output_type": "stream",
     "text": [
      "Stream connection closed by Twitter\n"
     ]
    },
    {
     "name": "stdout",
     "output_type": "stream",
     "text": [
      "........Storing in Mysql Database 100etrieve tweets from twitter: 100\n",
      "................................................ Resetting Dataframe\n",
      "........................................... Sleeping for 10 seconds!\n",
      " Connection attempted: 5 ,retrieved time: 2022-04-04 00:15:33.397497\n",
      "...... Start streaming from Twitter!Retrieve tweets from twitter: 99\r"
     ]
    },
    {
     "name": "stderr",
     "output_type": "stream",
     "text": [
      "Stream connection closed by Twitter\n"
     ]
    },
    {
     "name": "stdout",
     "output_type": "stream",
     "text": [
      "........Storing in Mysql Database 100etrieve tweets from twitter: 100\n",
      "................................................ Resetting Dataframe\n",
      "........................................... Sleeping for 10 seconds!\n",
      " Connection attempted: 6 ,retrieved time: 2022-04-04 00:16:46.726316\n",
      "...... Start streaming from Twitter!Retrieve tweets from twitter: 98\r"
     ]
    },
    {
     "name": "stderr",
     "output_type": "stream",
     "text": [
      "Stream connection closed by Twitter\n"
     ]
    },
    {
     "name": "stdout",
     "output_type": "stream",
     "text": [
      "........Storing in Mysql Database 100etrieve tweets from twitter: 100\n",
      "................................................ Resetting Dataframe\n",
      "........................................... Sleeping for 10 seconds!\n",
      " Connection attempted: 7 ,retrieved time: 2022-04-04 00:18:03.502413\n",
      "...... Start streaming from Twitter!Retrieve tweets from twitter: 99\r"
     ]
    },
    {
     "name": "stderr",
     "output_type": "stream",
     "text": [
      "Stream connection closed by Twitter\n"
     ]
    },
    {
     "name": "stdout",
     "output_type": "stream",
     "text": [
      "........Storing in Mysql Database 100etrieve tweets from twitter: 100\n"
     ]
    },
    {
     "ename": "IntegrityError",
     "evalue": "(pymysql.err.IntegrityError) (1062, \"Duplicate entry '1.510773672168018e18' for key 'datamined.PRIMARY'\")\n[SQL: INSERT INTO datamined (tweet_id, name, screen_name, retweet_count, text, mined_at, created_at, favourite_count, hashtags, status_count, followers_count, location, source_device, processed) VALUES (%(tweet_id)s, %(name)s, %(screen_name)s, %(retweet_count)s, %(text)s, %(mined_at)s, %(created_at)s, %(favourite_count)s, %(hashtags)s, %(status_count)s, %(followers_count)s, %(location)s, %(source_device)s, %(processed)s)]\n[parameters: ({'tweet_id': 1510773638311645190, 'name': 'Meek Nike', 'screen_name': 'Meeknike88', 'retweet_count': 0, 'text': '@elvis_eth @OpenSeaGeek ✅You can buy now\\n#BTCbullDog 💥🚀\\nThe most transparent project 2022\\n#KYC\\n🤑💥10% rewards in #BTC\\n💥Trading tools\\n 💥Dual  Staking System with High APR\\n💥P2E Games\\n💥🚀Dappe: https://t.co/eMk2S9INru\\n💥✅🤑pinksale:\\nhttps://t.co/GYjJSdMfgS', 'mined_at': datetime.datetime(2022, 4, 4, 0, 19, 4, 397198), 'created_at': datetime.datetime(2022, 4, 4, 0, 17, 58, tzinfo=datetime.timezone.utc), 'favourite_count': 0, 'hashtags': \"[{'text': 'BTCbullDog', 'indices': [41, 52]}, {'text': 'KYC', 'indices': [90, 94]}]\", 'status_count': 2222, 'followers_count': 5, 'location': None, 'source_device': 'Twitter for Android', 'processed': 0}, {'tweet_id': 1510773639800623105, 'name': 'Jake', 'screen_name': 'JakedCrypto', 'retweet_count': 0, 'text': '@Catcoinbsc 2022 is the year of the $CATS! Move over Doge and Shiba Inu....Catcoin has entered the building!\\n\\n@CATCOINBSC #catcoinbsc #CATCOIN #CATCOINARMY #CATS $CATS #BSC #binance #altcoins #Crypto #BTC $DOGE $SHIB', 'mined_at': datetime.datetime(2022, 4, 4, 0, 19, 4, 397210), 'created_at': datetime.datetime(2022, 4, 4, 0, 17, 59, tzinfo=datetime.timezone.utc), 'favourite_count': 0, 'hashtags': '[]', 'status_count': 2361, 'followers_count': 664, 'location': None, 'source_device': 'Twitter Web App', 'processed': 0}, {'tweet_id': 1510773640412995587, 'name': 'Jonas Nordstrom', 'screen_name': 'JonasNRDSTRM', 'retweet_count': 0, 'text': '📈 ETHUSD BUY signal now (severity: 2) #eth #crypto #DCA #TradingSignals #BTC #Bitcoin 4/4/2022@0:17:59', 'mined_at': datetime.datetime(2022, 4, 4, 0, 19, 4, 397217), 'created_at': datetime.datetime(2022, 4, 4, 0, 17, 59, tzinfo=datetime.timezone.utc), 'favourite_count': 0, 'hashtags': \"[{'text': 'eth', 'indices': [38, 42]}, {'text': 'crypto', 'indices': [43, 50]}, {'text': 'DCA', 'indices': [51, 55]}, {'text': 'TradingSignals', 'indices': [56, 71]}, {'text': 'BTC', 'indices': [72, 76]}, {'text': 'Bitcoin', 'indices': [77, 85]}]\", 'status_count': 589, 'followers_count': 456, 'location': None, 'source_device': 'PostingCrypto', 'processed': 0}, {'tweet_id': 1510773641390313479, 'name': '🇨🇦🇵🇰🇷🇺🇸🇻🇺🇸🇸🇬🇬🇧 Rehman Khalid \\u20bf', 'screen_name': 'RKhalid2020', 'retweet_count': 0, 'text': '#Bitcoin #BTC', 'mined_at': datetime.datetime(2022, 4, 4, 0, 19, 4, 397223), 'created_at': datetime.datetime(2022, 4, 4, 0, 17, 59, tzinfo=datetime.timezone.utc), 'favourite_count': 0, 'hashtags': \"[{'text': 'Bitcoin', 'indices': [0, 8]}, {'text': 'BTC', 'indices': [9, 13]}]\", 'status_count': 5939, 'followers_count': 273, 'location': None, 'source_device': 'Twitter for Android', 'processed': 0}, {'tweet_id': 1510773646633148417, 'name': 'Scott Longenecker', 'screen_name': 'Duckhookswl76', 'retweet_count': 0, 'text': 'RT @Senseisports1: #FreePick  #SenseiSam \\n             Indiana\\xa0 Pacers\\n\\U0001f9e8💰💰💰💰💰💰💰💰💰💰💰\\U0001f9e8 \\n\\U0001f9e8Over 116.5\\xa0 Team Total -134\\U0001f9e8\\n\\U0001f9e8💰💰💰💰💰💰💰💰💰💰💰\\U0001f9e8\\n@Pacers #…', 'mined_at': datetime.datetime(2022, 4, 4, 0, 19, 4, 397229), 'created_at': datetime.datetime(2022, 4, 4, 0, 18, tzinfo=datetime.timezone.utc), 'favourite_count': 0, 'hashtags': \"[{'text': 'FreePick', 'indices': [19, 28]}, {'text': 'SenseiSam', 'indices': [30, 40]}]\", 'status_count': 753, 'followers_count': 139, 'location': None, 'source_device': 'Twitter for iPhone', 'processed': 0}, {'tweet_id': 1510773649388670976, 'name': 'fafa♡♡🍀', 'screen_name': 'fafa_dimana', 'retweet_count': 0, 'text': 'RT @HarleyProm_: 🎉 $100 + #NFTGiveaway 🎉\\n\\n• 1 x #NFT \\n• $100 in ETH 🎉\\n• 10 x WL\\nTo win:\\n1. Like &amp; RT + Tag 2 Friends\\n2. Follow \\n@Rashniscom…', 'mined_at': datetime.datetime(2022, 4, 4, 0, 19, 4, 397235), 'created_at': datetime.datetime(2022, 4, 4, 0, 18, 1, tzinfo=datetime.timezone.utc), 'favourite_count': 0, 'hashtags': \"[{'text': 'NFTGiveaway', 'indices': [26, 38]}, {'text': 'NFT', 'indices': [48, 52]}]\", 'status_count': 3574, 'followers_count': 18, 'location': None, 'source_device': 'Twitter for Android', 'processed': 0}, {'tweet_id': 1510773650936401920, 'name': 'jey valvet', 'screen_name': 'JeyValvet', 'retweet_count': 0, 'text': '@VitalikButerin @gitcoin https://t.co/JlN6QGIF0B', 'mined_at': datetime.datetime(2022, 4, 4, 0, 19, 4, 397241), 'created_at': datetime.datetime(2022, 4, 4, 0, 18, 1, tzinfo=datetime.timezone.utc), 'favourite_count': 0, 'hashtags': '[]', 'status_count': 762, 'followers_count': 5, 'location': None, 'source_device': 'Twitter for Android', 'processed': 0}, {'tweet_id': 1510773651196448776, 'name': 'Bu4t NgeV3t | freetag', 'screen_name': 'HokiMin_City', 'retweet_count': 0, 'text': 'RT @HarleyProm_: 🎉 $100 + #NFTGiveaway 🎉\\n\\n• 1 x #NFT \\n• $100 in ETH 🎉\\n• 10 x WL\\nTo win:\\n1. Like &amp; RT + Tag 2 Friends\\n2. Follow \\n@Rashniscom…', 'mined_at': datetime.datetime(2022, 4, 4, 0, 19, 4, 397247), 'created_at': datetime.datetime(2022, 4, 4, 0, 18, 1, tzinfo=datetime.timezone.utc), 'favourite_count': 0, 'hashtags': \"[{'text': 'NFTGiveaway', 'indices': [26, 38]}, {'text': 'NFT', 'indices': [48, 52]}]\", 'status_count': 10744, 'followers_count': 41, 'location': None, 'source_device': 'Twitter for Android', 'processed': 0}  ... displaying 10 of 100 total bound parameter sets ...  {'tweet_id': 1510773889940393985, 'name': 'SenseiSam®️', 'screen_name': 'Senseisports1', 'retweet_count': 0, 'text': '@Pacers @TyHaliburton22 https://t.co/EO2NrGzoud', 'mined_at': datetime.datetime(2022, 4, 4, 0, 19, 4, 398146), 'created_at': datetime.datetime(2022, 4, 4, 0, 18, 58, tzinfo=datetime.timezone.utc), 'favourite_count': 0, 'hashtags': '[]', 'status_count': 40284, 'followers_count': 18577, 'location': None, 'source_device': 'Twitter for Android', 'processed': 0}, {'tweet_id': 1510773891165302787, 'name': 'Bitcoin RSI Tracker', 'screen_name': 'RsiBitcoin', 'retweet_count': 0, 'text': 'Bitcoin Average RSI is 51 ~ Neutral\\nCurrent Price: $46,338\\n\\n#Bitcoin #BTC #RsiBitcoin $BTC https://t.co/aU7aIZ177P', 'mined_at': datetime.datetime(2022, 4, 4, 0, 19, 4, 398151), 'created_at': datetime.datetime(2022, 4, 4, 0, 18, 59, tzinfo=datetime.timezone.utc), 'favourite_count': 0, 'hashtags': \"[{'text': 'Bitcoin', 'indices': [60, 68]}, {'text': 'BTC', 'indices': [69, 73]}, {'text': 'RsiBitcoin', 'indices': [74, 85]}]\", 'status_count': 1566, 'followers_count': 1196, 'location': None, 'source_device': 'Bitcoin RSI Tracker', 'processed': 0})]\n(Background on this error at: https://sqlalche.me/e/14/gkpj)",
     "output_type": "error",
     "traceback": [
      "\u001b[0;31m\u001b[0m",
      "\u001b[0;31mIntegrityError\u001b[0mTraceback (most recent call last)",
      "\u001b[0;32m/usr/local/lib/python3.6/dist-packages/sqlalchemy/engine/base.py\u001b[0m in \u001b[0;36m_execute_context\u001b[0;34m(self, dialect, constructor, statement, parameters, execution_options, *args, **kw)\u001b[0m\n\u001b[1;32m   1788\u001b[0m                     self.dialect.do_executemany(\n\u001b[0;32m-> 1789\u001b[0;31m                         \u001b[0mcursor\u001b[0m\u001b[0;34m,\u001b[0m \u001b[0mstatement\u001b[0m\u001b[0;34m,\u001b[0m \u001b[0mparameters\u001b[0m\u001b[0;34m,\u001b[0m \u001b[0mcontext\u001b[0m\u001b[0;34m\u001b[0m\u001b[0;34m\u001b[0m\u001b[0m\n\u001b[0m\u001b[1;32m   1790\u001b[0m                     )\n",
      "\u001b[0;32m/usr/local/lib/python3.6/dist-packages/sqlalchemy/dialects/mysql/mysqldb.py\u001b[0m in \u001b[0;36mdo_executemany\u001b[0;34m(self, cursor, statement, parameters, context)\u001b[0m\n\u001b[1;32m    192\u001b[0m     \u001b[0;32mdef\u001b[0m \u001b[0mdo_executemany\u001b[0m\u001b[0;34m(\u001b[0m\u001b[0mself\u001b[0m\u001b[0;34m,\u001b[0m \u001b[0mcursor\u001b[0m\u001b[0;34m,\u001b[0m \u001b[0mstatement\u001b[0m\u001b[0;34m,\u001b[0m \u001b[0mparameters\u001b[0m\u001b[0;34m,\u001b[0m \u001b[0mcontext\u001b[0m\u001b[0;34m=\u001b[0m\u001b[0;32mNone\u001b[0m\u001b[0;34m)\u001b[0m\u001b[0;34m:\u001b[0m\u001b[0;34m\u001b[0m\u001b[0;34m\u001b[0m\u001b[0m\n\u001b[0;32m--> 193\u001b[0;31m         \u001b[0mrowcount\u001b[0m \u001b[0;34m=\u001b[0m \u001b[0mcursor\u001b[0m\u001b[0;34m.\u001b[0m\u001b[0mexecutemany\u001b[0m\u001b[0;34m(\u001b[0m\u001b[0mstatement\u001b[0m\u001b[0;34m,\u001b[0m \u001b[0mparameters\u001b[0m\u001b[0;34m)\u001b[0m\u001b[0;34m\u001b[0m\u001b[0;34m\u001b[0m\u001b[0m\n\u001b[0m\u001b[1;32m    194\u001b[0m         \u001b[0;32mif\u001b[0m \u001b[0mcontext\u001b[0m \u001b[0;32mis\u001b[0m \u001b[0;32mnot\u001b[0m \u001b[0;32mNone\u001b[0m\u001b[0;34m:\u001b[0m\u001b[0;34m\u001b[0m\u001b[0;34m\u001b[0m\u001b[0m\n",
      "\u001b[0;32m/usr/local/lib/python3.6/dist-packages/pymysql/cursors.py\u001b[0m in \u001b[0;36mexecutemany\u001b[0;34m(self, query, args)\u001b[0m\n\u001b[1;32m    178\u001b[0m                 \u001b[0mself\u001b[0m\u001b[0;34m.\u001b[0m\u001b[0mmax_stmt_length\u001b[0m\u001b[0;34m,\u001b[0m\u001b[0;34m\u001b[0m\u001b[0;34m\u001b[0m\u001b[0m\n\u001b[0;32m--> 179\u001b[0;31m                 \u001b[0mself\u001b[0m\u001b[0;34m.\u001b[0m\u001b[0m_get_db\u001b[0m\u001b[0;34m(\u001b[0m\u001b[0;34m)\u001b[0m\u001b[0;34m.\u001b[0m\u001b[0mencoding\u001b[0m\u001b[0;34m,\u001b[0m\u001b[0;34m\u001b[0m\u001b[0;34m\u001b[0m\u001b[0m\n\u001b[0m\u001b[1;32m    180\u001b[0m             )\n",
      "\u001b[0;32m/usr/local/lib/python3.6/dist-packages/pymysql/cursors.py\u001b[0m in \u001b[0;36m_do_execute_many\u001b[0;34m(self, prefix, values, postfix, args, max_stmt_length, encoding)\u001b[0m\n\u001b[1;32m    210\u001b[0m             \u001b[0msql\u001b[0m \u001b[0;34m+=\u001b[0m \u001b[0mv\u001b[0m\u001b[0;34m\u001b[0m\u001b[0;34m\u001b[0m\u001b[0m\n\u001b[0;32m--> 211\u001b[0;31m         \u001b[0mrows\u001b[0m \u001b[0;34m+=\u001b[0m \u001b[0mself\u001b[0m\u001b[0;34m.\u001b[0m\u001b[0mexecute\u001b[0m\u001b[0;34m(\u001b[0m\u001b[0msql\u001b[0m \u001b[0;34m+\u001b[0m \u001b[0mpostfix\u001b[0m\u001b[0;34m)\u001b[0m\u001b[0;34m\u001b[0m\u001b[0;34m\u001b[0m\u001b[0m\n\u001b[0m\u001b[1;32m    212\u001b[0m         \u001b[0mself\u001b[0m\u001b[0;34m.\u001b[0m\u001b[0mrowcount\u001b[0m \u001b[0;34m=\u001b[0m \u001b[0mrows\u001b[0m\u001b[0;34m\u001b[0m\u001b[0;34m\u001b[0m\u001b[0m\n",
      "\u001b[0;32m/usr/local/lib/python3.6/dist-packages/pymysql/cursors.py\u001b[0m in \u001b[0;36mexecute\u001b[0;34m(self, query, args)\u001b[0m\n\u001b[1;32m    147\u001b[0m \u001b[0;34m\u001b[0m\u001b[0m\n\u001b[0;32m--> 148\u001b[0;31m         \u001b[0mresult\u001b[0m \u001b[0;34m=\u001b[0m \u001b[0mself\u001b[0m\u001b[0;34m.\u001b[0m\u001b[0m_query\u001b[0m\u001b[0;34m(\u001b[0m\u001b[0mquery\u001b[0m\u001b[0;34m)\u001b[0m\u001b[0;34m\u001b[0m\u001b[0;34m\u001b[0m\u001b[0m\n\u001b[0m\u001b[1;32m    149\u001b[0m         \u001b[0mself\u001b[0m\u001b[0;34m.\u001b[0m\u001b[0m_executed\u001b[0m \u001b[0;34m=\u001b[0m \u001b[0mquery\u001b[0m\u001b[0;34m\u001b[0m\u001b[0;34m\u001b[0m\u001b[0m\n",
      "\u001b[0;32m/usr/local/lib/python3.6/dist-packages/pymysql/cursors.py\u001b[0m in \u001b[0;36m_query\u001b[0;34m(self, q)\u001b[0m\n\u001b[1;32m    309\u001b[0m         \u001b[0mself\u001b[0m\u001b[0;34m.\u001b[0m\u001b[0m_clear_result\u001b[0m\u001b[0;34m(\u001b[0m\u001b[0;34m)\u001b[0m\u001b[0;34m\u001b[0m\u001b[0;34m\u001b[0m\u001b[0m\n\u001b[0;32m--> 310\u001b[0;31m         \u001b[0mconn\u001b[0m\u001b[0;34m.\u001b[0m\u001b[0mquery\u001b[0m\u001b[0;34m(\u001b[0m\u001b[0mq\u001b[0m\u001b[0;34m)\u001b[0m\u001b[0;34m\u001b[0m\u001b[0;34m\u001b[0m\u001b[0m\n\u001b[0m\u001b[1;32m    311\u001b[0m         \u001b[0mself\u001b[0m\u001b[0;34m.\u001b[0m\u001b[0m_do_get_result\u001b[0m\u001b[0;34m(\u001b[0m\u001b[0;34m)\u001b[0m\u001b[0;34m\u001b[0m\u001b[0;34m\u001b[0m\u001b[0m\n",
      "\u001b[0;32m/usr/local/lib/python3.6/dist-packages/pymysql/connections.py\u001b[0m in \u001b[0;36mquery\u001b[0;34m(self, sql, unbuffered)\u001b[0m\n\u001b[1;32m    547\u001b[0m         \u001b[0mself\u001b[0m\u001b[0;34m.\u001b[0m\u001b[0m_execute_command\u001b[0m\u001b[0;34m(\u001b[0m\u001b[0mCOMMAND\u001b[0m\u001b[0;34m.\u001b[0m\u001b[0mCOM_QUERY\u001b[0m\u001b[0;34m,\u001b[0m \u001b[0msql\u001b[0m\u001b[0;34m)\u001b[0m\u001b[0;34m\u001b[0m\u001b[0;34m\u001b[0m\u001b[0m\n\u001b[0;32m--> 548\u001b[0;31m         \u001b[0mself\u001b[0m\u001b[0;34m.\u001b[0m\u001b[0m_affected_rows\u001b[0m \u001b[0;34m=\u001b[0m \u001b[0mself\u001b[0m\u001b[0;34m.\u001b[0m\u001b[0m_read_query_result\u001b[0m\u001b[0;34m(\u001b[0m\u001b[0munbuffered\u001b[0m\u001b[0;34m=\u001b[0m\u001b[0munbuffered\u001b[0m\u001b[0;34m)\u001b[0m\u001b[0;34m\u001b[0m\u001b[0;34m\u001b[0m\u001b[0m\n\u001b[0m\u001b[1;32m    549\u001b[0m         \u001b[0;32mreturn\u001b[0m \u001b[0mself\u001b[0m\u001b[0;34m.\u001b[0m\u001b[0m_affected_rows\u001b[0m\u001b[0;34m\u001b[0m\u001b[0;34m\u001b[0m\u001b[0m\n",
      "\u001b[0;32m/usr/local/lib/python3.6/dist-packages/pymysql/connections.py\u001b[0m in \u001b[0;36m_read_query_result\u001b[0;34m(self, unbuffered)\u001b[0m\n\u001b[1;32m    774\u001b[0m             \u001b[0mresult\u001b[0m \u001b[0;34m=\u001b[0m \u001b[0mMySQLResult\u001b[0m\u001b[0;34m(\u001b[0m\u001b[0mself\u001b[0m\u001b[0;34m)\u001b[0m\u001b[0;34m\u001b[0m\u001b[0;34m\u001b[0m\u001b[0m\n\u001b[0;32m--> 775\u001b[0;31m             \u001b[0mresult\u001b[0m\u001b[0;34m.\u001b[0m\u001b[0mread\u001b[0m\u001b[0;34m(\u001b[0m\u001b[0;34m)\u001b[0m\u001b[0;34m\u001b[0m\u001b[0;34m\u001b[0m\u001b[0m\n\u001b[0m\u001b[1;32m    776\u001b[0m         \u001b[0mself\u001b[0m\u001b[0;34m.\u001b[0m\u001b[0m_result\u001b[0m \u001b[0;34m=\u001b[0m \u001b[0mresult\u001b[0m\u001b[0;34m\u001b[0m\u001b[0;34m\u001b[0m\u001b[0m\n",
      "\u001b[0;32m/usr/local/lib/python3.6/dist-packages/pymysql/connections.py\u001b[0m in \u001b[0;36mread\u001b[0;34m(self)\u001b[0m\n\u001b[1;32m   1155\u001b[0m         \u001b[0;32mtry\u001b[0m\u001b[0;34m:\u001b[0m\u001b[0;34m\u001b[0m\u001b[0;34m\u001b[0m\u001b[0m\n\u001b[0;32m-> 1156\u001b[0;31m             \u001b[0mfirst_packet\u001b[0m \u001b[0;34m=\u001b[0m \u001b[0mself\u001b[0m\u001b[0;34m.\u001b[0m\u001b[0mconnection\u001b[0m\u001b[0;34m.\u001b[0m\u001b[0m_read_packet\u001b[0m\u001b[0;34m(\u001b[0m\u001b[0;34m)\u001b[0m\u001b[0;34m\u001b[0m\u001b[0;34m\u001b[0m\u001b[0m\n\u001b[0m\u001b[1;32m   1157\u001b[0m \u001b[0;34m\u001b[0m\u001b[0m\n",
      "\u001b[0;32m/usr/local/lib/python3.6/dist-packages/pymysql/connections.py\u001b[0m in \u001b[0;36m_read_packet\u001b[0;34m(self, packet_type)\u001b[0m\n\u001b[1;32m    724\u001b[0m                 \u001b[0mself\u001b[0m\u001b[0;34m.\u001b[0m\u001b[0m_result\u001b[0m\u001b[0;34m.\u001b[0m\u001b[0munbuffered_active\u001b[0m \u001b[0;34m=\u001b[0m \u001b[0;32mFalse\u001b[0m\u001b[0;34m\u001b[0m\u001b[0;34m\u001b[0m\u001b[0m\n\u001b[0;32m--> 725\u001b[0;31m             \u001b[0mpacket\u001b[0m\u001b[0;34m.\u001b[0m\u001b[0mraise_for_error\u001b[0m\u001b[0;34m(\u001b[0m\u001b[0;34m)\u001b[0m\u001b[0;34m\u001b[0m\u001b[0;34m\u001b[0m\u001b[0m\n\u001b[0m\u001b[1;32m    726\u001b[0m         \u001b[0;32mreturn\u001b[0m \u001b[0mpacket\u001b[0m\u001b[0;34m\u001b[0m\u001b[0;34m\u001b[0m\u001b[0m\n",
      "\u001b[0;32m/usr/local/lib/python3.6/dist-packages/pymysql/protocol.py\u001b[0m in \u001b[0;36mraise_for_error\u001b[0;34m(self)\u001b[0m\n\u001b[1;32m    220\u001b[0m             \u001b[0mprint\u001b[0m\u001b[0;34m(\u001b[0m\u001b[0;34m\"errno =\"\u001b[0m\u001b[0;34m,\u001b[0m \u001b[0merrno\u001b[0m\u001b[0;34m)\u001b[0m\u001b[0;34m\u001b[0m\u001b[0;34m\u001b[0m\u001b[0m\n\u001b[0;32m--> 221\u001b[0;31m         \u001b[0merr\u001b[0m\u001b[0;34m.\u001b[0m\u001b[0mraise_mysql_exception\u001b[0m\u001b[0;34m(\u001b[0m\u001b[0mself\u001b[0m\u001b[0;34m.\u001b[0m\u001b[0m_data\u001b[0m\u001b[0;34m)\u001b[0m\u001b[0;34m\u001b[0m\u001b[0;34m\u001b[0m\u001b[0m\n\u001b[0m\u001b[1;32m    222\u001b[0m \u001b[0;34m\u001b[0m\u001b[0m\n",
      "\u001b[0;32m/usr/local/lib/python3.6/dist-packages/pymysql/err.py\u001b[0m in \u001b[0;36mraise_mysql_exception\u001b[0;34m(data)\u001b[0m\n\u001b[1;32m    142\u001b[0m         \u001b[0merrorclass\u001b[0m \u001b[0;34m=\u001b[0m \u001b[0mInternalError\u001b[0m \u001b[0;32mif\u001b[0m \u001b[0merrno\u001b[0m \u001b[0;34m<\u001b[0m \u001b[0;36m1000\u001b[0m \u001b[0;32melse\u001b[0m \u001b[0mOperationalError\u001b[0m\u001b[0;34m\u001b[0m\u001b[0;34m\u001b[0m\u001b[0m\n\u001b[0;32m--> 143\u001b[0;31m     \u001b[0;32mraise\u001b[0m \u001b[0merrorclass\u001b[0m\u001b[0;34m(\u001b[0m\u001b[0merrno\u001b[0m\u001b[0;34m,\u001b[0m \u001b[0merrval\u001b[0m\u001b[0;34m)\u001b[0m\u001b[0;34m\u001b[0m\u001b[0;34m\u001b[0m\u001b[0m\n\u001b[0m",
      "\u001b[0;31mIntegrityError\u001b[0m: (1062, \"Duplicate entry '1.510773672168018e18' for key 'datamined.PRIMARY'\")",
      "\nThe above exception was the direct cause of the following exception:\n",
      "\u001b[0;31mIntegrityError\u001b[0mTraceback (most recent call last)",
      "\u001b[0;32m<ipython-input-9-c2ddd2d6f9d7>\u001b[0m in \u001b[0;36m<module>\u001b[0;34m\u001b[0m\n\u001b[1;32m      1\u001b[0m \u001b[0mkeywords\u001b[0m \u001b[0;34m=\u001b[0m \u001b[0;34m[\u001b[0m\u001b[0;34m'#BTC'\u001b[0m\u001b[0;34m]\u001b[0m\u001b[0;34m\u001b[0m\u001b[0;34m\u001b[0m\u001b[0m\n\u001b[0;32m----> 2\u001b[0;31m \u001b[0mstream_tweet\u001b[0m \u001b[0;34m=\u001b[0m \u001b[0mscrap_twitter\u001b[0m\u001b[0;34m(\u001b[0m\u001b[0mkeywords\u001b[0m\u001b[0;34m)\u001b[0m\u001b[0;34m\u001b[0m\u001b[0;34m\u001b[0m\u001b[0m\n\u001b[0m",
      "\u001b[0;32m<ipython-input-8-610a8eb80aed>\u001b[0m in \u001b[0;36mscrap_twitter\u001b[0;34m(keywords)\u001b[0m\n\u001b[1;32m     14\u001b[0m \u001b[0;31m#         df = check_redundancy(df)\u001b[0m\u001b[0;34m\u001b[0m\u001b[0;34m\u001b[0m\u001b[0;34m\u001b[0m\u001b[0m\n\u001b[1;32m     15\u001b[0m \u001b[0;31m#         df = write_to_mysql(df)\u001b[0m\u001b[0;34m\u001b[0m\u001b[0;34m\u001b[0m\u001b[0;34m\u001b[0m\u001b[0m\n\u001b[0;32m---> 16\u001b[0;31m         \u001b[0mwrite_to_mysql\u001b[0m\u001b[0;34m(\u001b[0m\u001b[0mcheck_redundancy\u001b[0m\u001b[0;34m(\u001b[0m\u001b[0mprocess_tweets\u001b[0m\u001b[0;34m(\u001b[0m\u001b[0mstream_authentication\u001b[0m\u001b[0;34m(\u001b[0m\u001b[0mkeywords\u001b[0m\u001b[0;34m)\u001b[0m\u001b[0;34m)\u001b[0m\u001b[0;34m)\u001b[0m\u001b[0;34m)\u001b[0m\u001b[0;34m\u001b[0m\u001b[0;34m\u001b[0m\u001b[0m\n\u001b[0m\u001b[1;32m     17\u001b[0m         \u001b[0mLinstener\u001b[0m\u001b[0;34m.\u001b[0m\u001b[0mtweets_df\u001b[0m \u001b[0;34m=\u001b[0m \u001b[0;34m[\u001b[0m\u001b[0;34m]\u001b[0m\u001b[0;34m\u001b[0m\u001b[0;34m\u001b[0m\u001b[0m\n\u001b[1;32m     18\u001b[0m         \u001b[0mprint\u001b[0m\u001b[0;34m(\u001b[0m\u001b[0;34m\"........................................... Sleeping for 10 seconds!\"\u001b[0m\u001b[0;34m)\u001b[0m\u001b[0;34m\u001b[0m\u001b[0;34m\u001b[0m\u001b[0m\n",
      "\u001b[0;32m<ipython-input-2-e3e8f497f5ee>\u001b[0m in \u001b[0;36mwrite_to_mysql\u001b[0;34m(df)\u001b[0m\n\u001b[1;32m     66\u001b[0m \u001b[0;34m\u001b[0m\u001b[0m\n\u001b[1;32m     67\u001b[0m     \u001b[0mengine\u001b[0m \u001b[0;34m=\u001b[0m \u001b[0mcreate_engine\u001b[0m\u001b[0;34m(\u001b[0m\u001b[0;34m\"mysql+pymysql://{user}:{pw}@{host}/{db}\"\u001b[0m\u001b[0;34m.\u001b[0m\u001b[0mformat\u001b[0m\u001b[0;34m(\u001b[0m\u001b[0mhost\u001b[0m\u001b[0;34m=\u001b[0m\u001b[0mhostname\u001b[0m\u001b[0;34m,\u001b[0m \u001b[0mdb\u001b[0m\u001b[0;34m=\u001b[0m\u001b[0mdatabase\u001b[0m\u001b[0;34m,\u001b[0m \u001b[0muser\u001b[0m\u001b[0;34m=\u001b[0m\u001b[0musername\u001b[0m\u001b[0;34m,\u001b[0m \u001b[0mpw\u001b[0m\u001b[0;34m=\u001b[0m\u001b[0mpassword\u001b[0m\u001b[0;34m)\u001b[0m\u001b[0;34m)\u001b[0m\u001b[0;34m\u001b[0m\u001b[0;34m\u001b[0m\u001b[0m\n\u001b[0;32m---> 68\u001b[0;31m     \u001b[0mdf\u001b[0m\u001b[0;34m.\u001b[0m\u001b[0mto_sql\u001b[0m\u001b[0;34m(\u001b[0m\u001b[0;34m'datamined'\u001b[0m\u001b[0;34m,\u001b[0m \u001b[0mcon\u001b[0m \u001b[0;34m=\u001b[0m \u001b[0mengine\u001b[0m\u001b[0;34m,\u001b[0m \u001b[0mif_exists\u001b[0m \u001b[0;34m=\u001b[0m \u001b[0;34m'append'\u001b[0m\u001b[0;34m,\u001b[0m\u001b[0mindex\u001b[0m \u001b[0;34m=\u001b[0m \u001b[0;32mFalse\u001b[0m\u001b[0;34m,\u001b[0m \u001b[0mchunksize\u001b[0m \u001b[0;34m=\u001b[0m \u001b[0;36m1000\u001b[0m\u001b[0;34m)\u001b[0m\u001b[0;34m\u001b[0m\u001b[0;34m\u001b[0m\u001b[0m\n\u001b[0m\u001b[1;32m     69\u001b[0m \u001b[0;34m\u001b[0m\u001b[0m\n\u001b[1;32m     70\u001b[0m     \u001b[0mprint\u001b[0m\u001b[0;34m(\u001b[0m\u001b[0;34m\"................................................ Resetting Dataframe\"\u001b[0m\u001b[0;34m)\u001b[0m\u001b[0;34m\u001b[0m\u001b[0;34m\u001b[0m\u001b[0m\n",
      "\u001b[0;32m/usr/local/lib/python3.6/dist-packages/pandas/core/generic.py\u001b[0m in \u001b[0;36mto_sql\u001b[0;34m(self, name, con, schema, if_exists, index, index_label, chunksize, dtype, method)\u001b[0m\n\u001b[1;32m   2613\u001b[0m             \u001b[0mchunksize\u001b[0m\u001b[0;34m=\u001b[0m\u001b[0mchunksize\u001b[0m\u001b[0;34m,\u001b[0m\u001b[0;34m\u001b[0m\u001b[0;34m\u001b[0m\u001b[0m\n\u001b[1;32m   2614\u001b[0m             \u001b[0mdtype\u001b[0m\u001b[0;34m=\u001b[0m\u001b[0mdtype\u001b[0m\u001b[0;34m,\u001b[0m\u001b[0;34m\u001b[0m\u001b[0;34m\u001b[0m\u001b[0m\n\u001b[0;32m-> 2615\u001b[0;31m             \u001b[0mmethod\u001b[0m\u001b[0;34m=\u001b[0m\u001b[0mmethod\u001b[0m\u001b[0;34m,\u001b[0m\u001b[0;34m\u001b[0m\u001b[0;34m\u001b[0m\u001b[0m\n\u001b[0m\u001b[1;32m   2616\u001b[0m         )\n\u001b[1;32m   2617\u001b[0m \u001b[0;34m\u001b[0m\u001b[0m\n",
      "\u001b[0;32m/usr/local/lib/python3.6/dist-packages/pandas/io/sql.py\u001b[0m in \u001b[0;36mto_sql\u001b[0;34m(frame, name, con, schema, if_exists, index, index_label, chunksize, dtype, method)\u001b[0m\n\u001b[1;32m    596\u001b[0m         \u001b[0mchunksize\u001b[0m\u001b[0;34m=\u001b[0m\u001b[0mchunksize\u001b[0m\u001b[0;34m,\u001b[0m\u001b[0;34m\u001b[0m\u001b[0;34m\u001b[0m\u001b[0m\n\u001b[1;32m    597\u001b[0m         \u001b[0mdtype\u001b[0m\u001b[0;34m=\u001b[0m\u001b[0mdtype\u001b[0m\u001b[0;34m,\u001b[0m\u001b[0;34m\u001b[0m\u001b[0;34m\u001b[0m\u001b[0m\n\u001b[0;32m--> 598\u001b[0;31m         \u001b[0mmethod\u001b[0m\u001b[0;34m=\u001b[0m\u001b[0mmethod\u001b[0m\u001b[0;34m,\u001b[0m\u001b[0;34m\u001b[0m\u001b[0;34m\u001b[0m\u001b[0m\n\u001b[0m\u001b[1;32m    599\u001b[0m     )\n\u001b[1;32m    600\u001b[0m \u001b[0;34m\u001b[0m\u001b[0m\n",
      "\u001b[0;32m/usr/local/lib/python3.6/dist-packages/pandas/io/sql.py\u001b[0m in \u001b[0;36mto_sql\u001b[0;34m(self, frame, name, if_exists, index, index_label, schema, chunksize, dtype, method)\u001b[0m\n\u001b[1;32m   1404\u001b[0m                 \u001b[0;32mraise\u001b[0m \u001b[0mValueError\u001b[0m\u001b[0;34m(\u001b[0m\u001b[0;34m\"inf cannot be used with MySQL\"\u001b[0m\u001b[0;34m)\u001b[0m \u001b[0;32mfrom\u001b[0m \u001b[0merr\u001b[0m\u001b[0;34m\u001b[0m\u001b[0;34m\u001b[0m\u001b[0m\n\u001b[1;32m   1405\u001b[0m             \u001b[0;32melse\u001b[0m\u001b[0;34m:\u001b[0m\u001b[0;34m\u001b[0m\u001b[0;34m\u001b[0m\u001b[0m\n\u001b[0;32m-> 1406\u001b[0;31m                 \u001b[0;32mraise\u001b[0m \u001b[0merr\u001b[0m\u001b[0;34m\u001b[0m\u001b[0;34m\u001b[0m\u001b[0m\n\u001b[0m\u001b[1;32m   1407\u001b[0m \u001b[0;34m\u001b[0m\u001b[0m\n\u001b[1;32m   1408\u001b[0m         \u001b[0;32mif\u001b[0m \u001b[0;32mnot\u001b[0m \u001b[0mname\u001b[0m\u001b[0;34m.\u001b[0m\u001b[0misdigit\u001b[0m\u001b[0;34m(\u001b[0m\u001b[0;34m)\u001b[0m \u001b[0;32mand\u001b[0m \u001b[0;32mnot\u001b[0m \u001b[0mname\u001b[0m\u001b[0;34m.\u001b[0m\u001b[0mislower\u001b[0m\u001b[0;34m(\u001b[0m\u001b[0;34m)\u001b[0m\u001b[0;34m:\u001b[0m\u001b[0;34m\u001b[0m\u001b[0;34m\u001b[0m\u001b[0m\n",
      "\u001b[0;32m/usr/local/lib/python3.6/dist-packages/pandas/io/sql.py\u001b[0m in \u001b[0;36mto_sql\u001b[0;34m(self, frame, name, if_exists, index, index_label, schema, chunksize, dtype, method)\u001b[0m\n\u001b[1;32m   1396\u001b[0m \u001b[0;34m\u001b[0m\u001b[0m\n\u001b[1;32m   1397\u001b[0m         \u001b[0;32mtry\u001b[0m\u001b[0;34m:\u001b[0m\u001b[0;34m\u001b[0m\u001b[0;34m\u001b[0m\u001b[0m\n\u001b[0;32m-> 1398\u001b[0;31m             \u001b[0mtable\u001b[0m\u001b[0;34m.\u001b[0m\u001b[0minsert\u001b[0m\u001b[0;34m(\u001b[0m\u001b[0mchunksize\u001b[0m\u001b[0;34m,\u001b[0m \u001b[0mmethod\u001b[0m\u001b[0;34m=\u001b[0m\u001b[0mmethod\u001b[0m\u001b[0;34m)\u001b[0m\u001b[0;34m\u001b[0m\u001b[0;34m\u001b[0m\u001b[0m\n\u001b[0m\u001b[1;32m   1399\u001b[0m         \u001b[0;32mexcept\u001b[0m \u001b[0mexc\u001b[0m\u001b[0;34m.\u001b[0m\u001b[0mSQLAlchemyError\u001b[0m \u001b[0;32mas\u001b[0m \u001b[0merr\u001b[0m\u001b[0;34m:\u001b[0m\u001b[0;34m\u001b[0m\u001b[0;34m\u001b[0m\u001b[0m\n\u001b[1;32m   1400\u001b[0m             \u001b[0;31m# GH34431\u001b[0m\u001b[0;34m\u001b[0m\u001b[0;34m\u001b[0m\u001b[0;34m\u001b[0m\u001b[0m\n",
      "\u001b[0;32m/usr/local/lib/python3.6/dist-packages/pandas/io/sql.py\u001b[0m in \u001b[0;36minsert\u001b[0;34m(self, chunksize, method)\u001b[0m\n\u001b[1;32m    828\u001b[0m \u001b[0;34m\u001b[0m\u001b[0m\n\u001b[1;32m    829\u001b[0m                 \u001b[0mchunk_iter\u001b[0m \u001b[0;34m=\u001b[0m \u001b[0mzip\u001b[0m\u001b[0;34m(\u001b[0m\u001b[0;34m*\u001b[0m\u001b[0;34m[\u001b[0m\u001b[0marr\u001b[0m\u001b[0;34m[\u001b[0m\u001b[0mstart_i\u001b[0m\u001b[0;34m:\u001b[0m\u001b[0mend_i\u001b[0m\u001b[0;34m]\u001b[0m \u001b[0;32mfor\u001b[0m \u001b[0marr\u001b[0m \u001b[0;32min\u001b[0m \u001b[0mdata_list\u001b[0m\u001b[0;34m]\u001b[0m\u001b[0;34m)\u001b[0m\u001b[0;34m\u001b[0m\u001b[0;34m\u001b[0m\u001b[0m\n\u001b[0;32m--> 830\u001b[0;31m                 \u001b[0mexec_insert\u001b[0m\u001b[0;34m(\u001b[0m\u001b[0mconn\u001b[0m\u001b[0;34m,\u001b[0m \u001b[0mkeys\u001b[0m\u001b[0;34m,\u001b[0m \u001b[0mchunk_iter\u001b[0m\u001b[0;34m)\u001b[0m\u001b[0;34m\u001b[0m\u001b[0;34m\u001b[0m\u001b[0m\n\u001b[0m\u001b[1;32m    831\u001b[0m \u001b[0;34m\u001b[0m\u001b[0m\n\u001b[1;32m    832\u001b[0m     def _query_iterator(\n",
      "\u001b[0;32m/usr/local/lib/python3.6/dist-packages/pandas/io/sql.py\u001b[0m in \u001b[0;36m_execute_insert\u001b[0;34m(self, conn, keys, data_iter)\u001b[0m\n\u001b[1;32m    745\u001b[0m         \"\"\"\n\u001b[1;32m    746\u001b[0m         \u001b[0mdata\u001b[0m \u001b[0;34m=\u001b[0m \u001b[0;34m[\u001b[0m\u001b[0mdict\u001b[0m\u001b[0;34m(\u001b[0m\u001b[0mzip\u001b[0m\u001b[0;34m(\u001b[0m\u001b[0mkeys\u001b[0m\u001b[0;34m,\u001b[0m \u001b[0mrow\u001b[0m\u001b[0;34m)\u001b[0m\u001b[0;34m)\u001b[0m \u001b[0;32mfor\u001b[0m \u001b[0mrow\u001b[0m \u001b[0;32min\u001b[0m \u001b[0mdata_iter\u001b[0m\u001b[0;34m]\u001b[0m\u001b[0;34m\u001b[0m\u001b[0;34m\u001b[0m\u001b[0m\n\u001b[0;32m--> 747\u001b[0;31m         \u001b[0mconn\u001b[0m\u001b[0;34m.\u001b[0m\u001b[0mexecute\u001b[0m\u001b[0;34m(\u001b[0m\u001b[0mself\u001b[0m\u001b[0;34m.\u001b[0m\u001b[0mtable\u001b[0m\u001b[0;34m.\u001b[0m\u001b[0minsert\u001b[0m\u001b[0;34m(\u001b[0m\u001b[0;34m)\u001b[0m\u001b[0;34m,\u001b[0m \u001b[0mdata\u001b[0m\u001b[0;34m)\u001b[0m\u001b[0;34m\u001b[0m\u001b[0;34m\u001b[0m\u001b[0m\n\u001b[0m\u001b[1;32m    748\u001b[0m \u001b[0;34m\u001b[0m\u001b[0m\n\u001b[1;32m    749\u001b[0m     \u001b[0;32mdef\u001b[0m \u001b[0m_execute_insert_multi\u001b[0m\u001b[0;34m(\u001b[0m\u001b[0mself\u001b[0m\u001b[0;34m,\u001b[0m \u001b[0mconn\u001b[0m\u001b[0;34m,\u001b[0m \u001b[0mkeys\u001b[0m\u001b[0;34m,\u001b[0m \u001b[0mdata_iter\u001b[0m\u001b[0;34m)\u001b[0m\u001b[0;34m:\u001b[0m\u001b[0;34m\u001b[0m\u001b[0;34m\u001b[0m\u001b[0m\n",
      "\u001b[0;32m/usr/local/lib/python3.6/dist-packages/sqlalchemy/engine/base.py\u001b[0m in \u001b[0;36mexecute\u001b[0;34m(self, statement, *multiparams, **params)\u001b[0m\n\u001b[1;32m   1293\u001b[0m             )\n\u001b[1;32m   1294\u001b[0m         \u001b[0;32melse\u001b[0m\u001b[0;34m:\u001b[0m\u001b[0;34m\u001b[0m\u001b[0;34m\u001b[0m\u001b[0m\n\u001b[0;32m-> 1295\u001b[0;31m             \u001b[0;32mreturn\u001b[0m \u001b[0mmeth\u001b[0m\u001b[0;34m(\u001b[0m\u001b[0mself\u001b[0m\u001b[0;34m,\u001b[0m \u001b[0mmultiparams\u001b[0m\u001b[0;34m,\u001b[0m \u001b[0mparams\u001b[0m\u001b[0;34m,\u001b[0m \u001b[0m_EMPTY_EXECUTION_OPTS\u001b[0m\u001b[0;34m)\u001b[0m\u001b[0;34m\u001b[0m\u001b[0;34m\u001b[0m\u001b[0m\n\u001b[0m\u001b[1;32m   1296\u001b[0m \u001b[0;34m\u001b[0m\u001b[0m\n\u001b[1;32m   1297\u001b[0m     \u001b[0;32mdef\u001b[0m \u001b[0m_execute_function\u001b[0m\u001b[0;34m(\u001b[0m\u001b[0mself\u001b[0m\u001b[0;34m,\u001b[0m \u001b[0mfunc\u001b[0m\u001b[0;34m,\u001b[0m \u001b[0mmultiparams\u001b[0m\u001b[0;34m,\u001b[0m \u001b[0mparams\u001b[0m\u001b[0;34m,\u001b[0m \u001b[0mexecution_options\u001b[0m\u001b[0;34m)\u001b[0m\u001b[0;34m:\u001b[0m\u001b[0;34m\u001b[0m\u001b[0;34m\u001b[0m\u001b[0m\n",
      "\u001b[0;32m/usr/local/lib/python3.6/dist-packages/sqlalchemy/sql/elements.py\u001b[0m in \u001b[0;36m_execute_on_connection\u001b[0;34m(self, connection, multiparams, params, execution_options, _force)\u001b[0m\n\u001b[1;32m    324\u001b[0m         \u001b[0;32mif\u001b[0m \u001b[0m_force\u001b[0m \u001b[0;32mor\u001b[0m \u001b[0mself\u001b[0m\u001b[0;34m.\u001b[0m\u001b[0msupports_execution\u001b[0m\u001b[0;34m:\u001b[0m\u001b[0;34m\u001b[0m\u001b[0;34m\u001b[0m\u001b[0m\n\u001b[1;32m    325\u001b[0m             return connection._execute_clauseelement(\n\u001b[0;32m--> 326\u001b[0;31m                 \u001b[0mself\u001b[0m\u001b[0;34m,\u001b[0m \u001b[0mmultiparams\u001b[0m\u001b[0;34m,\u001b[0m \u001b[0mparams\u001b[0m\u001b[0;34m,\u001b[0m \u001b[0mexecution_options\u001b[0m\u001b[0;34m\u001b[0m\u001b[0;34m\u001b[0m\u001b[0m\n\u001b[0m\u001b[1;32m    327\u001b[0m             )\n\u001b[1;32m    328\u001b[0m         \u001b[0;32melse\u001b[0m\u001b[0;34m:\u001b[0m\u001b[0;34m\u001b[0m\u001b[0;34m\u001b[0m\u001b[0m\n",
      "\u001b[0;32m/usr/local/lib/python3.6/dist-packages/sqlalchemy/engine/base.py\u001b[0m in \u001b[0;36m_execute_clauseelement\u001b[0;34m(self, elem, multiparams, params, execution_options)\u001b[0m\n\u001b[1;32m   1495\u001b[0m             \u001b[0melem\u001b[0m\u001b[0;34m,\u001b[0m\u001b[0;34m\u001b[0m\u001b[0;34m\u001b[0m\u001b[0m\n\u001b[1;32m   1496\u001b[0m             \u001b[0mextracted_params\u001b[0m\u001b[0;34m,\u001b[0m\u001b[0;34m\u001b[0m\u001b[0;34m\u001b[0m\u001b[0m\n\u001b[0;32m-> 1497\u001b[0;31m             \u001b[0mcache_hit\u001b[0m\u001b[0;34m=\u001b[0m\u001b[0mcache_hit\u001b[0m\u001b[0;34m,\u001b[0m\u001b[0;34m\u001b[0m\u001b[0;34m\u001b[0m\u001b[0m\n\u001b[0m\u001b[1;32m   1498\u001b[0m         )\n\u001b[1;32m   1499\u001b[0m         \u001b[0;32mif\u001b[0m \u001b[0mhas_events\u001b[0m\u001b[0;34m:\u001b[0m\u001b[0;34m\u001b[0m\u001b[0;34m\u001b[0m\u001b[0m\n",
      "\u001b[0;32m/usr/local/lib/python3.6/dist-packages/sqlalchemy/engine/base.py\u001b[0m in \u001b[0;36m_execute_context\u001b[0;34m(self, dialect, constructor, statement, parameters, execution_options, *args, **kw)\u001b[0m\n\u001b[1;32m   1850\u001b[0m         \u001b[0;32mexcept\u001b[0m \u001b[0mBaseException\u001b[0m \u001b[0;32mas\u001b[0m \u001b[0me\u001b[0m\u001b[0;34m:\u001b[0m\u001b[0;34m\u001b[0m\u001b[0;34m\u001b[0m\u001b[0m\n\u001b[1;32m   1851\u001b[0m             self._handle_dbapi_exception(\n\u001b[0;32m-> 1852\u001b[0;31m                 \u001b[0me\u001b[0m\u001b[0;34m,\u001b[0m \u001b[0mstatement\u001b[0m\u001b[0;34m,\u001b[0m \u001b[0mparameters\u001b[0m\u001b[0;34m,\u001b[0m \u001b[0mcursor\u001b[0m\u001b[0;34m,\u001b[0m \u001b[0mcontext\u001b[0m\u001b[0;34m\u001b[0m\u001b[0;34m\u001b[0m\u001b[0m\n\u001b[0m\u001b[1;32m   1853\u001b[0m             )\n\u001b[1;32m   1854\u001b[0m \u001b[0;34m\u001b[0m\u001b[0m\n",
      "\u001b[0;32m/usr/local/lib/python3.6/dist-packages/sqlalchemy/engine/base.py\u001b[0m in \u001b[0;36m_handle_dbapi_exception\u001b[0;34m(self, e, statement, parameters, cursor, context)\u001b[0m\n\u001b[1;32m   2031\u001b[0m             \u001b[0;32melif\u001b[0m \u001b[0mshould_wrap\u001b[0m\u001b[0;34m:\u001b[0m\u001b[0;34m\u001b[0m\u001b[0;34m\u001b[0m\u001b[0m\n\u001b[1;32m   2032\u001b[0m                 util.raise_(\n\u001b[0;32m-> 2033\u001b[0;31m                     \u001b[0msqlalchemy_exception\u001b[0m\u001b[0;34m,\u001b[0m \u001b[0mwith_traceback\u001b[0m\u001b[0;34m=\u001b[0m\u001b[0mexc_info\u001b[0m\u001b[0;34m[\u001b[0m\u001b[0;36m2\u001b[0m\u001b[0;34m]\u001b[0m\u001b[0;34m,\u001b[0m \u001b[0mfrom_\u001b[0m\u001b[0;34m=\u001b[0m\u001b[0me\u001b[0m\u001b[0;34m\u001b[0m\u001b[0;34m\u001b[0m\u001b[0m\n\u001b[0m\u001b[1;32m   2034\u001b[0m                 )\n\u001b[1;32m   2035\u001b[0m             \u001b[0;32melse\u001b[0m\u001b[0;34m:\u001b[0m\u001b[0;34m\u001b[0m\u001b[0;34m\u001b[0m\u001b[0m\n",
      "\u001b[0;32m/usr/local/lib/python3.6/dist-packages/sqlalchemy/util/compat.py\u001b[0m in \u001b[0;36mraise_\u001b[0;34m(***failed resolving arguments***)\u001b[0m\n\u001b[1;32m    205\u001b[0m \u001b[0;34m\u001b[0m\u001b[0m\n\u001b[1;32m    206\u001b[0m         \u001b[0;32mtry\u001b[0m\u001b[0;34m:\u001b[0m\u001b[0;34m\u001b[0m\u001b[0;34m\u001b[0m\u001b[0m\n\u001b[0;32m--> 207\u001b[0;31m             \u001b[0;32mraise\u001b[0m \u001b[0mexception\u001b[0m\u001b[0;34m\u001b[0m\u001b[0;34m\u001b[0m\u001b[0m\n\u001b[0m\u001b[1;32m    208\u001b[0m         \u001b[0;32mfinally\u001b[0m\u001b[0;34m:\u001b[0m\u001b[0;34m\u001b[0m\u001b[0;34m\u001b[0m\u001b[0m\n\u001b[1;32m    209\u001b[0m             \u001b[0;31m# credit to\u001b[0m\u001b[0;34m\u001b[0m\u001b[0;34m\u001b[0m\u001b[0;34m\u001b[0m\u001b[0m\n",
      "\u001b[0;32m/usr/local/lib/python3.6/dist-packages/sqlalchemy/engine/base.py\u001b[0m in \u001b[0;36m_execute_context\u001b[0;34m(self, dialect, constructor, statement, parameters, execution_options, *args, **kw)\u001b[0m\n\u001b[1;32m   1787\u001b[0m                 \u001b[0;32mif\u001b[0m \u001b[0;32mnot\u001b[0m \u001b[0mevt_handled\u001b[0m\u001b[0;34m:\u001b[0m\u001b[0;34m\u001b[0m\u001b[0;34m\u001b[0m\u001b[0m\n\u001b[1;32m   1788\u001b[0m                     self.dialect.do_executemany(\n\u001b[0;32m-> 1789\u001b[0;31m                         \u001b[0mcursor\u001b[0m\u001b[0;34m,\u001b[0m \u001b[0mstatement\u001b[0m\u001b[0;34m,\u001b[0m \u001b[0mparameters\u001b[0m\u001b[0;34m,\u001b[0m \u001b[0mcontext\u001b[0m\u001b[0;34m\u001b[0m\u001b[0;34m\u001b[0m\u001b[0m\n\u001b[0m\u001b[1;32m   1790\u001b[0m                     )\n\u001b[1;32m   1791\u001b[0m             \u001b[0;32melif\u001b[0m \u001b[0;32mnot\u001b[0m \u001b[0mparameters\u001b[0m \u001b[0;32mand\u001b[0m \u001b[0mcontext\u001b[0m\u001b[0;34m.\u001b[0m\u001b[0mno_parameters\u001b[0m\u001b[0;34m:\u001b[0m\u001b[0;34m\u001b[0m\u001b[0;34m\u001b[0m\u001b[0m\n",
      "\u001b[0;32m/usr/local/lib/python3.6/dist-packages/sqlalchemy/dialects/mysql/mysqldb.py\u001b[0m in \u001b[0;36mdo_executemany\u001b[0;34m(self, cursor, statement, parameters, context)\u001b[0m\n\u001b[1;32m    191\u001b[0m \u001b[0;34m\u001b[0m\u001b[0m\n\u001b[1;32m    192\u001b[0m     \u001b[0;32mdef\u001b[0m \u001b[0mdo_executemany\u001b[0m\u001b[0;34m(\u001b[0m\u001b[0mself\u001b[0m\u001b[0;34m,\u001b[0m \u001b[0mcursor\u001b[0m\u001b[0;34m,\u001b[0m \u001b[0mstatement\u001b[0m\u001b[0;34m,\u001b[0m \u001b[0mparameters\u001b[0m\u001b[0;34m,\u001b[0m \u001b[0mcontext\u001b[0m\u001b[0;34m=\u001b[0m\u001b[0;32mNone\u001b[0m\u001b[0;34m)\u001b[0m\u001b[0;34m:\u001b[0m\u001b[0;34m\u001b[0m\u001b[0;34m\u001b[0m\u001b[0m\n\u001b[0;32m--> 193\u001b[0;31m         \u001b[0mrowcount\u001b[0m \u001b[0;34m=\u001b[0m \u001b[0mcursor\u001b[0m\u001b[0;34m.\u001b[0m\u001b[0mexecutemany\u001b[0m\u001b[0;34m(\u001b[0m\u001b[0mstatement\u001b[0m\u001b[0;34m,\u001b[0m \u001b[0mparameters\u001b[0m\u001b[0;34m)\u001b[0m\u001b[0;34m\u001b[0m\u001b[0;34m\u001b[0m\u001b[0m\n\u001b[0m\u001b[1;32m    194\u001b[0m         \u001b[0;32mif\u001b[0m \u001b[0mcontext\u001b[0m \u001b[0;32mis\u001b[0m \u001b[0;32mnot\u001b[0m \u001b[0;32mNone\u001b[0m\u001b[0;34m:\u001b[0m\u001b[0;34m\u001b[0m\u001b[0;34m\u001b[0m\u001b[0m\n\u001b[1;32m    195\u001b[0m             \u001b[0mcontext\u001b[0m\u001b[0;34m.\u001b[0m\u001b[0m_rowcount\u001b[0m \u001b[0;34m=\u001b[0m \u001b[0mrowcount\u001b[0m\u001b[0;34m\u001b[0m\u001b[0;34m\u001b[0m\u001b[0m\n",
      "\u001b[0;32m/usr/local/lib/python3.6/dist-packages/pymysql/cursors.py\u001b[0m in \u001b[0;36mexecutemany\u001b[0;34m(self, query, args)\u001b[0m\n\u001b[1;32m    177\u001b[0m                 \u001b[0margs\u001b[0m\u001b[0;34m,\u001b[0m\u001b[0;34m\u001b[0m\u001b[0;34m\u001b[0m\u001b[0m\n\u001b[1;32m    178\u001b[0m                 \u001b[0mself\u001b[0m\u001b[0;34m.\u001b[0m\u001b[0mmax_stmt_length\u001b[0m\u001b[0;34m,\u001b[0m\u001b[0;34m\u001b[0m\u001b[0;34m\u001b[0m\u001b[0m\n\u001b[0;32m--> 179\u001b[0;31m                 \u001b[0mself\u001b[0m\u001b[0;34m.\u001b[0m\u001b[0m_get_db\u001b[0m\u001b[0;34m(\u001b[0m\u001b[0;34m)\u001b[0m\u001b[0;34m.\u001b[0m\u001b[0mencoding\u001b[0m\u001b[0;34m,\u001b[0m\u001b[0;34m\u001b[0m\u001b[0;34m\u001b[0m\u001b[0m\n\u001b[0m\u001b[1;32m    180\u001b[0m             )\n\u001b[1;32m    181\u001b[0m \u001b[0;34m\u001b[0m\u001b[0m\n",
      "\u001b[0;32m/usr/local/lib/python3.6/dist-packages/pymysql/cursors.py\u001b[0m in \u001b[0;36m_do_execute_many\u001b[0;34m(self, prefix, values, postfix, args, max_stmt_length, encoding)\u001b[0m\n\u001b[1;32m    209\u001b[0m                 \u001b[0msql\u001b[0m \u001b[0;34m+=\u001b[0m \u001b[0;34mb\",\"\u001b[0m\u001b[0;34m\u001b[0m\u001b[0;34m\u001b[0m\u001b[0m\n\u001b[1;32m    210\u001b[0m             \u001b[0msql\u001b[0m \u001b[0;34m+=\u001b[0m \u001b[0mv\u001b[0m\u001b[0;34m\u001b[0m\u001b[0;34m\u001b[0m\u001b[0m\n\u001b[0;32m--> 211\u001b[0;31m         \u001b[0mrows\u001b[0m \u001b[0;34m+=\u001b[0m \u001b[0mself\u001b[0m\u001b[0;34m.\u001b[0m\u001b[0mexecute\u001b[0m\u001b[0;34m(\u001b[0m\u001b[0msql\u001b[0m \u001b[0;34m+\u001b[0m \u001b[0mpostfix\u001b[0m\u001b[0;34m)\u001b[0m\u001b[0;34m\u001b[0m\u001b[0;34m\u001b[0m\u001b[0m\n\u001b[0m\u001b[1;32m    212\u001b[0m         \u001b[0mself\u001b[0m\u001b[0;34m.\u001b[0m\u001b[0mrowcount\u001b[0m \u001b[0;34m=\u001b[0m \u001b[0mrows\u001b[0m\u001b[0;34m\u001b[0m\u001b[0;34m\u001b[0m\u001b[0m\n\u001b[1;32m    213\u001b[0m         \u001b[0;32mreturn\u001b[0m \u001b[0mrows\u001b[0m\u001b[0;34m\u001b[0m\u001b[0;34m\u001b[0m\u001b[0m\n",
      "\u001b[0;32m/usr/local/lib/python3.6/dist-packages/pymysql/cursors.py\u001b[0m in \u001b[0;36mexecute\u001b[0;34m(self, query, args)\u001b[0m\n\u001b[1;32m    146\u001b[0m         \u001b[0mquery\u001b[0m \u001b[0;34m=\u001b[0m \u001b[0mself\u001b[0m\u001b[0;34m.\u001b[0m\u001b[0mmogrify\u001b[0m\u001b[0;34m(\u001b[0m\u001b[0mquery\u001b[0m\u001b[0;34m,\u001b[0m \u001b[0margs\u001b[0m\u001b[0;34m)\u001b[0m\u001b[0;34m\u001b[0m\u001b[0;34m\u001b[0m\u001b[0m\n\u001b[1;32m    147\u001b[0m \u001b[0;34m\u001b[0m\u001b[0m\n\u001b[0;32m--> 148\u001b[0;31m         \u001b[0mresult\u001b[0m \u001b[0;34m=\u001b[0m \u001b[0mself\u001b[0m\u001b[0;34m.\u001b[0m\u001b[0m_query\u001b[0m\u001b[0;34m(\u001b[0m\u001b[0mquery\u001b[0m\u001b[0;34m)\u001b[0m\u001b[0;34m\u001b[0m\u001b[0;34m\u001b[0m\u001b[0m\n\u001b[0m\u001b[1;32m    149\u001b[0m         \u001b[0mself\u001b[0m\u001b[0;34m.\u001b[0m\u001b[0m_executed\u001b[0m \u001b[0;34m=\u001b[0m \u001b[0mquery\u001b[0m\u001b[0;34m\u001b[0m\u001b[0;34m\u001b[0m\u001b[0m\n\u001b[1;32m    150\u001b[0m         \u001b[0;32mreturn\u001b[0m \u001b[0mresult\u001b[0m\u001b[0;34m\u001b[0m\u001b[0;34m\u001b[0m\u001b[0m\n",
      "\u001b[0;32m/usr/local/lib/python3.6/dist-packages/pymysql/cursors.py\u001b[0m in \u001b[0;36m_query\u001b[0;34m(self, q)\u001b[0m\n\u001b[1;32m    308\u001b[0m         \u001b[0mself\u001b[0m\u001b[0;34m.\u001b[0m\u001b[0m_last_executed\u001b[0m \u001b[0;34m=\u001b[0m \u001b[0mq\u001b[0m\u001b[0;34m\u001b[0m\u001b[0;34m\u001b[0m\u001b[0m\n\u001b[1;32m    309\u001b[0m         \u001b[0mself\u001b[0m\u001b[0;34m.\u001b[0m\u001b[0m_clear_result\u001b[0m\u001b[0;34m(\u001b[0m\u001b[0;34m)\u001b[0m\u001b[0;34m\u001b[0m\u001b[0;34m\u001b[0m\u001b[0m\n\u001b[0;32m--> 310\u001b[0;31m         \u001b[0mconn\u001b[0m\u001b[0;34m.\u001b[0m\u001b[0mquery\u001b[0m\u001b[0;34m(\u001b[0m\u001b[0mq\u001b[0m\u001b[0;34m)\u001b[0m\u001b[0;34m\u001b[0m\u001b[0;34m\u001b[0m\u001b[0m\n\u001b[0m\u001b[1;32m    311\u001b[0m         \u001b[0mself\u001b[0m\u001b[0;34m.\u001b[0m\u001b[0m_do_get_result\u001b[0m\u001b[0;34m(\u001b[0m\u001b[0;34m)\u001b[0m\u001b[0;34m\u001b[0m\u001b[0;34m\u001b[0m\u001b[0m\n\u001b[1;32m    312\u001b[0m         \u001b[0;32mreturn\u001b[0m \u001b[0mself\u001b[0m\u001b[0;34m.\u001b[0m\u001b[0mrowcount\u001b[0m\u001b[0;34m\u001b[0m\u001b[0;34m\u001b[0m\u001b[0m\n",
      "\u001b[0;32m/usr/local/lib/python3.6/dist-packages/pymysql/connections.py\u001b[0m in \u001b[0;36mquery\u001b[0;34m(self, sql, unbuffered)\u001b[0m\n\u001b[1;32m    546\u001b[0m             \u001b[0msql\u001b[0m \u001b[0;34m=\u001b[0m \u001b[0msql\u001b[0m\u001b[0;34m.\u001b[0m\u001b[0mencode\u001b[0m\u001b[0;34m(\u001b[0m\u001b[0mself\u001b[0m\u001b[0;34m.\u001b[0m\u001b[0mencoding\u001b[0m\u001b[0;34m,\u001b[0m \u001b[0;34m\"surrogateescape\"\u001b[0m\u001b[0;34m)\u001b[0m\u001b[0;34m\u001b[0m\u001b[0;34m\u001b[0m\u001b[0m\n\u001b[1;32m    547\u001b[0m         \u001b[0mself\u001b[0m\u001b[0;34m.\u001b[0m\u001b[0m_execute_command\u001b[0m\u001b[0;34m(\u001b[0m\u001b[0mCOMMAND\u001b[0m\u001b[0;34m.\u001b[0m\u001b[0mCOM_QUERY\u001b[0m\u001b[0;34m,\u001b[0m \u001b[0msql\u001b[0m\u001b[0;34m)\u001b[0m\u001b[0;34m\u001b[0m\u001b[0;34m\u001b[0m\u001b[0m\n\u001b[0;32m--> 548\u001b[0;31m         \u001b[0mself\u001b[0m\u001b[0;34m.\u001b[0m\u001b[0m_affected_rows\u001b[0m \u001b[0;34m=\u001b[0m \u001b[0mself\u001b[0m\u001b[0;34m.\u001b[0m\u001b[0m_read_query_result\u001b[0m\u001b[0;34m(\u001b[0m\u001b[0munbuffered\u001b[0m\u001b[0;34m=\u001b[0m\u001b[0munbuffered\u001b[0m\u001b[0;34m)\u001b[0m\u001b[0;34m\u001b[0m\u001b[0;34m\u001b[0m\u001b[0m\n\u001b[0m\u001b[1;32m    549\u001b[0m         \u001b[0;32mreturn\u001b[0m \u001b[0mself\u001b[0m\u001b[0;34m.\u001b[0m\u001b[0m_affected_rows\u001b[0m\u001b[0;34m\u001b[0m\u001b[0;34m\u001b[0m\u001b[0m\n\u001b[1;32m    550\u001b[0m \u001b[0;34m\u001b[0m\u001b[0m\n",
      "\u001b[0;32m/usr/local/lib/python3.6/dist-packages/pymysql/connections.py\u001b[0m in \u001b[0;36m_read_query_result\u001b[0;34m(self, unbuffered)\u001b[0m\n\u001b[1;32m    773\u001b[0m         \u001b[0;32melse\u001b[0m\u001b[0;34m:\u001b[0m\u001b[0;34m\u001b[0m\u001b[0;34m\u001b[0m\u001b[0m\n\u001b[1;32m    774\u001b[0m             \u001b[0mresult\u001b[0m \u001b[0;34m=\u001b[0m \u001b[0mMySQLResult\u001b[0m\u001b[0;34m(\u001b[0m\u001b[0mself\u001b[0m\u001b[0;34m)\u001b[0m\u001b[0;34m\u001b[0m\u001b[0;34m\u001b[0m\u001b[0m\n\u001b[0;32m--> 775\u001b[0;31m             \u001b[0mresult\u001b[0m\u001b[0;34m.\u001b[0m\u001b[0mread\u001b[0m\u001b[0;34m(\u001b[0m\u001b[0;34m)\u001b[0m\u001b[0;34m\u001b[0m\u001b[0;34m\u001b[0m\u001b[0m\n\u001b[0m\u001b[1;32m    776\u001b[0m         \u001b[0mself\u001b[0m\u001b[0;34m.\u001b[0m\u001b[0m_result\u001b[0m \u001b[0;34m=\u001b[0m \u001b[0mresult\u001b[0m\u001b[0;34m\u001b[0m\u001b[0;34m\u001b[0m\u001b[0m\n\u001b[1;32m    777\u001b[0m         \u001b[0;32mif\u001b[0m \u001b[0mresult\u001b[0m\u001b[0;34m.\u001b[0m\u001b[0mserver_status\u001b[0m \u001b[0;32mis\u001b[0m \u001b[0;32mnot\u001b[0m \u001b[0;32mNone\u001b[0m\u001b[0;34m:\u001b[0m\u001b[0;34m\u001b[0m\u001b[0;34m\u001b[0m\u001b[0m\n",
      "\u001b[0;32m/usr/local/lib/python3.6/dist-packages/pymysql/connections.py\u001b[0m in \u001b[0;36mread\u001b[0;34m(self)\u001b[0m\n\u001b[1;32m   1154\u001b[0m     \u001b[0;32mdef\u001b[0m \u001b[0mread\u001b[0m\u001b[0;34m(\u001b[0m\u001b[0mself\u001b[0m\u001b[0;34m)\u001b[0m\u001b[0;34m:\u001b[0m\u001b[0;34m\u001b[0m\u001b[0;34m\u001b[0m\u001b[0m\n\u001b[1;32m   1155\u001b[0m         \u001b[0;32mtry\u001b[0m\u001b[0;34m:\u001b[0m\u001b[0;34m\u001b[0m\u001b[0;34m\u001b[0m\u001b[0m\n\u001b[0;32m-> 1156\u001b[0;31m             \u001b[0mfirst_packet\u001b[0m \u001b[0;34m=\u001b[0m \u001b[0mself\u001b[0m\u001b[0;34m.\u001b[0m\u001b[0mconnection\u001b[0m\u001b[0;34m.\u001b[0m\u001b[0m_read_packet\u001b[0m\u001b[0;34m(\u001b[0m\u001b[0;34m)\u001b[0m\u001b[0;34m\u001b[0m\u001b[0;34m\u001b[0m\u001b[0m\n\u001b[0m\u001b[1;32m   1157\u001b[0m \u001b[0;34m\u001b[0m\u001b[0m\n\u001b[1;32m   1158\u001b[0m             \u001b[0;32mif\u001b[0m \u001b[0mfirst_packet\u001b[0m\u001b[0;34m.\u001b[0m\u001b[0mis_ok_packet\u001b[0m\u001b[0;34m(\u001b[0m\u001b[0;34m)\u001b[0m\u001b[0;34m:\u001b[0m\u001b[0;34m\u001b[0m\u001b[0;34m\u001b[0m\u001b[0m\n",
      "\u001b[0;32m/usr/local/lib/python3.6/dist-packages/pymysql/connections.py\u001b[0m in \u001b[0;36m_read_packet\u001b[0;34m(self, packet_type)\u001b[0m\n\u001b[1;32m    723\u001b[0m             \u001b[0;32mif\u001b[0m \u001b[0mself\u001b[0m\u001b[0;34m.\u001b[0m\u001b[0m_result\u001b[0m \u001b[0;32mis\u001b[0m \u001b[0;32mnot\u001b[0m \u001b[0;32mNone\u001b[0m \u001b[0;32mand\u001b[0m \u001b[0mself\u001b[0m\u001b[0;34m.\u001b[0m\u001b[0m_result\u001b[0m\u001b[0;34m.\u001b[0m\u001b[0munbuffered_active\u001b[0m \u001b[0;32mis\u001b[0m \u001b[0;32mTrue\u001b[0m\u001b[0;34m:\u001b[0m\u001b[0;34m\u001b[0m\u001b[0;34m\u001b[0m\u001b[0m\n\u001b[1;32m    724\u001b[0m                 \u001b[0mself\u001b[0m\u001b[0;34m.\u001b[0m\u001b[0m_result\u001b[0m\u001b[0;34m.\u001b[0m\u001b[0munbuffered_active\u001b[0m \u001b[0;34m=\u001b[0m \u001b[0;32mFalse\u001b[0m\u001b[0;34m\u001b[0m\u001b[0;34m\u001b[0m\u001b[0m\n\u001b[0;32m--> 725\u001b[0;31m             \u001b[0mpacket\u001b[0m\u001b[0;34m.\u001b[0m\u001b[0mraise_for_error\u001b[0m\u001b[0;34m(\u001b[0m\u001b[0;34m)\u001b[0m\u001b[0;34m\u001b[0m\u001b[0;34m\u001b[0m\u001b[0m\n\u001b[0m\u001b[1;32m    726\u001b[0m         \u001b[0;32mreturn\u001b[0m \u001b[0mpacket\u001b[0m\u001b[0;34m\u001b[0m\u001b[0;34m\u001b[0m\u001b[0m\n\u001b[1;32m    727\u001b[0m \u001b[0;34m\u001b[0m\u001b[0m\n",
      "\u001b[0;32m/usr/local/lib/python3.6/dist-packages/pymysql/protocol.py\u001b[0m in \u001b[0;36mraise_for_error\u001b[0;34m(self)\u001b[0m\n\u001b[1;32m    219\u001b[0m         \u001b[0;32mif\u001b[0m \u001b[0mDEBUG\u001b[0m\u001b[0;34m:\u001b[0m\u001b[0;34m\u001b[0m\u001b[0;34m\u001b[0m\u001b[0m\n\u001b[1;32m    220\u001b[0m             \u001b[0mprint\u001b[0m\u001b[0;34m(\u001b[0m\u001b[0;34m\"errno =\"\u001b[0m\u001b[0;34m,\u001b[0m \u001b[0merrno\u001b[0m\u001b[0;34m)\u001b[0m\u001b[0;34m\u001b[0m\u001b[0;34m\u001b[0m\u001b[0m\n\u001b[0;32m--> 221\u001b[0;31m         \u001b[0merr\u001b[0m\u001b[0;34m.\u001b[0m\u001b[0mraise_mysql_exception\u001b[0m\u001b[0;34m(\u001b[0m\u001b[0mself\u001b[0m\u001b[0;34m.\u001b[0m\u001b[0m_data\u001b[0m\u001b[0;34m)\u001b[0m\u001b[0;34m\u001b[0m\u001b[0;34m\u001b[0m\u001b[0m\n\u001b[0m\u001b[1;32m    222\u001b[0m \u001b[0;34m\u001b[0m\u001b[0m\n\u001b[1;32m    223\u001b[0m     \u001b[0;32mdef\u001b[0m \u001b[0mdump\u001b[0m\u001b[0;34m(\u001b[0m\u001b[0mself\u001b[0m\u001b[0;34m)\u001b[0m\u001b[0;34m:\u001b[0m\u001b[0;34m\u001b[0m\u001b[0;34m\u001b[0m\u001b[0m\n",
      "\u001b[0;32m/usr/local/lib/python3.6/dist-packages/pymysql/err.py\u001b[0m in \u001b[0;36mraise_mysql_exception\u001b[0;34m(data)\u001b[0m\n\u001b[1;32m    141\u001b[0m     \u001b[0;32mif\u001b[0m \u001b[0merrorclass\u001b[0m \u001b[0;32mis\u001b[0m \u001b[0;32mNone\u001b[0m\u001b[0;34m:\u001b[0m\u001b[0;34m\u001b[0m\u001b[0;34m\u001b[0m\u001b[0m\n\u001b[1;32m    142\u001b[0m         \u001b[0merrorclass\u001b[0m \u001b[0;34m=\u001b[0m \u001b[0mInternalError\u001b[0m \u001b[0;32mif\u001b[0m \u001b[0merrno\u001b[0m \u001b[0;34m<\u001b[0m \u001b[0;36m1000\u001b[0m \u001b[0;32melse\u001b[0m \u001b[0mOperationalError\u001b[0m\u001b[0;34m\u001b[0m\u001b[0;34m\u001b[0m\u001b[0m\n\u001b[0;32m--> 143\u001b[0;31m     \u001b[0;32mraise\u001b[0m \u001b[0merrorclass\u001b[0m\u001b[0;34m(\u001b[0m\u001b[0merrno\u001b[0m\u001b[0;34m,\u001b[0m \u001b[0merrval\u001b[0m\u001b[0;34m)\u001b[0m\u001b[0;34m\u001b[0m\u001b[0;34m\u001b[0m\u001b[0m\n\u001b[0m",
      "\u001b[0;31mIntegrityError\u001b[0m: (pymysql.err.IntegrityError) (1062, \"Duplicate entry '1.510773672168018e18' for key 'datamined.PRIMARY'\")\n[SQL: INSERT INTO datamined (tweet_id, name, screen_name, retweet_count, text, mined_at, created_at, favourite_count, hashtags, status_count, followers_count, location, source_device, processed) VALUES (%(tweet_id)s, %(name)s, %(screen_name)s, %(retweet_count)s, %(text)s, %(mined_at)s, %(created_at)s, %(favourite_count)s, %(hashtags)s, %(status_count)s, %(followers_count)s, %(location)s, %(source_device)s, %(processed)s)]\n[parameters: ({'tweet_id': 1510773638311645190, 'name': 'Meek Nike', 'screen_name': 'Meeknike88', 'retweet_count': 0, 'text': '@elvis_eth @OpenSeaGeek ✅You can buy now\\n#BTCbullDog 💥🚀\\nThe most transparent project 2022\\n#KYC\\n🤑💥10% rewards in #BTC\\n💥Trading tools\\n 💥Dual  Staking System with High APR\\n💥P2E Games\\n💥🚀Dappe: https://t.co/eMk2S9INru\\n💥✅🤑pinksale:\\nhttps://t.co/GYjJSdMfgS', 'mined_at': datetime.datetime(2022, 4, 4, 0, 19, 4, 397198), 'created_at': datetime.datetime(2022, 4, 4, 0, 17, 58, tzinfo=datetime.timezone.utc), 'favourite_count': 0, 'hashtags': \"[{'text': 'BTCbullDog', 'indices': [41, 52]}, {'text': 'KYC', 'indices': [90, 94]}]\", 'status_count': 2222, 'followers_count': 5, 'location': None, 'source_device': 'Twitter for Android', 'processed': 0}, {'tweet_id': 1510773639800623105, 'name': 'Jake', 'screen_name': 'JakedCrypto', 'retweet_count': 0, 'text': '@Catcoinbsc 2022 is the year of the $CATS! Move over Doge and Shiba Inu....Catcoin has entered the building!\\n\\n@CATCOINBSC #catcoinbsc #CATCOIN #CATCOINARMY #CATS $CATS #BSC #binance #altcoins #Crypto #BTC $DOGE $SHIB', 'mined_at': datetime.datetime(2022, 4, 4, 0, 19, 4, 397210), 'created_at': datetime.datetime(2022, 4, 4, 0, 17, 59, tzinfo=datetime.timezone.utc), 'favourite_count': 0, 'hashtags': '[]', 'status_count': 2361, 'followers_count': 664, 'location': None, 'source_device': 'Twitter Web App', 'processed': 0}, {'tweet_id': 1510773640412995587, 'name': 'Jonas Nordstrom', 'screen_name': 'JonasNRDSTRM', 'retweet_count': 0, 'text': '📈 ETHUSD BUY signal now (severity: 2) #eth #crypto #DCA #TradingSignals #BTC #Bitcoin 4/4/2022@0:17:59', 'mined_at': datetime.datetime(2022, 4, 4, 0, 19, 4, 397217), 'created_at': datetime.datetime(2022, 4, 4, 0, 17, 59, tzinfo=datetime.timezone.utc), 'favourite_count': 0, 'hashtags': \"[{'text': 'eth', 'indices': [38, 42]}, {'text': 'crypto', 'indices': [43, 50]}, {'text': 'DCA', 'indices': [51, 55]}, {'text': 'TradingSignals', 'indices': [56, 71]}, {'text': 'BTC', 'indices': [72, 76]}, {'text': 'Bitcoin', 'indices': [77, 85]}]\", 'status_count': 589, 'followers_count': 456, 'location': None, 'source_device': 'PostingCrypto', 'processed': 0}, {'tweet_id': 1510773641390313479, 'name': '🇨🇦🇵🇰🇷🇺🇸🇻🇺🇸🇸🇬🇬🇧 Rehman Khalid \\u20bf', 'screen_name': 'RKhalid2020', 'retweet_count': 0, 'text': '#Bitcoin #BTC', 'mined_at': datetime.datetime(2022, 4, 4, 0, 19, 4, 397223), 'created_at': datetime.datetime(2022, 4, 4, 0, 17, 59, tzinfo=datetime.timezone.utc), 'favourite_count': 0, 'hashtags': \"[{'text': 'Bitcoin', 'indices': [0, 8]}, {'text': 'BTC', 'indices': [9, 13]}]\", 'status_count': 5939, 'followers_count': 273, 'location': None, 'source_device': 'Twitter for Android', 'processed': 0}, {'tweet_id': 1510773646633148417, 'name': 'Scott Longenecker', 'screen_name': 'Duckhookswl76', 'retweet_count': 0, 'text': 'RT @Senseisports1: #FreePick  #SenseiSam \\n             Indiana\\xa0 Pacers\\n\\U0001f9e8💰💰💰💰💰💰💰💰💰💰💰\\U0001f9e8 \\n\\U0001f9e8Over 116.5\\xa0 Team Total -134\\U0001f9e8\\n\\U0001f9e8💰💰💰💰💰💰💰💰💰💰💰\\U0001f9e8\\n@Pacers #…', 'mined_at': datetime.datetime(2022, 4, 4, 0, 19, 4, 397229), 'created_at': datetime.datetime(2022, 4, 4, 0, 18, tzinfo=datetime.timezone.utc), 'favourite_count': 0, 'hashtags': \"[{'text': 'FreePick', 'indices': [19, 28]}, {'text': 'SenseiSam', 'indices': [30, 40]}]\", 'status_count': 753, 'followers_count': 139, 'location': None, 'source_device': 'Twitter for iPhone', 'processed': 0}, {'tweet_id': 1510773649388670976, 'name': 'fafa♡♡🍀', 'screen_name': 'fafa_dimana', 'retweet_count': 0, 'text': 'RT @HarleyProm_: 🎉 $100 + #NFTGiveaway 🎉\\n\\n• 1 x #NFT \\n• $100 in ETH 🎉\\n• 10 x WL\\nTo win:\\n1. Like &amp; RT + Tag 2 Friends\\n2. Follow \\n@Rashniscom…', 'mined_at': datetime.datetime(2022, 4, 4, 0, 19, 4, 397235), 'created_at': datetime.datetime(2022, 4, 4, 0, 18, 1, tzinfo=datetime.timezone.utc), 'favourite_count': 0, 'hashtags': \"[{'text': 'NFTGiveaway', 'indices': [26, 38]}, {'text': 'NFT', 'indices': [48, 52]}]\", 'status_count': 3574, 'followers_count': 18, 'location': None, 'source_device': 'Twitter for Android', 'processed': 0}, {'tweet_id': 1510773650936401920, 'name': 'jey valvet', 'screen_name': 'JeyValvet', 'retweet_count': 0, 'text': '@VitalikButerin @gitcoin https://t.co/JlN6QGIF0B', 'mined_at': datetime.datetime(2022, 4, 4, 0, 19, 4, 397241), 'created_at': datetime.datetime(2022, 4, 4, 0, 18, 1, tzinfo=datetime.timezone.utc), 'favourite_count': 0, 'hashtags': '[]', 'status_count': 762, 'followers_count': 5, 'location': None, 'source_device': 'Twitter for Android', 'processed': 0}, {'tweet_id': 1510773651196448776, 'name': 'Bu4t NgeV3t | freetag', 'screen_name': 'HokiMin_City', 'retweet_count': 0, 'text': 'RT @HarleyProm_: 🎉 $100 + #NFTGiveaway 🎉\\n\\n• 1 x #NFT \\n• $100 in ETH 🎉\\n• 10 x WL\\nTo win:\\n1. Like &amp; RT + Tag 2 Friends\\n2. Follow \\n@Rashniscom…', 'mined_at': datetime.datetime(2022, 4, 4, 0, 19, 4, 397247), 'created_at': datetime.datetime(2022, 4, 4, 0, 18, 1, tzinfo=datetime.timezone.utc), 'favourite_count': 0, 'hashtags': \"[{'text': 'NFTGiveaway', 'indices': [26, 38]}, {'text': 'NFT', 'indices': [48, 52]}]\", 'status_count': 10744, 'followers_count': 41, 'location': None, 'source_device': 'Twitter for Android', 'processed': 0}  ... displaying 10 of 100 total bound parameter sets ...  {'tweet_id': 1510773889940393985, 'name': 'SenseiSam®️', 'screen_name': 'Senseisports1', 'retweet_count': 0, 'text': '@Pacers @TyHaliburton22 https://t.co/EO2NrGzoud', 'mined_at': datetime.datetime(2022, 4, 4, 0, 19, 4, 398146), 'created_at': datetime.datetime(2022, 4, 4, 0, 18, 58, tzinfo=datetime.timezone.utc), 'favourite_count': 0, 'hashtags': '[]', 'status_count': 40284, 'followers_count': 18577, 'location': None, 'source_device': 'Twitter for Android', 'processed': 0}, {'tweet_id': 1510773891165302787, 'name': 'Bitcoin RSI Tracker', 'screen_name': 'RsiBitcoin', 'retweet_count': 0, 'text': 'Bitcoin Average RSI is 51 ~ Neutral\\nCurrent Price: $46,338\\n\\n#Bitcoin #BTC #RsiBitcoin $BTC https://t.co/aU7aIZ177P', 'mined_at': datetime.datetime(2022, 4, 4, 0, 19, 4, 398151), 'created_at': datetime.datetime(2022, 4, 4, 0, 18, 59, tzinfo=datetime.timezone.utc), 'favourite_count': 0, 'hashtags': \"[{'text': 'Bitcoin', 'indices': [60, 68]}, {'text': 'BTC', 'indices': [69, 73]}, {'text': 'RsiBitcoin', 'indices': [74, 85]}]\", 'status_count': 1566, 'followers_count': 1196, 'location': None, 'source_device': 'Bitcoin RSI Tracker', 'processed': 0})]\n(Background on this error at: https://sqlalche.me/e/14/gkpj)"
     ]
    }
   ],
   "source": [
    "keywords = ['#BTC']\n",
    "stream_tweet = scrap_twitter(keywords)"
   ]
  }
 ],
 "metadata": {
  "interpreter": {
   "hash": "7c79359eb92e04f1e64be41bdf6b0e1f28c6fa7029af799eb47a29b3f1db28cc"
  },
  "kernelspec": {
   "display_name": "Python 3",
   "language": "python",
   "name": "python3"
  },
  "language_info": {
   "codemirror_mode": {
    "name": "ipython",
    "version": 3
   },
   "file_extension": ".py",
   "mimetype": "text/x-python",
   "name": "python",
   "nbconvert_exporter": "python",
   "pygments_lexer": "ipython3",
   "version": "3.6.9"
  }
 },
 "nbformat": 4,
 "nbformat_minor": 4
}
