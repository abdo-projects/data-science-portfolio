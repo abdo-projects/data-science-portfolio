{
 "cells": [
  {
   "cell_type": "markdown",
   "metadata": {
    "colab_type": "text",
    "id": "view-in-github"
   },
   "source": [
    "<a href=\"https://colab.research.google.com/github/tanboi85/ml_python/blob/main/knn_Lab.ipynb\" target=\"_parent\"><img src=\"https://colab.research.google.com/assets/colab-badge.svg\" alt=\"Open In Colab\"/></a>"
   ]
  },
  {
   "cell_type": "markdown",
   "metadata": {
    "id": "DHOU77iWTqEA"
   },
   "source": [
    "# Dataset Information\n",
    "\n",
    "5. Number of Instances: 1728\n",
    "   (instances completely cover the attribute space)\n",
    "\n",
    "6. Number of Attributes: 6\n",
    "\n",
    "7. Attribute Values:\n",
    "\n",
    "   buying       v-high, high, med, low\n",
    "   maint        v-high, high, med, low\n",
    "   doors        2, 3, 4, 5-more\n",
    "   persons      2, 4, more\n",
    "   lug_boot     small, med, big\n",
    "   safety       low, med, high\n",
    "\n",
    "8. Missing Attribute Values: none\n",
    "\n",
    "9. Class Distribution (number of instances per class)\n",
    "\n",
    "   class      N          N\n",
    "   -----------------------------\n",
    "   unacc     1210     (70.023 %) \n",
    "   acc        384     (22.222 %) \n",
    "   good        69     ( 3.993 %) \n",
    "   v-good      65     ( 3.762 %) \n"
   ]
  },
  {
   "cell_type": "markdown",
   "metadata": {
    "id": "KxrcYVHkTqEB"
   },
   "source": [
    "Question 1: Do any preprocessing to data as necessary. Then, answer the following questions:\n",
    "What are the types of the attributes?\n",
    "Is there any empty or null values? What approach you use to address them (remove,\n",
    "replace, etc.)? and why?\n",
    "Any unused or irrelevant columns/attributes? What do you do to them?\n",
    "What attribute(s) might be useful?\n",
    "\n",
    "\n",
    "Question 2:\n",
    "Experiment with KNN machine learning algorithm to predict your Class label based on your\n",
    "selected data. Use default KNN configurations and try at least two different values of k. Try\n",
    "conduct also with custom KNN configurations with at least 5 fold cross-validation. Compare the\n",
    "two KNN and specify your findings. Do higher values of k lead to better performance? Do crossvalidation effect KNN performance?\n"
   ]
  },
  {
   "cell_type": "code",
   "execution_count": 1,
   "metadata": {
    "id": "D58CG4LsTqED",
    "outputId": "9d043277-103c-4889-f8e8-3213fd7ed77a"
   },
   "outputs": [
    {
     "data": {
      "text/html": [
       "<div>\n",
       "<style scoped>\n",
       "    .dataframe tbody tr th:only-of-type {\n",
       "        vertical-align: middle;\n",
       "    }\n",
       "\n",
       "    .dataframe tbody tr th {\n",
       "        vertical-align: top;\n",
       "    }\n",
       "\n",
       "    .dataframe thead th {\n",
       "        text-align: right;\n",
       "    }\n",
       "</style>\n",
       "<table border=\"1\" class=\"dataframe\">\n",
       "  <thead>\n",
       "    <tr style=\"text-align: right;\">\n",
       "      <th></th>\n",
       "      <th>buying</th>\n",
       "      <th>maintenance</th>\n",
       "      <th>doors</th>\n",
       "      <th>persons</th>\n",
       "      <th>luggage boot</th>\n",
       "      <th>safety</th>\n",
       "      <th>class</th>\n",
       "    </tr>\n",
       "  </thead>\n",
       "  <tbody>\n",
       "    <tr>\n",
       "      <th>0</th>\n",
       "      <td>vhigh</td>\n",
       "      <td>vhigh</td>\n",
       "      <td>2</td>\n",
       "      <td>2</td>\n",
       "      <td>small</td>\n",
       "      <td>low</td>\n",
       "      <td>unacc</td>\n",
       "    </tr>\n",
       "    <tr>\n",
       "      <th>1</th>\n",
       "      <td>vhigh</td>\n",
       "      <td>vhigh</td>\n",
       "      <td>2</td>\n",
       "      <td>2</td>\n",
       "      <td>small</td>\n",
       "      <td>med</td>\n",
       "      <td>unacc</td>\n",
       "    </tr>\n",
       "    <tr>\n",
       "      <th>2</th>\n",
       "      <td>vhigh</td>\n",
       "      <td>vhigh</td>\n",
       "      <td>2</td>\n",
       "      <td>2</td>\n",
       "      <td>small</td>\n",
       "      <td>high</td>\n",
       "      <td>unacc</td>\n",
       "    </tr>\n",
       "    <tr>\n",
       "      <th>3</th>\n",
       "      <td>vhigh</td>\n",
       "      <td>vhigh</td>\n",
       "      <td>2</td>\n",
       "      <td>2</td>\n",
       "      <td>med</td>\n",
       "      <td>low</td>\n",
       "      <td>unacc</td>\n",
       "    </tr>\n",
       "    <tr>\n",
       "      <th>4</th>\n",
       "      <td>vhigh</td>\n",
       "      <td>vhigh</td>\n",
       "      <td>2</td>\n",
       "      <td>2</td>\n",
       "      <td>med</td>\n",
       "      <td>med</td>\n",
       "      <td>unacc</td>\n",
       "    </tr>\n",
       "  </tbody>\n",
       "</table>\n",
       "</div>"
      ],
      "text/plain": [
       "  buying maintenance doors persons luggage boot safety  class\n",
       "0  vhigh       vhigh     2       2        small    low  unacc\n",
       "1  vhigh       vhigh     2       2        small    med  unacc\n",
       "2  vhigh       vhigh     2       2        small   high  unacc\n",
       "3  vhigh       vhigh     2       2          med    low  unacc\n",
       "4  vhigh       vhigh     2       2          med    med  unacc"
      ]
     },
     "execution_count": 1,
     "metadata": {},
     "output_type": "execute_result"
    }
   ],
   "source": [
    "# Import important libarery \n",
    "\n",
    "import pandas as pd\n",
    "import numpy as np\n",
    "\n",
    "# import dataset and add columm names to the imporated dataset\n",
    "\n",
    "colName = ['buying','maintenance','doors','persons','luggage boot','safety','class']\n",
    "data = pd.read_csv('car.data', names = colName)\n",
    "\n",
    "# Show the the tope 5 obersrvation of the dataset\n",
    "data.head(5)"
   ]
  },
  {
   "cell_type": "code",
   "execution_count": 2,
   "metadata": {
    "id": "0SlRiheqTqEE",
    "outputId": "77d3d64f-8c48-4051-c656-85ecb9720907"
   },
   "outputs": [
    {
     "data": {
      "text/html": [
       "<div>\n",
       "<style scoped>\n",
       "    .dataframe tbody tr th:only-of-type {\n",
       "        vertical-align: middle;\n",
       "    }\n",
       "\n",
       "    .dataframe tbody tr th {\n",
       "        vertical-align: top;\n",
       "    }\n",
       "\n",
       "    .dataframe thead th {\n",
       "        text-align: right;\n",
       "    }\n",
       "</style>\n",
       "<table border=\"1\" class=\"dataframe\">\n",
       "  <thead>\n",
       "    <tr style=\"text-align: right;\">\n",
       "      <th></th>\n",
       "      <th>buying</th>\n",
       "      <th>maintenance</th>\n",
       "      <th>doors</th>\n",
       "      <th>persons</th>\n",
       "      <th>luggage boot</th>\n",
       "      <th>safety</th>\n",
       "      <th>class</th>\n",
       "    </tr>\n",
       "  </thead>\n",
       "  <tbody>\n",
       "    <tr>\n",
       "      <th>count</th>\n",
       "      <td>1728</td>\n",
       "      <td>1728</td>\n",
       "      <td>1728</td>\n",
       "      <td>1728</td>\n",
       "      <td>1728</td>\n",
       "      <td>1728</td>\n",
       "      <td>1728</td>\n",
       "    </tr>\n",
       "    <tr>\n",
       "      <th>unique</th>\n",
       "      <td>4</td>\n",
       "      <td>4</td>\n",
       "      <td>4</td>\n",
       "      <td>3</td>\n",
       "      <td>3</td>\n",
       "      <td>3</td>\n",
       "      <td>4</td>\n",
       "    </tr>\n",
       "    <tr>\n",
       "      <th>top</th>\n",
       "      <td>vhigh</td>\n",
       "      <td>vhigh</td>\n",
       "      <td>2</td>\n",
       "      <td>2</td>\n",
       "      <td>small</td>\n",
       "      <td>low</td>\n",
       "      <td>unacc</td>\n",
       "    </tr>\n",
       "    <tr>\n",
       "      <th>freq</th>\n",
       "      <td>432</td>\n",
       "      <td>432</td>\n",
       "      <td>432</td>\n",
       "      <td>576</td>\n",
       "      <td>576</td>\n",
       "      <td>576</td>\n",
       "      <td>1210</td>\n",
       "    </tr>\n",
       "  </tbody>\n",
       "</table>\n",
       "</div>"
      ],
      "text/plain": [
       "       buying maintenance doors persons luggage boot safety  class\n",
       "count    1728        1728  1728    1728         1728   1728   1728\n",
       "unique      4           4     4       3            3      3      4\n",
       "top     vhigh       vhigh     2       2        small    low  unacc\n",
       "freq      432         432   432     576          576    576   1210"
      ]
     },
     "execution_count": 2,
     "metadata": {},
     "output_type": "execute_result"
    }
   ],
   "source": [
    "# show data description \n",
    "data.describe()"
   ]
  },
  {
   "cell_type": "code",
   "execution_count": 3,
   "metadata": {
    "id": "PurGmEJTTqEF",
    "outputId": "415eaee8-ebb1-4154-b2b5-14be501b608c"
   },
   "outputs": [
    {
     "data": {
      "text/plain": [
       "buying          object\n",
       "maintenance     object\n",
       "doors           object\n",
       "persons         object\n",
       "luggage boot    object\n",
       "safety          object\n",
       "class           object\n",
       "dtype: object"
      ]
     },
     "execution_count": 3,
     "metadata": {},
     "output_type": "execute_result"
    }
   ],
   "source": [
    "# show data type of all the attributes\n",
    "data.dtypes"
   ]
  },
  {
   "cell_type": "markdown",
   "metadata": {
    "id": "vGFqExywTqEF"
   },
   "source": [
    "- Data description and data type funcations shows that all the attributes are categorical"
   ]
  },
  {
   "cell_type": "code",
   "execution_count": 4,
   "metadata": {
    "id": "dLTzmOMzTqEG",
    "outputId": "122a505d-6f0e-4947-c35d-94d4881ec962"
   },
   "outputs": [
    {
     "data": {
      "text/plain": [
       "(1728, 7)"
      ]
     },
     "execution_count": 4,
     "metadata": {},
     "output_type": "execute_result"
    }
   ],
   "source": [
    "#show the number of attributes and observationsdata.shape\n",
    "data.shape"
   ]
  },
  {
   "cell_type": "code",
   "execution_count": 5,
   "metadata": {
    "id": "cc3gupj5TqEH",
    "outputId": "e0d03239-f3e5-4c6a-ea4f-1e6640e67ccf"
   },
   "outputs": [
    {
     "name": "stdout",
     "output_type": "stream",
     "text": [
      "Attribute name: buying\n",
      "-------------------\n",
      "vhigh    432\n",
      "high     432\n",
      "med      432\n",
      "low      432\n",
      "Name: buying, dtype: int64\n",
      "-------------------\n",
      "Attribute name: maintenance\n",
      "-------------------\n",
      "vhigh    432\n",
      "high     432\n",
      "med      432\n",
      "low      432\n",
      "Name: maintenance, dtype: int64\n",
      "-------------------\n",
      "Attribute name: doors\n",
      "-------------------\n",
      "2        432\n",
      "3        432\n",
      "4        432\n",
      "5more    432\n",
      "Name: doors, dtype: int64\n",
      "-------------------\n",
      "Attribute name: persons\n",
      "-------------------\n",
      "2       576\n",
      "4       576\n",
      "more    576\n",
      "Name: persons, dtype: int64\n",
      "-------------------\n",
      "Attribute name: luggage boot\n",
      "-------------------\n",
      "small    576\n",
      "med      576\n",
      "big      576\n",
      "Name: luggage boot, dtype: int64\n",
      "-------------------\n",
      "Attribute name: safety\n",
      "-------------------\n",
      "low     576\n",
      "med     576\n",
      "high    576\n",
      "Name: safety, dtype: int64\n",
      "-------------------\n",
      "Attribute name: class\n",
      "-------------------\n",
      "unacc    1210\n",
      "acc       384\n",
      "good       69\n",
      "vgood      65\n",
      "Name: class, dtype: int64\n",
      "-------------------\n"
     ]
    }
   ],
   "source": [
    "# count class lables\n",
    "col_attribute = ['buying','maintenance','doors','persons','luggage boot','safety','class']\n",
    "for i in col_attribute:\n",
    "    print('Attribute name:',i)\n",
    "    print('-------------------')\n",
    "    print(data[i].value_counts())\n",
    "    print('-------------------')\n"
   ]
  },
  {
   "cell_type": "code",
   "execution_count": 6,
   "metadata": {
    "id": "0T5Vf_yCTqEH",
    "outputId": "53de6888-5e2a-4750-cdd4-b45593bcd178"
   },
   "outputs": [
    {
     "data": {
      "text/plain": [
       "buying          0\n",
       "maintenance     0\n",
       "doors           0\n",
       "persons         0\n",
       "luggage boot    0\n",
       "safety          0\n",
       "dtype: int64"
      ]
     },
     "execution_count": 6,
     "metadata": {},
     "output_type": "execute_result"
    }
   ],
   "source": [
    "#select feature columns from dataset\n",
    "null_data = data.iloc[:,:-1]\n",
    "\n",
    "# find null vule for all attributes and sum totall number\n",
    "null_data.isnull().sum()"
   ]
  },
  {
   "cell_type": "markdown",
   "metadata": {
    "id": "sj2561meTqEI"
   },
   "source": [
    "- Data doesn't require any data processing as it does not contain any missing data"
   ]
  },
  {
   "cell_type": "code",
   "execution_count": 7,
   "metadata": {
    "id": "eDEMsEJQTqEI",
    "outputId": "03c7b820-8f2d-4870-bf8d-00896e86b5ea"
   },
   "outputs": [
    {
     "data": {
      "text/plain": [
       "Text(0, 0.5, 'Safety')"
      ]
     },
     "execution_count": 7,
     "metadata": {},
     "output_type": "execute_result"
    },
    {
     "data": {
      "image/png": "[encoded data removed]",
      "text/plain": [
       "<Figure size 1080x360 with 2 Axes>"
      ]
     },
     "metadata": {
      "needs_background": "light"
     },
     "output_type": "display_data"
    }
   ],
   "source": [
    "import matplotlib.pyplot as plt # library for plotting\n",
    "# line required for inline charts/plots\n",
    "%matplotlib inline\n",
    "# library for evaluation metrics\n",
    "from sklearn import metrics\n",
    "# library for sampling the data sets\n",
    "from sklearn.model_selection import train_test_split\n",
    "# size the figure to fit 2 figures on the same line\n",
    "\n",
    "plt.figure(3,figsize=(15,5))\n",
    "\n",
    "# subplot 1\n",
    "plt.subplot(1,2,1)\n",
    "\n",
    "# scatter plot 1\n",
    "plt.scatter(x=data.iloc[:,0],y=data.iloc[:,1] ,edgecolor='k')\n",
    "plt.xlabel('Buying')\n",
    "plt.ylabel('Maintenance')\n",
    "\n",
    "# subplot 1\n",
    "plt.subplot(1,2,2)\n",
    "\n",
    "# scatter plot 2\n",
    "plt.scatter(x=data.iloc[:,1],y=data.iloc[:,5] ,edgecolor='r')\n",
    "plt.xlabel('Buying')\n",
    "plt.ylabel('Safety')\n",
    "\n"
   ]
  },
  {
   "cell_type": "code",
   "execution_count": 8,
   "metadata": {
    "id": "3OQtHk13TqEJ",
    "outputId": "9f09aa67-204a-41ef-c0a9-228cb90eccba"
   },
   "outputs": [
    {
     "data": {
      "text/plain": [
       "Text(0, 0.5, 'luggage boot')"
      ]
     },
     "execution_count": 8,
     "metadata": {},
     "output_type": "execute_result"
    },
    {
     "data": {
      "image/png": "[encoded data removed]",
      "text/plain": [
       "<Figure size 1080x360 with 2 Axes>"
      ]
     },
     "metadata": {
      "needs_background": "light"
     },
     "output_type": "display_data"
    }
   ],
   "source": [
    "# size the figure to fit 2 figures on the same line\n",
    "plt.figure(3,figsize=(15,5))\n",
    "\n",
    "# subplot 1\n",
    "plt.subplot(1,2,1)\n",
    "\n",
    "# scatter plot 1\n",
    "plt.scatter(x=data.iloc[:,0],y=data.iloc[:,2] ,edgecolor='k')\n",
    "plt.xlabel('Buying')\n",
    "plt.ylabel('doors')\n",
    "\n",
    "# subplot 1\n",
    "plt.subplot(1,2,2)\n",
    "\n",
    "# scatter plot 2\n",
    "plt.scatter(x=data.iloc[:,0],y=data.iloc[:,4] ,edgecolor='r')\n",
    "plt.xlabel('Buying')\n",
    "plt.ylabel('luggage boot')"
   ]
  },
  {
   "cell_type": "markdown",
   "metadata": {
    "id": "89Hszp_iTqEJ"
   },
   "source": [
    "- attributes don't show any correlations between each others, all attributes will be used to train the module"
   ]
  },
  {
   "cell_type": "code",
   "execution_count": 9,
   "metadata": {
    "id": "GnonhbtvTqEJ",
    "outputId": "ba63c7ce-3832-4cea-e343-ff4de47a237f"
   },
   "outputs": [
    {
     "data": {
      "text/plain": [
       "<AxesSubplot:xlabel='class', ylabel='count'>"
      ]
     },
     "execution_count": 9,
     "metadata": {},
     "output_type": "execute_result"
    },
    {
     "data": {
      "image/png": "[encoded data removed]",
      "text/plain": [
       "<Figure size 576x360 with 1 Axes>"
      ]
     },
     "metadata": {
      "needs_background": "light"
     },
     "output_type": "display_data"
    }
   ],
   "source": [
    "import seaborn as sns\n",
    "import matplotlib.pyplot as plt\n",
    "%matplotlib inline\n",
    "\n",
    "plt.figure(figsize=(8,5))\n",
    "# count rows of each classes\n",
    "sns.countplot(x=\"class\", data=data)"
   ]
  },
  {
   "cell_type": "code",
   "execution_count": 10,
   "metadata": {
    "id": "cRgNaCL8TqEK",
    "outputId": "c532b28f-ed99-4566-ed26-f0b85482929d"
   },
   "outputs": [
    {
     "data": {
      "text/html": [
       "<div>\n",
       "<style scoped>\n",
       "    .dataframe tbody tr th:only-of-type {\n",
       "        vertical-align: middle;\n",
       "    }\n",
       "\n",
       "    .dataframe tbody tr th {\n",
       "        vertical-align: top;\n",
       "    }\n",
       "\n",
       "    .dataframe thead th {\n",
       "        text-align: right;\n",
       "    }\n",
       "</style>\n",
       "<table border=\"1\" class=\"dataframe\">\n",
       "  <thead>\n",
       "    <tr style=\"text-align: right;\">\n",
       "      <th></th>\n",
       "      <th>buying</th>\n",
       "      <th>maintenance</th>\n",
       "      <th>doors</th>\n",
       "      <th>persons</th>\n",
       "      <th>luggage boot</th>\n",
       "      <th>safety</th>\n",
       "      <th>class</th>\n",
       "    </tr>\n",
       "  </thead>\n",
       "  <tbody>\n",
       "    <tr>\n",
       "      <th>0</th>\n",
       "      <td>4</td>\n",
       "      <td>4</td>\n",
       "      <td>2</td>\n",
       "      <td>2</td>\n",
       "      <td>1</td>\n",
       "      <td>1</td>\n",
       "      <td>unacc</td>\n",
       "    </tr>\n",
       "    <tr>\n",
       "      <th>1</th>\n",
       "      <td>4</td>\n",
       "      <td>4</td>\n",
       "      <td>2</td>\n",
       "      <td>2</td>\n",
       "      <td>1</td>\n",
       "      <td>2</td>\n",
       "      <td>unacc</td>\n",
       "    </tr>\n",
       "    <tr>\n",
       "      <th>2</th>\n",
       "      <td>4</td>\n",
       "      <td>4</td>\n",
       "      <td>2</td>\n",
       "      <td>2</td>\n",
       "      <td>1</td>\n",
       "      <td>3</td>\n",
       "      <td>unacc</td>\n",
       "    </tr>\n",
       "    <tr>\n",
       "      <th>3</th>\n",
       "      <td>4</td>\n",
       "      <td>4</td>\n",
       "      <td>2</td>\n",
       "      <td>2</td>\n",
       "      <td>2</td>\n",
       "      <td>1</td>\n",
       "      <td>unacc</td>\n",
       "    </tr>\n",
       "    <tr>\n",
       "      <th>4</th>\n",
       "      <td>4</td>\n",
       "      <td>4</td>\n",
       "      <td>2</td>\n",
       "      <td>2</td>\n",
       "      <td>2</td>\n",
       "      <td>2</td>\n",
       "      <td>unacc</td>\n",
       "    </tr>\n",
       "    <tr>\n",
       "      <th>5</th>\n",
       "      <td>4</td>\n",
       "      <td>4</td>\n",
       "      <td>2</td>\n",
       "      <td>2</td>\n",
       "      <td>2</td>\n",
       "      <td>3</td>\n",
       "      <td>unacc</td>\n",
       "    </tr>\n",
       "    <tr>\n",
       "      <th>6</th>\n",
       "      <td>4</td>\n",
       "      <td>4</td>\n",
       "      <td>2</td>\n",
       "      <td>2</td>\n",
       "      <td>3</td>\n",
       "      <td>1</td>\n",
       "      <td>unacc</td>\n",
       "    </tr>\n",
       "    <tr>\n",
       "      <th>7</th>\n",
       "      <td>4</td>\n",
       "      <td>4</td>\n",
       "      <td>2</td>\n",
       "      <td>2</td>\n",
       "      <td>3</td>\n",
       "      <td>2</td>\n",
       "      <td>unacc</td>\n",
       "    </tr>\n",
       "    <tr>\n",
       "      <th>8</th>\n",
       "      <td>4</td>\n",
       "      <td>4</td>\n",
       "      <td>2</td>\n",
       "      <td>2</td>\n",
       "      <td>3</td>\n",
       "      <td>3</td>\n",
       "      <td>unacc</td>\n",
       "    </tr>\n",
       "    <tr>\n",
       "      <th>9</th>\n",
       "      <td>4</td>\n",
       "      <td>4</td>\n",
       "      <td>2</td>\n",
       "      <td>4</td>\n",
       "      <td>1</td>\n",
       "      <td>1</td>\n",
       "      <td>unacc</td>\n",
       "    </tr>\n",
       "  </tbody>\n",
       "</table>\n",
       "</div>"
      ],
      "text/plain": [
       "   buying  maintenance  doors  persons  luggage boot  safety  class\n",
       "0       4            4      2        2             1       1  unacc\n",
       "1       4            4      2        2             1       2  unacc\n",
       "2       4            4      2        2             1       3  unacc\n",
       "3       4            4      2        2             2       1  unacc\n",
       "4       4            4      2        2             2       2  unacc\n",
       "5       4            4      2        2             2       3  unacc\n",
       "6       4            4      2        2             3       1  unacc\n",
       "7       4            4      2        2             3       2  unacc\n",
       "8       4            4      2        2             3       3  unacc\n",
       "9       4            4      2        4             1       1  unacc"
      ]
     },
     "execution_count": 10,
     "metadata": {},
     "output_type": "execute_result"
    }
   ],
   "source": [
    "# Convert categorical variable to numeric\n",
    "cleanup_nums = {\"buying\": {\"low\": 1, \"med\": 2, \"high\": 3, \"vhigh\": 4},\n",
    "                \"maintenance\": {\"low\": 1, \"med\": 2, \"high\": 3, \"vhigh\": 4 },\n",
    "                \"doors\": {\"2\": 2,\"2\": 2,\"3\": 3, \"4\": 4, \"5more\": 5 },\n",
    "                \"persons\": {\"2\": 2, \"4\": 4, \"more\": 5 },\n",
    "                \"luggage boot\": {\"small\": 1, \"med\": 2, \"big\": 3 },\n",
    "                \"safety\": {\"low\": 1, \"med\": 2, \"high\": 3 }}\n",
    "\n",
    "data.replace(cleanup_nums, inplace=True)\n",
    "data.head(10)"
   ]
  },
  {
   "cell_type": "code",
   "execution_count": 11,
   "metadata": {
    "id": "8sBTYWPOTqEK",
    "outputId": "ab168e2f-abbe-495b-a30a-dfe5b937a702"
   },
   "outputs": [
    {
     "name": "stdout",
     "output_type": "stream",
     "text": [
      "(1728, 6)\n",
      "(1728, 1)\n"
     ]
    }
   ],
   "source": [
    "# import machine learning library to sample the data\n",
    "from sklearn.model_selection import train_test_split\n",
    "\n",
    "# For this example, we use buying,maintenance,doors,persons,luggage boot and safety attributes \n",
    "x=data.iloc[:,:-1]\n",
    "y=data.iloc[:,-1:]\n",
    "\n",
    "print(x.shape)\n",
    "print(y.shape)\n",
    "\n",
    "# default is 75% / 25% train-test split\n",
    "x_train,x_test,y_train,y_test=train_test_split(x,y,test_size=0.3,random_state=0)"
   ]
  },
  {
   "cell_type": "code",
   "execution_count": 12,
   "metadata": {
    "id": "ClNdT7NnTqEL",
    "outputId": "ded36f08-8c15-4eba-bc38-a6d9cbe148da"
   },
   "outputs": [
    {
     "name": "stdout",
     "output_type": "stream",
     "text": [
      "-------- x axis test ----------\n",
      "      buying  maintenance  doors  persons  luggage boot  safety\n",
      "1318       1            4      2        5             2       2\n",
      "124        4            3      2        4             3       2\n",
      "648        3            2      2        2             1       1\n",
      "249        4            2      3        2             3       1\n",
      "1599       1            2      5        2             3       1\n",
      "...      ...          ...    ...      ...           ...     ...\n",
      "906        2            4      3        4             3       1\n",
      "309        4            2      5        4             2       1\n",
      "838        3            1      5        2             1       2\n",
      "1076       2            3      5        5             2       3\n",
      "1453       1            3      3        5             2       2\n",
      "\n",
      "[519 rows x 6 columns]\n",
      "-------- x axis train ---------\n",
      "      buying  maintenance  doors  persons  luggage boot  safety\n",
      "580        3            3      3        4             2       2\n",
      "1214       2            1      2        5             3       3\n",
      "1665       1            1      3        5             1       1\n",
      "661        3            2      2        4             2       2\n",
      "587        3            3      3        5             1       3\n",
      "...      ...          ...    ...      ...           ...     ...\n",
      "835        3            1      4        5             3       2\n",
      "1216       2            1      3        2             1       2\n",
      "1653       1            1      3        2             3       1\n",
      "559        3            3      2        5             1       2\n",
      "684        3            2      3        4             1       1\n",
      "\n",
      "[1209 rows x 6 columns]\n",
      "-------- y axis test ----------\n",
      "      class\n",
      "1318  unacc\n",
      "124   unacc\n",
      "648   unacc\n",
      "249   unacc\n",
      "1599  unacc\n",
      "...     ...\n",
      "906   unacc\n",
      "309   unacc\n",
      "838   unacc\n",
      "1076    acc\n",
      "1453    acc\n",
      "\n",
      "[519 rows x 1 columns]\n",
      "-------- y axis train ---------\n",
      "      class\n",
      "580   unacc\n",
      "1214  vgood\n",
      "1665  unacc\n",
      "661   unacc\n",
      "587     acc\n",
      "...     ...\n",
      "835     acc\n",
      "1216  unacc\n",
      "1653  unacc\n",
      "559   unacc\n",
      "684   unacc\n",
      "\n",
      "[1209 rows x 1 columns]\n",
      "*******************************\n"
     ]
    }
   ],
   "source": [
    "       \n",
    "# import machine learning library to standardize the data\n",
    "from sklearn.preprocessing import StandardScaler\n",
    "sc=StandardScaler()\n",
    "sc.fit_transform(x_train,y_train)\n",
    "sc.fit(x_test,y_test)\n",
    "\n",
    "print('-------- x axis test ----------')\n",
    "print(x_test)\n",
    "print('-------- x axis train ---------')\n",
    "print(x_train)\n",
    "print('-------- y axis test ----------')\n",
    "print(y_test)\n",
    "print('-------- y axis train ---------')\n",
    "print(y_train)\n",
    "print('*******************************')"
   ]
  },
  {
   "cell_type": "code",
   "execution_count": 13,
   "metadata": {
    "id": "HIkluj_MTqEL",
    "outputId": "464017ce-6c55-4270-e83e-c3f6f2643d88"
   },
   "outputs": [
    {
     "name": "stdout",
     "output_type": "stream",
     "text": [
      "The optimal number of neighbors is 7\n",
      "The optimal score is 0.96\n"
     ]
    },
    {
     "data": {
      "image/png": "[encoded data removed]",
      "text/plain": [
       "<Figure size 1080x360 with 1 Axes>"
      ]
     },
     "metadata": {
      "needs_background": "light"
     },
     "output_type": "display_data"
    }
   ],
   "source": [
    "# import KNN model as 'KNeighborsClassifier'\n",
    "from sklearn.neighbors import KNeighborsClassifier\n",
    "# empty variable for storing the KNN metrics\n",
    "scores=[]\n",
    "# We try different values of k for the KNN (from k=1 up to k=26)\n",
    "lrange=list(range(1,20))\n",
    "# loop the KNN process\n",
    "for k in lrange:\n",
    " # input the k value and 'distance' measure\n",
    " knn=KNeighborsClassifier(n_neighbors=k)\n",
    " # input the train data to train KNN\n",
    " knn.fit(x_train,y_train.values.ravel())\n",
    " # see KNN prediction by inputting the test data\n",
    " y_pred=knn.predict(x_test)\n",
    " # append the performance metric (accuracy)\n",
    " scores.append(metrics.accuracy_score(y_test,y_pred))\n",
    "plt.figure(2,figsize=(15,5))\n",
    "\n",
    "\n",
    "optimal_k = lrange[scores.index(max(scores))]\n",
    "print(\"The optimal number of neighbors is %d\" % optimal_k)\n",
    "print(\"The optimal score is %.2f\" % max(scores))\n",
    "\n",
    "# plot the results\n",
    "plt.plot(lrange, scores,ls='dashed')\n",
    "plt.xlabel('Value of k for KNN')\n",
    "plt.ylabel('Accuracy Score')\n",
    "plt.title('Accuracy Scores for Values of k of k-Nearest-Neighbors')\n",
    "plt.show()"
   ]
  },
  {
   "cell_type": "code",
   "execution_count": 14,
   "metadata": {
    "id": "K5q9Vx1yTqEM",
    "outputId": "87357fc3-7b99-4504-9cde-aeec202152fc"
   },
   "outputs": [
    {
     "name": "stdout",
     "output_type": "stream",
     "text": [
      "The optimal number of neighbors is 6\n",
      "The optimal score is 0.96\n"
     ]
    },
    {
     "data": {
      "image/png": "[encoded data removed]",
      "text/plain": [
       "<Figure size 1080x360 with 1 Axes>"
      ]
     },
     "metadata": {
      "needs_background": "light"
     },
     "output_type": "display_data"
    }
   ],
   "source": [
    "# empty variable for storing the KNN metrics\n",
    "scores=[]\n",
    "# We try different values of k for the KNN (from k=1 up to k=26)\n",
    "lrange=list(range(1,20))\n",
    "# loop the KNN process\n",
    "for k in lrange:\n",
    "# input the k value and 'distance' measure\n",
    "    knn=KNeighborsClassifier(n_neighbors=k, weights='distance', algorithm='auto')\n",
    "# input the train data to train KNN\n",
    "    knn.fit(x_train,y_train.values.ravel())\n",
    "# see KNN prediction by inputting the test data\n",
    "    y_pred=knn.predict(x_test)\n",
    "# append the performance metric (accuracy)\n",
    "    scores.append(metrics.accuracy_score(y_test,y_pred))\n",
    "    optimal_k = lrange[scores.index(max(scores))]\n",
    "    \n",
    "print(\"The optimal number of neighbors is %d\" % optimal_k)\n",
    "print(\"The optimal score is %.2f\" % max(scores))\n",
    "\n",
    "plt.figure(2,figsize=(15,5))\n",
    "\n",
    "# plot the results\n",
    "plt.plot(lrange, scores,ls='dashed')\n",
    "plt.xlabel('Value of k for KNN')\n",
    "plt.ylabel('Accuracy Score')\n",
    "plt.title('Accuracy Scores for Values of k of k-Nearest-Neighbors')\n",
    "plt.show()"
   ]
  },
  {
   "cell_type": "code",
   "execution_count": 16,
   "metadata": {
    "id": "c6TdKwPiTqEN",
    "outputId": "37f1d7cc-3423-4bc8-ceaf-2457412f9c73"
   },
   "outputs": [
    {
     "name": "stdout",
     "output_type": "stream",
     "text": [
      "              precision    recall  f1-score   support\n",
      "\n",
      "         acc       0.90      0.91      0.91       115\n",
      "        good       0.90      0.72      0.80        25\n",
      "       unacc       0.98      0.99      0.99       363\n",
      "       vgood       0.85      0.69      0.76        16\n",
      "\n",
      "    accuracy                           0.95       519\n",
      "   macro avg       0.91      0.83      0.86       519\n",
      "weighted avg       0.95      0.95      0.95       519\n",
      "\n",
      "The Cross valadtion score is:  0.9396145536847159\n"
     ]
    },
    {
     "data": {
      "image/png": "[encoded data removed]",
      "text/plain": [
       "<Figure size 720x360 with 2 Axes>"
      ]
     },
     "metadata": {
      "needs_background": "light"
     },
     "output_type": "display_data"
    }
   ],
   "source": [
    "# Import the DecisionTreeClassifier\n",
    "from sklearn.metrics import classification_report, confusion_matrix\n",
    "from sklearn.metrics import accuracy_score, confusion_matrix, precision_recall_fscore_support\n",
    "from sklearn.model_selection import cross_val_score\n",
    "import seaborn as sns\n",
    "\n",
    "# Creates a confusion matrix\n",
    "cm = confusion_matrix(y_test, y_pred)\n",
    "# Transform to dataframe for easier plotting\n",
    "cm_df = pd.DataFrame(cm, index = ['unacc','acc','good','v-good'],\n",
    "columns = ['unacc','acc','good','v-good'])\n",
    "# plot the confusion matrix\n",
    "plt.figure(figsize=(10,5))\n",
    "sns.heatmap(cm_df, annot=True, fmt='g')\n",
    "plt.ylabel('True label')\n",
    "plt.xlabel('Predicted label')\n",
    "\n",
    "print(classification_report(y_test,y_pred,labels=np.unique(y_pred)))\n",
    "score = cross_val_score(knn, x_train, y_train.values.ravel(), cv=5, scoring='accuracy')\n",
    "print(\"The Cross valadtion score is: \",score.mean())"
   ]
  },
  {
   "cell_type": "code",
   "execution_count": 17,
   "metadata": {
    "id": "vv3-T56ETqEN",
    "outputId": "71bff9d7-93dd-443a-8a9a-9c9cd2643d65"
   },
   "outputs": [
    {
     "name": "stdout",
     "output_type": "stream",
     "text": [
      "The optimal number of neighbors is 12\n",
      "The optimal score is 0.96\n"
     ]
    },
    {
     "data": {
      "image/png": "[encoded data removed]",
      "text/plain": [
       "<Figure size 1080x360 with 1 Axes>"
      ]
     },
     "metadata": {
      "needs_background": "light"
     },
     "output_type": "display_data"
    }
   ],
   "source": [
    "# import library for cross validation scoring\n",
    "from sklearn.model_selection import cross_val_score\n",
    "\n",
    "# empty variable for storing the KNN metrics\n",
    "scores=[]\n",
    "\n",
    "# We try different values of k for the KNN (from k=1 up to k=26)\n",
    "lrange=list(range(1,20))\n",
    "\n",
    "# loop the KNN process\n",
    "for k in lrange:    \n",
    "# input the k value and 'distance' measure\n",
    "    knn=KNeighborsClassifier(n_neighbors=k, weights='distance', algorithm='auto')\n",
    "# get score for the 10 fold cross validation\n",
    "    score = cross_val_score(knn, x_train, y_train.values.ravel(), cv=20, scoring='accuracy')\n",
    "    scores.append(score.mean())\n",
    "    optimal_k = lrange[scores.index(max(scores))]\n",
    "    \n",
    "print(\"The optimal number of neighbors is %d\" % optimal_k)\n",
    "print(\"The optimal score is %.2f\" % max(scores))\n",
    "\n",
    "plt.figure(2,figsize=(15,5))\n",
    "\n",
    "# plot the results\n",
    "plt.plot(lrange, scores,ls='dashed')\n",
    "plt.xlabel('Value of k for KNN')\n",
    "plt.ylabel('Accuracy Score')\n",
    "plt.title('Accuracy Scores for Values of k of k-Nearest-Neighbors')\n",
    "plt.show()"
   ]
  },
  {
   "cell_type": "markdown",
   "metadata": {
    "id": "UoGn_DKsTqEO",
    "tags": [
     "1.0"
    ]
   },
   "source": [
    "- Using KNN with default configuration shows that k= 7 is the most optimized for higher model accuracy.\n",
    "- Using KNN with custom configuration shows that k= 6 is the most optimized for higher model accuracy, which is lower than default configuration.\n",
    "- Using cross validation shows that k = 12 is most optimized for higher model accuracy, which is higher than the two other methods\n",
    "- Using cross validation doesn’t affect the accuracy of the model.\n"
   ]
  }
 ],
 "metadata": {
  "colab": {
   "include_colab_link": true,
   "name": "KNN Lab.ipynb",
   "provenance": [],
   "toc_visible": true
  },
  "kernelspec": {
   "display_name": "Python 3",
   "language": "python",
   "name": "python3"
  },
  "language_info": {
   "codemirror_mode": {
    "name": "ipython",
    "version": 3
   },
   "file_extension": ".py",
   "mimetype": "text/x-python",
   "name": "python",
   "nbconvert_exporter": "python",
   "pygments_lexer": "ipython3",
   "version": "3.8.10"
  }
 },
 "nbformat": 4,
 "nbformat_minor": 4
}
