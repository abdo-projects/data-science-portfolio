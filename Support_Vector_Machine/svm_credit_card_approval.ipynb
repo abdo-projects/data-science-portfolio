{
 "cells": [
  {
   "cell_type": "code",
   "execution_count": 1,
   "metadata": {
    "id": "fhxWbmGEjrde"
   },
   "outputs": [],
   "source": [
    "# Import important libarery \n",
    "import pandas as pd\n",
    "import numpy as np\n",
    "import matplotlib.pyplot as plt\n",
    "import seaborn as sns\n",
    "import time\n",
    "from sklearn.model_selection import train_test_split\n",
    "from sklearn.metrics import accuracy_score, confusion_matrix, precision_recall_fscore_support\n",
    "pd.set_option('display.max_rows', None)"
   ]
  },
  {
   "cell_type": "markdown",
   "metadata": {
    "id": "Zzz1KrKgjrdp"
   },
   "source": [
    "# Data Description "
   ]
  },
  {
   "cell_type": "code",
   "execution_count": 2,
   "metadata": {
    "id": "g8e1eNeNjrdr",
    "outputId": "71e5ff07-280e-46b4-ca85-e17b99126ff6"
   },
   "outputs": [
    {
     "data": {
      "text/html": [
       "<div>\n",
       "<style scoped>\n",
       "    .dataframe tbody tr th:only-of-type {\n",
       "        vertical-align: middle;\n",
       "    }\n",
       "\n",
       "    .dataframe tbody tr th {\n",
       "        vertical-align: top;\n",
       "    }\n",
       "\n",
       "    .dataframe thead th {\n",
       "        text-align: right;\n",
       "    }\n",
       "</style>\n",
       "<table border=\"1\" class=\"dataframe\">\n",
       "  <thead>\n",
       "    <tr style=\"text-align: right;\">\n",
       "      <th></th>\n",
       "      <th>Male</th>\n",
       "      <th>Age</th>\n",
       "      <th>Debt</th>\n",
       "      <th>Married</th>\n",
       "      <th>BankCustomer</th>\n",
       "      <th>EducationLevel</th>\n",
       "      <th>Ethnicity</th>\n",
       "      <th>YearsEmployed</th>\n",
       "      <th>PriorDefault</th>\n",
       "      <th>Employed</th>\n",
       "      <th>CreditScore</th>\n",
       "      <th>DriversLicense</th>\n",
       "      <th>Citizen</th>\n",
       "      <th>ZipCode</th>\n",
       "      <th>Income</th>\n",
       "      <th>Approved</th>\n",
       "    </tr>\n",
       "  </thead>\n",
       "  <tbody>\n",
       "    <tr>\n",
       "      <th>0</th>\n",
       "      <td>b</td>\n",
       "      <td>30.83</td>\n",
       "      <td>0.000</td>\n",
       "      <td>u</td>\n",
       "      <td>g</td>\n",
       "      <td>w</td>\n",
       "      <td>v</td>\n",
       "      <td>1.25</td>\n",
       "      <td>t</td>\n",
       "      <td>t</td>\n",
       "      <td>1</td>\n",
       "      <td>f</td>\n",
       "      <td>g</td>\n",
       "      <td>00202</td>\n",
       "      <td>0</td>\n",
       "      <td>+</td>\n",
       "    </tr>\n",
       "    <tr>\n",
       "      <th>1</th>\n",
       "      <td>a</td>\n",
       "      <td>58.67</td>\n",
       "      <td>4.460</td>\n",
       "      <td>u</td>\n",
       "      <td>g</td>\n",
       "      <td>q</td>\n",
       "      <td>h</td>\n",
       "      <td>3.04</td>\n",
       "      <td>t</td>\n",
       "      <td>t</td>\n",
       "      <td>6</td>\n",
       "      <td>f</td>\n",
       "      <td>g</td>\n",
       "      <td>00043</td>\n",
       "      <td>560</td>\n",
       "      <td>+</td>\n",
       "    </tr>\n",
       "    <tr>\n",
       "      <th>2</th>\n",
       "      <td>a</td>\n",
       "      <td>24.50</td>\n",
       "      <td>0.500</td>\n",
       "      <td>u</td>\n",
       "      <td>g</td>\n",
       "      <td>q</td>\n",
       "      <td>h</td>\n",
       "      <td>1.50</td>\n",
       "      <td>t</td>\n",
       "      <td>f</td>\n",
       "      <td>0</td>\n",
       "      <td>f</td>\n",
       "      <td>g</td>\n",
       "      <td>00280</td>\n",
       "      <td>824</td>\n",
       "      <td>+</td>\n",
       "    </tr>\n",
       "    <tr>\n",
       "      <th>3</th>\n",
       "      <td>b</td>\n",
       "      <td>27.83</td>\n",
       "      <td>1.540</td>\n",
       "      <td>u</td>\n",
       "      <td>g</td>\n",
       "      <td>w</td>\n",
       "      <td>v</td>\n",
       "      <td>3.75</td>\n",
       "      <td>t</td>\n",
       "      <td>t</td>\n",
       "      <td>5</td>\n",
       "      <td>t</td>\n",
       "      <td>g</td>\n",
       "      <td>00100</td>\n",
       "      <td>3</td>\n",
       "      <td>+</td>\n",
       "    </tr>\n",
       "    <tr>\n",
       "      <th>4</th>\n",
       "      <td>b</td>\n",
       "      <td>20.17</td>\n",
       "      <td>5.625</td>\n",
       "      <td>u</td>\n",
       "      <td>g</td>\n",
       "      <td>w</td>\n",
       "      <td>v</td>\n",
       "      <td>1.71</td>\n",
       "      <td>t</td>\n",
       "      <td>f</td>\n",
       "      <td>0</td>\n",
       "      <td>f</td>\n",
       "      <td>s</td>\n",
       "      <td>00120</td>\n",
       "      <td>0</td>\n",
       "      <td>+</td>\n",
       "    </tr>\n",
       "  </tbody>\n",
       "</table>\n",
       "</div>"
      ],
      "text/plain": [
       "  Male    Age   Debt Married BankCustomer EducationLevel Ethnicity  \\\n",
       "0    b  30.83  0.000       u            g              w         v   \n",
       "1    a  58.67  4.460       u            g              q         h   \n",
       "2    a  24.50  0.500       u            g              q         h   \n",
       "3    b  27.83  1.540       u            g              w         v   \n",
       "4    b  20.17  5.625       u            g              w         v   \n",
       "\n",
       "   YearsEmployed PriorDefault Employed  CreditScore DriversLicense Citizen  \\\n",
       "0           1.25            t        t            1              f       g   \n",
       "1           3.04            t        t            6              f       g   \n",
       "2           1.50            t        f            0              f       g   \n",
       "3           3.75            t        t            5              t       g   \n",
       "4           1.71            t        f            0              f       s   \n",
       "\n",
       "  ZipCode  Income Approved  \n",
       "0   00202       0        +  \n",
       "1   00043     560        +  \n",
       "2   00280     824        +  \n",
       "3   00100       3        +  \n",
       "4   00120       0        +  "
      ]
     },
     "metadata": {},
     "output_type": "display_data"
    }
   ],
   "source": [
    "# import dataset and add columm names to the imporated dataset\n",
    "\n",
    "colName = ['Male','Age','Debt','Married','BankCustomer','EducationLevel','Ethnicity','YearsEmployed','PriorDefault','Employed','CreditScore',\n",
    "           'DriversLicense','Citizen','ZipCode','Income','Approved']\n",
    "df = pd.read_csv('https://raw.githubusercontent.com/abdo-projects/data-science-portfolio/main/Dataset/cc_approvals.data', names = colName)\n",
    "\n",
    "\n",
    "# Show the the tope 5 obersrvation of the dataset\n",
    "display(df.head(5))\n"
   ]
  },
  {
   "cell_type": "code",
   "execution_count": 3,
   "metadata": {
    "id": "z5fcB1Kvjrdt",
    "outputId": "68d1b748-7b09-40c0-c9f3-ec9395cbfd46"
   },
   "outputs": [
    {
     "data": {
      "text/html": [
       "<div>\n",
       "<style scoped>\n",
       "    .dataframe tbody tr th:only-of-type {\n",
       "        vertical-align: middle;\n",
       "    }\n",
       "\n",
       "    .dataframe tbody tr th {\n",
       "        vertical-align: top;\n",
       "    }\n",
       "\n",
       "    .dataframe thead th {\n",
       "        text-align: right;\n",
       "    }\n",
       "</style>\n",
       "<table border=\"1\" class=\"dataframe\">\n",
       "  <thead>\n",
       "    <tr style=\"text-align: right;\">\n",
       "      <th></th>\n",
       "      <th>Debt</th>\n",
       "      <th>YearsEmployed</th>\n",
       "      <th>CreditScore</th>\n",
       "      <th>Income</th>\n",
       "    </tr>\n",
       "  </thead>\n",
       "  <tbody>\n",
       "    <tr>\n",
       "      <th>count</th>\n",
       "      <td>690.000000</td>\n",
       "      <td>690.000000</td>\n",
       "      <td>690.00000</td>\n",
       "      <td>690.000000</td>\n",
       "    </tr>\n",
       "    <tr>\n",
       "      <th>mean</th>\n",
       "      <td>4.758725</td>\n",
       "      <td>2.223406</td>\n",
       "      <td>2.40000</td>\n",
       "      <td>1017.385507</td>\n",
       "    </tr>\n",
       "    <tr>\n",
       "      <th>std</th>\n",
       "      <td>4.978163</td>\n",
       "      <td>3.346513</td>\n",
       "      <td>4.86294</td>\n",
       "      <td>5210.102598</td>\n",
       "    </tr>\n",
       "    <tr>\n",
       "      <th>min</th>\n",
       "      <td>0.000000</td>\n",
       "      <td>0.000000</td>\n",
       "      <td>0.00000</td>\n",
       "      <td>0.000000</td>\n",
       "    </tr>\n",
       "    <tr>\n",
       "      <th>25%</th>\n",
       "      <td>1.000000</td>\n",
       "      <td>0.165000</td>\n",
       "      <td>0.00000</td>\n",
       "      <td>0.000000</td>\n",
       "    </tr>\n",
       "    <tr>\n",
       "      <th>50%</th>\n",
       "      <td>2.750000</td>\n",
       "      <td>1.000000</td>\n",
       "      <td>0.00000</td>\n",
       "      <td>5.000000</td>\n",
       "    </tr>\n",
       "    <tr>\n",
       "      <th>75%</th>\n",
       "      <td>7.207500</td>\n",
       "      <td>2.625000</td>\n",
       "      <td>3.00000</td>\n",
       "      <td>395.500000</td>\n",
       "    </tr>\n",
       "    <tr>\n",
       "      <th>max</th>\n",
       "      <td>28.000000</td>\n",
       "      <td>28.500000</td>\n",
       "      <td>67.00000</td>\n",
       "      <td>100000.000000</td>\n",
       "    </tr>\n",
       "  </tbody>\n",
       "</table>\n",
       "</div>"
      ],
      "text/plain": [
       "             Debt  YearsEmployed  CreditScore         Income\n",
       "count  690.000000     690.000000    690.00000     690.000000\n",
       "mean     4.758725       2.223406      2.40000    1017.385507\n",
       "std      4.978163       3.346513      4.86294    5210.102598\n",
       "min      0.000000       0.000000      0.00000       0.000000\n",
       "25%      1.000000       0.165000      0.00000       0.000000\n",
       "50%      2.750000       1.000000      0.00000       5.000000\n",
       "75%      7.207500       2.625000      3.00000     395.500000\n",
       "max     28.000000      28.500000     67.00000  100000.000000"
      ]
     },
     "metadata": {},
     "output_type": "display_data"
    }
   ],
   "source": [
    "#Show data desccription\n",
    "\n",
    "display(df.describe())"
   ]
  },
  {
   "cell_type": "code",
   "execution_count": 4,
   "metadata": {
    "id": "FQRxqmIejrdt",
    "outputId": "78b76feb-c412-490e-d83d-8fb404b4e284"
   },
   "outputs": [
    {
     "data": {
      "text/plain": [
       "(690, 16)"
      ]
     },
     "metadata": {},
     "output_type": "display_data"
    }
   ],
   "source": [
    "#show data shape\n",
    "\n",
    "display(df.shape)"
   ]
  },
  {
   "cell_type": "code",
   "execution_count": 5,
   "metadata": {
    "id": "8LKoTO8zjrdu",
    "outputId": "769aee5a-0755-4b90-bea8-26955ecbb418"
   },
   "outputs": [
    {
     "data": {
      "text/plain": [
       "Male               object\n",
       "Age                object\n",
       "Debt              float64\n",
       "Married            object\n",
       "BankCustomer       object\n",
       "EducationLevel     object\n",
       "Ethnicity          object\n",
       "YearsEmployed     float64\n",
       "PriorDefault       object\n",
       "Employed           object\n",
       "CreditScore         int64\n",
       "DriversLicense     object\n",
       "Citizen            object\n",
       "ZipCode            object\n",
       "Income              int64\n",
       "Approved           object\n",
       "dtype: object"
      ]
     },
     "metadata": {},
     "output_type": "display_data"
    }
   ],
   "source": [
    "# show data type\n",
    "\n",
    "display(df.dtypes)"
   ]
  },
  {
   "cell_type": "code",
   "execution_count": 6,
   "metadata": {
    "id": "XBbdeK-2jrdv",
    "outputId": "90ad860b-1556-4917-bd4c-d438adc8b87f"
   },
   "outputs": [
    {
     "name": "stdout",
     "output_type": "stream",
     "text": [
      "-    383\n",
      "+    307\n",
      "Name: Approved, dtype: int64\n"
     ]
    },
    {
     "data": {
      "text/plain": [
       "<AxesSubplot:xlabel='Approved', ylabel='count'>"
      ]
     },
     "execution_count": 6,
     "metadata": {},
     "output_type": "execute_result"
    },
    {
     "data": {
      "image/png": "[encoded data removed]",
      "text/plain": [
       "<Figure size 576x360 with 1 Axes>"
      ]
     },
     "metadata": {
      "needs_background": "light"
     },
     "output_type": "display_data"
    }
   ],
   "source": [
    "plt.figure(figsize=(8,5))\n",
    "# count number of approved and non approved applications \n",
    "\n",
    "print(df['Approved'].value_counts())\n",
    "\n",
    "# count rows of each classes\n",
    "\n",
    "sns.countplot(x=\"Approved\", data=df)"
   ]
  },
  {
   "cell_type": "code",
   "execution_count": 7,
   "metadata": {
    "id": "eGziTAg2jrdv",
    "outputId": "e3c82f5e-b102-4548-ec0b-cec865cbbf00"
   },
   "outputs": [
    {
     "name": "stdout",
     "output_type": "stream",
     "text": [
      "Attribute Names Male\n",
      "b    468\n",
      "a    210\n",
      "?     12\n",
      "Name: Male, dtype: int64\n",
      "__________________\n",
      "Attribute Names Married\n",
      "u    519\n",
      "y    163\n",
      "?      6\n",
      "l      2\n",
      "Name: Married, dtype: int64\n",
      "__________________\n",
      "Attribute Names BankCustomer\n",
      "g     519\n",
      "p     163\n",
      "?       6\n",
      "gg      2\n",
      "Name: BankCustomer, dtype: int64\n",
      "__________________\n",
      "Attribute Names EducationLevel\n",
      "c     137\n",
      "q      78\n",
      "w      64\n",
      "i      59\n",
      "aa     54\n",
      "ff     53\n",
      "k      51\n",
      "cc     41\n",
      "m      38\n",
      "x      38\n",
      "d      30\n",
      "e      25\n",
      "j      10\n",
      "?       9\n",
      "r       3\n",
      "Name: EducationLevel, dtype: int64\n",
      "__________________\n",
      "Attribute Names Ethnicity\n",
      "v     399\n",
      "h     138\n",
      "bb     59\n",
      "ff     57\n",
      "?       9\n",
      "j       8\n",
      "z       8\n",
      "dd      6\n",
      "n       4\n",
      "o       2\n",
      "Name: Ethnicity, dtype: int64\n",
      "__________________\n",
      "Attribute Names PriorDefault\n",
      "t    361\n",
      "f    329\n",
      "Name: PriorDefault, dtype: int64\n",
      "__________________\n",
      "Attribute Names Employed\n",
      "f    395\n",
      "t    295\n",
      "Name: Employed, dtype: int64\n",
      "__________________\n",
      "Attribute Names DriversLicense\n",
      "f    374\n",
      "t    316\n",
      "Name: DriversLicense, dtype: int64\n",
      "__________________\n",
      "Attribute Names Citizen\n",
      "g    625\n",
      "s     57\n",
      "p      8\n",
      "Name: Citizen, dtype: int64\n",
      "__________________\n"
     ]
    }
   ],
   "source": [
    "colName_cat = ['Male','Married','BankCustomer','EducationLevel','Ethnicity','PriorDefault','Employed',\n",
    "           'DriversLicense','Citizen']\n",
    "colName = ['Male','Age','Debt','Married','BankCustomer','EducationLevel','Ethnicity','YearsEmployed','PriorDefault','Employed','CreditScore',\n",
    "           'DriversLicense','Citizen','ZipCode','Income','Approved']\n",
    "for i in colName_cat:\n",
    "    print(\"Attribute Names\",i)\n",
    "    print(df[i].value_counts())\n",
    "    print(\"__________________\")"
   ]
  },
  {
   "cell_type": "markdown",
   "metadata": {
    "id": "W5yTDvKOjrdw"
   },
   "source": [
    "# Data Preparation "
   ]
  },
  {
   "cell_type": "code",
   "execution_count": 8,
   "metadata": {
    "id": "CvWJnDXljrdw",
    "outputId": "60e4173a-e5fb-4fbb-a548-a7311e04abf7"
   },
   "outputs": [
    {
     "data": {
      "text/plain": [
       "Male              12\n",
       "Age               12\n",
       "Debt               0\n",
       "Married            6\n",
       "BankCustomer       6\n",
       "EducationLevel     9\n",
       "Ethnicity          9\n",
       "YearsEmployed      0\n",
       "PriorDefault       0\n",
       "Employed           0\n",
       "CreditScore        0\n",
       "DriversLicense     0\n",
       "Citizen            0\n",
       "ZipCode           13\n",
       "Income             0\n",
       "dtype: int64"
      ]
     },
     "execution_count": 8,
     "metadata": {},
     "output_type": "execute_result"
    }
   ],
   "source": [
    "# Replace the '?'s with NaN\n",
    "df = df.replace('?', np.nan)\n",
    "\n",
    "# Inspect the missing values again\n",
    "# select rows from dataframe\n",
    "x=df.iloc[:,:-1]\n",
    "# sum of null data based on attributes\n",
    "x.isnull().sum()"
   ]
  },
  {
   "cell_type": "code",
   "execution_count": 9,
   "metadata": {
    "id": "1GfmURi_jrdx",
    "outputId": "28a45517-7f8a-4d48-a184-862f0bc0e277"
   },
   "outputs": [
    {
     "data": {
      "text/plain": [
       "Male              0\n",
       "Age               0\n",
       "Debt              0\n",
       "Married           0\n",
       "BankCustomer      0\n",
       "EducationLevel    0\n",
       "Ethnicity         0\n",
       "YearsEmployed     0\n",
       "PriorDefault      0\n",
       "Employed          0\n",
       "CreditScore       0\n",
       "DriversLicense    0\n",
       "Citizen           0\n",
       "ZipCode           0\n",
       "Income            0\n",
       "dtype: int64"
      ]
     },
     "execution_count": 9,
     "metadata": {},
     "output_type": "execute_result"
    }
   ],
   "source": [
    "df_clean= df.dropna(axis='rows')\n",
    "\n",
    "# select rows from dataframe\n",
    "x=df_clean.iloc[:,:-1]\n",
    "# sum of null data based on attributes\n",
    "x.isnull().sum()"
   ]
  },
  {
   "cell_type": "code",
   "execution_count": 10,
   "metadata": {
    "id": "-PH4gwtvjrdx",
    "outputId": "46ce2f53-d4c9-484a-aef0-89aa0660aaf9"
   },
   "outputs": [
    {
     "name": "stderr",
     "output_type": "stream",
     "text": [
      "<ipython-input-10-6e11ca561a0c>:1: SettingWithCopyWarning: \n",
      "A value is trying to be set on a copy of a slice from a DataFrame.\n",
      "Try using .loc[row_indexer,col_indexer] = value instead\n",
      "\n",
      "See the caveats in the documentation: https://pandas.pydata.org/pandas-docs/stable/user_guide/indexing.html#returning-a-view-versus-a-copy\n",
      "  df_clean['Age'] = df_clean['Age'].apply(pd.to_numeric)\n"
     ]
    },
    {
     "data": {
      "text/plain": [
       "Male               object\n",
       "Age               float64\n",
       "Debt              float64\n",
       "Married            object\n",
       "BankCustomer       object\n",
       "EducationLevel     object\n",
       "Ethnicity          object\n",
       "YearsEmployed     float64\n",
       "PriorDefault       object\n",
       "Employed           object\n",
       "CreditScore         int64\n",
       "DriversLicense     object\n",
       "Citizen            object\n",
       "ZipCode            object\n",
       "Income              int64\n",
       "Approved           object\n",
       "dtype: object"
      ]
     },
     "execution_count": 10,
     "metadata": {},
     "output_type": "execute_result"
    }
   ],
   "source": [
    "df_clean['Age'] = df_clean['Age'].apply(pd.to_numeric)\n",
    "df['Age'] = df['Age'].apply(pd.to_numeric)\n",
    "df_clean.dtypes"
   ]
  },
  {
   "cell_type": "code",
   "execution_count": 11,
   "metadata": {
    "id": "KzM5FeL0jrdy",
    "outputId": "a361a798-451a-42d9-a106-504b2f23b8d1"
   },
   "outputs": [
    {
     "data": {
      "text/plain": [
       "Male               object\n",
       "Age               float64\n",
       "Debt              float64\n",
       "Married            object\n",
       "BankCustomer       object\n",
       "EducationLevel     object\n",
       "Ethnicity          object\n",
       "YearsEmployed     float64\n",
       "PriorDefault       object\n",
       "Employed           object\n",
       "CreditScore         int64\n",
       "DriversLicense     object\n",
       "Citizen            object\n",
       "ZipCode            object\n",
       "Income              int64\n",
       "Approved           object\n",
       "dtype: object"
      ]
     },
     "metadata": {},
     "output_type": "display_data"
    }
   ],
   "source": [
    "# show data type\n",
    "\n",
    "display(df.dtypes)"
   ]
  },
  {
   "cell_type": "code",
   "execution_count": 12,
   "metadata": {
    "id": "UQScw3Kmjrdy",
    "outputId": "79e513ff-cc55-4d71-82c3-2df38ef65d58"
   },
   "outputs": [
    {
     "data": {
      "text/html": [
       "<div>\n",
       "<style scoped>\n",
       "    .dataframe tbody tr th:only-of-type {\n",
       "        vertical-align: middle;\n",
       "    }\n",
       "\n",
       "    .dataframe tbody tr th {\n",
       "        vertical-align: top;\n",
       "    }\n",
       "\n",
       "    .dataframe thead th {\n",
       "        text-align: right;\n",
       "    }\n",
       "</style>\n",
       "<table border=\"1\" class=\"dataframe\">\n",
       "  <thead>\n",
       "    <tr style=\"text-align: right;\">\n",
       "      <th></th>\n",
       "      <th>Age</th>\n",
       "      <th>Debt</th>\n",
       "      <th>YearsEmployed</th>\n",
       "      <th>CreditScore</th>\n",
       "      <th>Income</th>\n",
       "    </tr>\n",
       "  </thead>\n",
       "  <tbody>\n",
       "    <tr>\n",
       "      <th>count</th>\n",
       "      <td>678.000000</td>\n",
       "      <td>690.000000</td>\n",
       "      <td>690.000000</td>\n",
       "      <td>690.00000</td>\n",
       "      <td>690.000000</td>\n",
       "    </tr>\n",
       "    <tr>\n",
       "      <th>mean</th>\n",
       "      <td>31.568171</td>\n",
       "      <td>4.758725</td>\n",
       "      <td>2.223406</td>\n",
       "      <td>2.40000</td>\n",
       "      <td>1017.385507</td>\n",
       "    </tr>\n",
       "    <tr>\n",
       "      <th>std</th>\n",
       "      <td>11.957862</td>\n",
       "      <td>4.978163</td>\n",
       "      <td>3.346513</td>\n",
       "      <td>4.86294</td>\n",
       "      <td>5210.102598</td>\n",
       "    </tr>\n",
       "    <tr>\n",
       "      <th>min</th>\n",
       "      <td>13.750000</td>\n",
       "      <td>0.000000</td>\n",
       "      <td>0.000000</td>\n",
       "      <td>0.00000</td>\n",
       "      <td>0.000000</td>\n",
       "    </tr>\n",
       "    <tr>\n",
       "      <th>25%</th>\n",
       "      <td>22.602500</td>\n",
       "      <td>1.000000</td>\n",
       "      <td>0.165000</td>\n",
       "      <td>0.00000</td>\n",
       "      <td>0.000000</td>\n",
       "    </tr>\n",
       "    <tr>\n",
       "      <th>50%</th>\n",
       "      <td>28.460000</td>\n",
       "      <td>2.750000</td>\n",
       "      <td>1.000000</td>\n",
       "      <td>0.00000</td>\n",
       "      <td>5.000000</td>\n",
       "    </tr>\n",
       "    <tr>\n",
       "      <th>75%</th>\n",
       "      <td>38.230000</td>\n",
       "      <td>7.207500</td>\n",
       "      <td>2.625000</td>\n",
       "      <td>3.00000</td>\n",
       "      <td>395.500000</td>\n",
       "    </tr>\n",
       "    <tr>\n",
       "      <th>max</th>\n",
       "      <td>80.250000</td>\n",
       "      <td>28.000000</td>\n",
       "      <td>28.500000</td>\n",
       "      <td>67.00000</td>\n",
       "      <td>100000.000000</td>\n",
       "    </tr>\n",
       "  </tbody>\n",
       "</table>\n",
       "</div>"
      ],
      "text/plain": [
       "              Age        Debt  YearsEmployed  CreditScore         Income\n",
       "count  678.000000  690.000000     690.000000    690.00000     690.000000\n",
       "mean    31.568171    4.758725       2.223406      2.40000    1017.385507\n",
       "std     11.957862    4.978163       3.346513      4.86294    5210.102598\n",
       "min     13.750000    0.000000       0.000000      0.00000       0.000000\n",
       "25%     22.602500    1.000000       0.165000      0.00000       0.000000\n",
       "50%     28.460000    2.750000       1.000000      0.00000       5.000000\n",
       "75%     38.230000    7.207500       2.625000      3.00000     395.500000\n",
       "max     80.250000   28.000000      28.500000     67.00000  100000.000000"
      ]
     },
     "metadata": {},
     "output_type": "display_data"
    }
   ],
   "source": [
    "#Show data desccription\n",
    "\n",
    "display(df.describe())"
   ]
  },
  {
   "cell_type": "code",
   "execution_count": 13,
   "metadata": {
    "id": "BcpeoI6ajrdy",
    "outputId": "f391c8da-3872-4214-b4e8-d6208adfcd3b"
   },
   "outputs": [
    {
     "name": "stdout",
     "output_type": "stream",
     "text": [
      "   Male    Age   Debt  Married  BankCustomer  EducationLevel  Ethnicity  \\\n",
      "0     1  30.83  0.000        1             0              12          7   \n",
      "1     0  58.67  4.460        1             0              10          3   \n",
      "2     0  24.50  0.500        1             0              10          3   \n",
      "3     1  27.83  1.540        1             0              12          7   \n",
      "4     1  20.17  5.625        1             0              12          7   \n",
      "\n",
      "   YearsEmployed  PriorDefault  Employed  CreditScore  DriversLicense  \\\n",
      "0           1.25             1         1            1               0   \n",
      "1           3.04             1         1            6               0   \n",
      "2           1.50             1         0            0               0   \n",
      "3           3.75             1         1            5               1   \n",
      "4           1.71             1         0            0               0   \n",
      "\n",
      "   Citizen  ZipCode  Income  Approved  \n",
      "0        0       68       0         0  \n",
      "1        0       11     560         0  \n",
      "2        0       94     824         0  \n",
      "3        0       31       3         0  \n",
      "4        2       37       0         0  \n"
     ]
    },
    {
     "name": "stderr",
     "output_type": "stream",
     "text": [
      "<ipython-input-13-faa1959c8ce5>:12: SettingWithCopyWarning: \n",
      "A value is trying to be set on a copy of a slice from a DataFrame.\n",
      "Try using .loc[row_indexer,col_indexer] = value instead\n",
      "\n",
      "See the caveats in the documentation: https://pandas.pydata.org/pandas-docs/stable/user_guide/indexing.html#returning-a-view-versus-a-copy\n",
      "  df_clean[col] =le.fit_transform(df_clean[col])\n"
     ]
    }
   ],
   "source": [
    "# Import LabelEncoder\n",
    "from sklearn.preprocessing import LabelEncoder\n",
    "\n",
    "# Instantiate LabelEncoder\n",
    "le = LabelEncoder()\n",
    "\n",
    "# Iterate over all the values of each column and extract their dtypes\n",
    "for col in df_clean.columns:\n",
    "    # Compare if the dtype is object\n",
    "    if df_clean[col].dtypes=='object':\n",
    "    # Use LabelEncoder to do the numeric transformation\n",
    "        df_clean[col] =le.fit_transform(df_clean[col])\n",
    "print(df_clean.head(5))"
   ]
  },
  {
   "cell_type": "code",
   "execution_count": 14,
   "metadata": {
    "id": "9hLlpnSjjrdz",
    "outputId": "2eed23be-a92c-4464-8e78-9d8d5d6a8b7a"
   },
   "outputs": [
    {
     "data": {
      "text/html": [
       "<div>\n",
       "<style scoped>\n",
       "    .dataframe tbody tr th:only-of-type {\n",
       "        vertical-align: middle;\n",
       "    }\n",
       "\n",
       "    .dataframe tbody tr th {\n",
       "        vertical-align: top;\n",
       "    }\n",
       "\n",
       "    .dataframe thead th {\n",
       "        text-align: right;\n",
       "    }\n",
       "</style>\n",
       "<table border=\"1\" class=\"dataframe\">\n",
       "  <thead>\n",
       "    <tr style=\"text-align: right;\">\n",
       "      <th></th>\n",
       "      <th>Male</th>\n",
       "      <th>Age</th>\n",
       "      <th>Debt</th>\n",
       "      <th>Married</th>\n",
       "      <th>BankCustomer</th>\n",
       "      <th>EducationLevel</th>\n",
       "      <th>Ethnicity</th>\n",
       "      <th>YearsEmployed</th>\n",
       "      <th>PriorDefault</th>\n",
       "      <th>Employed</th>\n",
       "      <th>CreditScore</th>\n",
       "      <th>DriversLicense</th>\n",
       "      <th>Citizen</th>\n",
       "      <th>ZipCode</th>\n",
       "      <th>Income</th>\n",
       "      <th>Approved</th>\n",
       "    </tr>\n",
       "  </thead>\n",
       "  <tbody>\n",
       "    <tr>\n",
       "      <th>0</th>\n",
       "      <td>1.0</td>\n",
       "      <td>0.271111</td>\n",
       "      <td>0.000000</td>\n",
       "      <td>0.5</td>\n",
       "      <td>0.0</td>\n",
       "      <td>0.923077</td>\n",
       "      <td>0.875</td>\n",
       "      <td>0.043860</td>\n",
       "      <td>1.0</td>\n",
       "      <td>1.0</td>\n",
       "      <td>0.014925</td>\n",
       "      <td>0.0</td>\n",
       "      <td>0.0</td>\n",
       "      <td>0.417178</td>\n",
       "      <td>0.00000</td>\n",
       "      <td>0.0</td>\n",
       "    </tr>\n",
       "    <tr>\n",
       "      <th>1</th>\n",
       "      <td>0.0</td>\n",
       "      <td>0.713016</td>\n",
       "      <td>0.159286</td>\n",
       "      <td>0.5</td>\n",
       "      <td>0.0</td>\n",
       "      <td>0.769231</td>\n",
       "      <td>0.375</td>\n",
       "      <td>0.106667</td>\n",
       "      <td>1.0</td>\n",
       "      <td>1.0</td>\n",
       "      <td>0.089552</td>\n",
       "      <td>0.0</td>\n",
       "      <td>0.0</td>\n",
       "      <td>0.067485</td>\n",
       "      <td>0.00560</td>\n",
       "      <td>0.0</td>\n",
       "    </tr>\n",
       "    <tr>\n",
       "      <th>2</th>\n",
       "      <td>0.0</td>\n",
       "      <td>0.170635</td>\n",
       "      <td>0.017857</td>\n",
       "      <td>0.5</td>\n",
       "      <td>0.0</td>\n",
       "      <td>0.769231</td>\n",
       "      <td>0.375</td>\n",
       "      <td>0.052632</td>\n",
       "      <td>1.0</td>\n",
       "      <td>0.0</td>\n",
       "      <td>0.000000</td>\n",
       "      <td>0.0</td>\n",
       "      <td>0.0</td>\n",
       "      <td>0.576687</td>\n",
       "      <td>0.00824</td>\n",
       "      <td>0.0</td>\n",
       "    </tr>\n",
       "    <tr>\n",
       "      <th>3</th>\n",
       "      <td>1.0</td>\n",
       "      <td>0.223492</td>\n",
       "      <td>0.055000</td>\n",
       "      <td>0.5</td>\n",
       "      <td>0.0</td>\n",
       "      <td>0.923077</td>\n",
       "      <td>0.875</td>\n",
       "      <td>0.131579</td>\n",
       "      <td>1.0</td>\n",
       "      <td>1.0</td>\n",
       "      <td>0.074627</td>\n",
       "      <td>1.0</td>\n",
       "      <td>0.0</td>\n",
       "      <td>0.190184</td>\n",
       "      <td>0.00003</td>\n",
       "      <td>0.0</td>\n",
       "    </tr>\n",
       "    <tr>\n",
       "      <th>4</th>\n",
       "      <td>1.0</td>\n",
       "      <td>0.101905</td>\n",
       "      <td>0.200893</td>\n",
       "      <td>0.5</td>\n",
       "      <td>0.0</td>\n",
       "      <td>0.923077</td>\n",
       "      <td>0.875</td>\n",
       "      <td>0.060000</td>\n",
       "      <td>1.0</td>\n",
       "      <td>0.0</td>\n",
       "      <td>0.000000</td>\n",
       "      <td>0.0</td>\n",
       "      <td>1.0</td>\n",
       "      <td>0.226994</td>\n",
       "      <td>0.00000</td>\n",
       "      <td>0.0</td>\n",
       "    </tr>\n",
       "  </tbody>\n",
       "</table>\n",
       "</div>"
      ],
      "text/plain": [
       "   Male       Age      Debt  Married  BankCustomer  EducationLevel  Ethnicity  \\\n",
       "0   1.0  0.271111  0.000000      0.5           0.0        0.923077      0.875   \n",
       "1   0.0  0.713016  0.159286      0.5           0.0        0.769231      0.375   \n",
       "2   0.0  0.170635  0.017857      0.5           0.0        0.769231      0.375   \n",
       "3   1.0  0.223492  0.055000      0.5           0.0        0.923077      0.875   \n",
       "4   1.0  0.101905  0.200893      0.5           0.0        0.923077      0.875   \n",
       "\n",
       "   YearsEmployed  PriorDefault  Employed  CreditScore  DriversLicense  \\\n",
       "0       0.043860           1.0       1.0     0.014925             0.0   \n",
       "1       0.106667           1.0       1.0     0.089552             0.0   \n",
       "2       0.052632           1.0       0.0     0.000000             0.0   \n",
       "3       0.131579           1.0       1.0     0.074627             1.0   \n",
       "4       0.060000           1.0       0.0     0.000000             0.0   \n",
       "\n",
       "   Citizen   ZipCode   Income  Approved  \n",
       "0      0.0  0.417178  0.00000       0.0  \n",
       "1      0.0  0.067485  0.00560       0.0  \n",
       "2      0.0  0.576687  0.00824       0.0  \n",
       "3      0.0  0.190184  0.00003       0.0  \n",
       "4      1.0  0.226994  0.00000       0.0  "
      ]
     },
     "execution_count": 14,
     "metadata": {},
     "output_type": "execute_result"
    }
   ],
   "source": [
    "# Import MinMaxScaler\n",
    "from sklearn.preprocessing import MinMaxScaler \n",
    "# Instantiate MinMaxScaler and use it to rescale X_train and X_test\n",
    "scaler = MinMaxScaler(feature_range=(0,1))\n",
    "rescaled = scaler.fit_transform(df_clean)\n",
    "df_rescaled = pd.DataFrame(rescaled)\n",
    "df_rescaled.columns = ['Male','Age','Debt','Married','BankCustomer','EducationLevel','Ethnicity','YearsEmployed','PriorDefault','Employed','CreditScore','DriversLicense','Citizen','ZipCode','Income','Approved']\n",
    "df_rescaled.head(5)\n"
   ]
  },
  {
   "cell_type": "code",
   "execution_count": 15,
   "metadata": {
    "id": "5eSzcihPjrdz",
    "outputId": "2fa5a7db-5591-4e07-b187-90b01f2c89dc"
   },
   "outputs": [
    {
     "data": {
      "text/plain": [
       "(16.5, -0.5)"
      ]
     },
     "execution_count": 15,
     "metadata": {},
     "output_type": "execute_result"
    },
    {
     "data": {
      "image/png": "[encoded data removed]",
      "text/plain": [
       "<Figure size 1440x1440 with 2 Axes>"
      ]
     },
     "metadata": {
      "needs_background": "light"
     },
     "output_type": "display_data"
    }
   ],
   "source": [
    "# correlations using heat map plot\n",
    "plt.figure(figsize=(20,20))\n",
    "ax = sns.heatmap(df_rescaled.corr(),annot=True,cmap='summer', cbar=True)\n",
    "bottom, top = ax.get_ylim()\n",
    "ax.set_ylim(bottom + 0.5, top - 0.5)\n",
    "#plt.savefig('heatplot.png')"
   ]
  },
  {
   "cell_type": "code",
   "execution_count": 16,
   "metadata": {
    "id": "_f37n8xijrd0"
   },
   "outputs": [],
   "source": [
    "import pandas as pd\n",
    "import numpy as np\n",
    "from sklearn.feature_selection import SelectKBest\n",
    "from sklearn.feature_selection import chi2\n",
    "X = df_rescaled.iloc[:,0:-1]  #independent columns\n",
    "y = df_rescaled.iloc[:,-1:]    #target column i.e price range\n"
   ]
  },
  {
   "cell_type": "code",
   "execution_count": 17,
   "metadata": {
    "id": "DJGaryGzjrd0"
   },
   "outputs": [],
   "source": [
    "#apply SelectKBest class to extract top 10 best features\n",
    "bestfeatures = SelectKBest(score_func=chi2, k=10)\n",
    "fit = bestfeatures.fit(X,y)"
   ]
  },
  {
   "cell_type": "code",
   "execution_count": 18,
   "metadata": {
    "id": "3YzfBnVajrd0"
   },
   "outputs": [],
   "source": [
    "dfscores = pd.DataFrame(fit.scores_)\n",
    "dfcolumns = pd.DataFrame(X.columns)"
   ]
  },
  {
   "cell_type": "code",
   "execution_count": 19,
   "metadata": {
    "id": "VDocrA7njrd1"
   },
   "outputs": [],
   "source": [
    "#concat two dataframes for better visualization \n",
    "featureScores = pd.concat([dfcolumns,dfscores],axis=1)\n",
    "featureScores.columns = ['Specs','Score']  #naming the dataframe columns"
   ]
  },
  {
   "cell_type": "code",
   "execution_count": 20,
   "metadata": {
    "id": "VeOcHDJ1jrd1",
    "outputId": "7f3a72a4-250d-412a-99de-59cf18397b0e"
   },
   "outputs": [
    {
     "data": {
      "text/html": [
       "<div>\n",
       "<style scoped>\n",
       "    .dataframe tbody tr th:only-of-type {\n",
       "        vertical-align: middle;\n",
       "    }\n",
       "\n",
       "    .dataframe tbody tr th {\n",
       "        vertical-align: top;\n",
       "    }\n",
       "\n",
       "    .dataframe thead th {\n",
       "        text-align: right;\n",
       "    }\n",
       "</style>\n",
       "<table border=\"1\" class=\"dataframe\">\n",
       "  <thead>\n",
       "    <tr style=\"text-align: right;\">\n",
       "      <th></th>\n",
       "      <th>Specs</th>\n",
       "      <th>Score</th>\n",
       "    </tr>\n",
       "  </thead>\n",
       "  <tbody>\n",
       "    <tr>\n",
       "      <th>8</th>\n",
       "      <td>PriorDefault</td>\n",
       "      <td>165.943905</td>\n",
       "    </tr>\n",
       "    <tr>\n",
       "      <th>9</th>\n",
       "      <td>Employed</td>\n",
       "      <td>74.730830</td>\n",
       "    </tr>\n",
       "    <tr>\n",
       "      <th>10</th>\n",
       "      <td>CreditScore</td>\n",
       "      <td>15.828746</td>\n",
       "    </tr>\n",
       "    <tr>\n",
       "      <th>4</th>\n",
       "      <td>BankCustomer</td>\n",
       "      <td>14.384287</td>\n",
       "    </tr>\n",
       "    <tr>\n",
       "      <th>7</th>\n",
       "      <td>YearsEmployed</td>\n",
       "      <td>12.824795</td>\n",
       "    </tr>\n",
       "    <tr>\n",
       "      <th>12</th>\n",
       "      <td>Citizen</td>\n",
       "      <td>6.022988</td>\n",
       "    </tr>\n",
       "    <tr>\n",
       "      <th>14</th>\n",
       "      <td>Income</td>\n",
       "      <td>5.297725</td>\n",
       "    </tr>\n",
       "    <tr>\n",
       "      <th>2</th>\n",
       "      <td>Debt</td>\n",
       "      <td>5.225372</td>\n",
       "    </tr>\n",
       "    <tr>\n",
       "      <th>1</th>\n",
       "      <td>Age</td>\n",
       "      <td>2.654313</td>\n",
       "    </tr>\n",
       "    <tr>\n",
       "      <th>5</th>\n",
       "      <td>EducationLevel</td>\n",
       "      <td>2.438256</td>\n",
       "    </tr>\n",
       "    <tr>\n",
       "      <th>3</th>\n",
       "      <td>Married</td>\n",
       "      <td>1.569597</td>\n",
       "    </tr>\n",
       "    <tr>\n",
       "      <th>13</th>\n",
       "      <td>ZipCode</td>\n",
       "      <td>1.226080</td>\n",
       "    </tr>\n",
       "    <tr>\n",
       "      <th>11</th>\n",
       "      <td>DriversLicense</td>\n",
       "      <td>0.877884</td>\n",
       "    </tr>\n",
       "    <tr>\n",
       "      <th>0</th>\n",
       "      <td>Male</td>\n",
       "      <td>0.079719</td>\n",
       "    </tr>\n",
       "    <tr>\n",
       "      <th>6</th>\n",
       "      <td>Ethnicity</td>\n",
       "      <td>0.012118</td>\n",
       "    </tr>\n",
       "  </tbody>\n",
       "</table>\n",
       "</div>"
      ],
      "text/plain": [
       "             Specs       Score\n",
       "8     PriorDefault  165.943905\n",
       "9         Employed   74.730830\n",
       "10     CreditScore   15.828746\n",
       "4     BankCustomer   14.384287\n",
       "7    YearsEmployed   12.824795\n",
       "12         Citizen    6.022988\n",
       "14          Income    5.297725\n",
       "2             Debt    5.225372\n",
       "1              Age    2.654313\n",
       "5   EducationLevel    2.438256\n",
       "3          Married    1.569597\n",
       "13         ZipCode    1.226080\n",
       "11  DriversLicense    0.877884\n",
       "0             Male    0.079719\n",
       "6        Ethnicity    0.012118"
      ]
     },
     "metadata": {},
     "output_type": "display_data"
    }
   ],
   "source": [
    "display(featureScores.nlargest(15,'Score'))  #print 10 best features"
   ]
  },
  {
   "cell_type": "code",
   "execution_count": 21,
   "metadata": {
    "id": "peNve310jrd1",
    "outputId": "e5a793fc-7e34-4614-aea2-f72b87a83442"
   },
   "outputs": [
    {
     "name": "stdout",
     "output_type": "stream",
     "text": [
      "             Specs       Score\n",
      "8     PriorDefault  165.943905\n",
      "9         Employed   74.730830\n",
      "10     CreditScore   15.828746\n",
      "4     BankCustomer   14.384287\n",
      "7    YearsEmployed   12.824795\n",
      "12         Citizen    6.022988\n",
      "14          Income    5.297725\n",
      "2             Debt    5.225372\n",
      "1              Age    2.654313\n",
      "5   EducationLevel    2.438256\n",
      "3          Married    1.569597\n",
      "13         ZipCode    1.226080\n",
      "11  DriversLicense    0.877884\n",
      "0             Male    0.079719\n",
      "6        Ethnicity    0.012118\n"
     ]
    }
   ],
   "source": [
    "print(featureScores.nlargest(15,'Score'))  #print 10 best features"
   ]
  },
  {
   "cell_type": "code",
   "execution_count": 22,
   "metadata": {
    "id": "gyV2sbjWjrd2",
    "outputId": "2674f40a-c41d-444b-e912-ff40d1b4d4a0"
   },
   "outputs": [
    {
     "name": "stderr",
     "output_type": "stream",
     "text": [
      "<ipython-input-22-3c24cb938222>:4: DataConversionWarning: A column-vector y was passed when a 1d array was expected. Please change the shape of y to (n_samples,), for example using ravel().\n",
      "  model.fit(X,y)\n"
     ]
    },
    {
     "data": {
      "text/plain": [
       "ExtraTreesClassifier()"
      ]
     },
     "execution_count": 22,
     "metadata": {},
     "output_type": "execute_result"
    }
   ],
   "source": [
    "from sklearn.ensemble import ExtraTreesClassifier\n",
    "import matplotlib.pyplot as plt\n",
    "model = ExtraTreesClassifier()\n",
    "model.fit(X,y)"
   ]
  },
  {
   "cell_type": "code",
   "execution_count": 23,
   "metadata": {
    "id": "CEzAb1qrjrd2",
    "outputId": "80fbb13d-f2c3-46fd-d646-f380b71472e4"
   },
   "outputs": [
    {
     "name": "stdout",
     "output_type": "stream",
     "text": [
      "[0.01697976 0.05640404 0.05936658 0.01432683 0.01540956 0.05865002\n",
      " 0.0331017  0.07074877 0.41032603 0.08815578 0.0342415  0.01825879\n",
      " 0.01406001 0.06538029 0.04459036]\n"
     ]
    }
   ],
   "source": [
    "print(model.feature_importances_) #use inbuilt class feature_importances of tree based classifiers"
   ]
  },
  {
   "cell_type": "code",
   "execution_count": 24,
   "metadata": {
    "id": "3eSSsgDljrd2",
    "outputId": "b35c0094-ec03-44ad-fe42-722b55c0f34a"
   },
   "outputs": [
    {
     "data": {
      "image/png": "[encoded data removed]",
      "text/plain": [
       "<Figure size 432x288 with 1 Axes>"
      ]
     },
     "metadata": {
      "needs_background": "light"
     },
     "output_type": "display_data"
    }
   ],
   "source": [
    "feat_importances = pd.Series(model.feature_importances_, index=X.columns)\n",
    "feat_importances.nlargest(15).plot(kind='barh')\n",
    "plt.show()"
   ]
  },
  {
   "cell_type": "code",
   "execution_count": 25,
   "metadata": {
    "id": "zl1iPaw4jrd3",
    "outputId": "1bf9768e-0506-4ff8-ce94-ea916265f02b"
   },
   "outputs": [
    {
     "data": {
      "text/plain": [
       "(457, 9)"
      ]
     },
     "metadata": {},
     "output_type": "display_data"
    },
    {
     "data": {
      "text/plain": [
       "(196, 9)"
      ]
     },
     "metadata": {},
     "output_type": "display_data"
    },
    {
     "data": {
      "text/plain": [
       "(457, 1)"
      ]
     },
     "metadata": {},
     "output_type": "display_data"
    },
    {
     "data": {
      "text/plain": [
       "(196, 1)"
      ]
     },
     "metadata": {},
     "output_type": "display_data"
    }
   ],
   "source": [
    "colName_cut = ['PriorDefault','Employed','CreditScore','BankCustomer','YearsEmployed','Income','Debt','Age','EducationLevel','Approved']\n",
    "df_fit = df_rescaled[colName_cut]\n",
    "\n",
    "\n",
    "X = df_fit.iloc[:,0:-1]  #independent columns\n",
    "y = df_fit.iloc[:,-1:]    #target column i.e price range\n",
    "from sklearn.model_selection import train_test_split\n",
    "# split the data into training set and test set\n",
    "x_train,x_test,y_train,y_test = train_test_split(X,y,test_size=0.3,random_state=0)\n",
    "display(x_train.shape)\n",
    "display(x_test.shape)\n",
    "display(y_train.shape)\n",
    "display(y_test.shape)"
   ]
  },
  {
   "cell_type": "markdown",
   "metadata": {
    "id": "Kb2K32Bajrd7"
   },
   "source": [
    "# BY DEFAULT PARAMS - SVC"
   ]
  },
  {
   "cell_type": "code",
   "execution_count": 32,
   "metadata": {
    "id": "v5Z7e5rajrd8",
    "outputId": "ac351c01-b62e-4791-83f3-ca9a31b34457"
   },
   "outputs": [
    {
     "name": "stdout",
     "output_type": "stream",
     "text": [
      "              precision    recall  f1-score   support\n",
      "\n",
      "         0.0       0.85      0.93      0.89        87\n",
      "         1.0       0.94      0.87      0.90       109\n",
      "\n",
      "    accuracy                           0.90       196\n",
      "   macro avg       0.90      0.90      0.90       196\n",
      "weighted avg       0.90      0.90      0.90       196\n",
      "\n"
     ]
    },
    {
     "data": {
      "image/png": "[encoded data removed]",
      "text/plain": [
       "<Figure size 720x720 with 2 Axes>"
      ]
     },
     "metadata": {
      "needs_background": "light"
     },
     "output_type": "display_data"
    }
   ],
   "source": [
    "from sklearn.metrics import classification_report, confusion_matrix\n",
    "from sklearn.model_selection import cross_val_score\n",
    "from sklearn.svm import SVC\n",
    "import sklearn.metrics as metrics\n",
    "import seaborn as sns\n",
    "\n",
    "svc= SVC()\n",
    "svc.fit(x_train, y_train.values.ravel())\n",
    "y_pred_svc = svc.predict(x_test)\n",
    "# Creates a confusion matrix\n",
    "cm = confusion_matrix(y_test, y_pred_svc)\n",
    "\n",
    "# Transform to dataframe for easier plotting\n",
    "cm_df = pd.DataFrame(cm, index = ['Approved','Not Apporved'],\n",
    "columns = ['Approved','Not Apporved'])\n",
    "# plot the confusion matrix\n",
    "\n",
    "plt.figure(figsize=(10,10))\n",
    "sns.heatmap(cm_df, annot=True, fmt='g')\n",
    "plt.ylabel('True label')\n",
    "plt.xlabel('Predicted label')\n",
    "plt.title(\"Support Vector Machine Accuracy :\" + str(svc.score(x_test,y_test)*100))\n",
    "\n",
    "print(classification_report(y_test,y_pred_svc,labels=np.unique(y_pred_svc)))"
   ]
  },
  {
   "cell_type": "markdown",
   "metadata": {
    "id": "mfigCIZujrd8"
   },
   "source": [
    "# BY GridSearchCV TO GET Best PARAMS - SVC "
   ]
  },
  {
   "cell_type": "code",
   "execution_count": 33,
   "metadata": {
    "id": "INcinyuIjrd9",
    "outputId": "34fa3b29-11cb-4229-a289-f4beef1f3052"
   },
   "outputs": [
    {
     "name": "stdout",
     "output_type": "stream",
     "text": [
      "Best: 0.853382 using {'C': 1, 'gamma': 0.1, 'kernel': 'linear'}\n",
      "Best: 0.859903 using {'C': 1000, 'gamma': 0.1, 'kernel': 'poly'}\n",
      "Best: 0.862126 using {'C': 1000, 'gamma': 0.1, 'kernel': 'rbf'}\n",
      "Best: 0.853382 using {'C': 1, 'gamma': 0.1, 'kernel': 'sigmoid'}\n"
     ]
    }
   ],
   "source": [
    "# Import GridSearchCV\n",
    "from sklearn.model_selection import GridSearchCV\n",
    "# Define the grid of values for tol and max_iter\n",
    "\n",
    "for ker in ['linear', 'poly', 'rbf', 'sigmoid']:\n",
    "    # Create a dictionary where n_neighbors and weights are keys and the lists of their values are corresponding values\n",
    "    param_grid = dict(kernel=[ker], C= [1, 10, 100, 1000], gamma= [0.1,0.01,0.001,0.0001])\n",
    "    svc= SVC()\n",
    "\n",
    "    # Instantiate GridSearchCV with the required parameters\n",
    "    grid_model = GridSearchCV(estimator=svc, param_grid=param_grid, cv=10)\n",
    "\n",
    "    # Use scaler to rescale X and assign it to rescaledX\n",
    "    rescaledX = scaler.fit_transform(x_train)\n",
    "    #print(len(rescaledX))\n",
    "    #print(len(y_train.values.ravel()))\n",
    "\n",
    "    # Fit data to grid_model\n",
    "    grid_model_result = grid_model.fit(rescaledX, y_train.values.ravel())\n",
    "    # Summarize results\n",
    "    best_score, best_params = grid_model_result.best_score_, grid_model_result.best_params_\n",
    "    print(\"Best: %f using %s\" % (best_score, best_params))\n",
    "\n"
   ]
  },
  {
   "cell_type": "markdown",
   "metadata": {
    "id": "LMR42PA5jrd9"
   },
   "source": [
    "# SVM - linear "
   ]
  },
  {
   "cell_type": "code",
   "execution_count": 34,
   "metadata": {
    "id": "xigf4p40jrd9",
    "outputId": "762420d6-f09b-4592-99ee-ddb979eff0ee"
   },
   "outputs": [
    {
     "name": "stdout",
     "output_type": "stream",
     "text": [
      "              precision    recall  f1-score   support\n",
      "\n",
      "         0.0       0.82      0.97      0.88        87\n",
      "         1.0       0.97      0.83      0.89       109\n",
      "\n",
      "    accuracy                           0.89       196\n",
      "   macro avg       0.89      0.90      0.89       196\n",
      "weighted avg       0.90      0.89      0.89       196\n",
      "\n",
      "Specificity is\n",
      "0.82569\n"
     ]
    },
    {
     "data": {
      "image/png": "[encoded data removed]",
      "text/plain": [
       "<Figure size 720x720 with 2 Axes>"
      ]
     },
     "metadata": {
      "needs_background": "light"
     },
     "output_type": "display_data"
    }
   ],
   "source": [
    "svc= SVC(C= 1, gamma=0.1, kernel='linear')\n",
    "svc.fit(x_train, y_train.values.ravel())\n",
    "y_pred_svc = svc.predict(x_test)\n",
    "# Creates a confusion matrix\n",
    "cm = confusion_matrix(y_test, y_pred_svc)\n",
    "\n",
    "# Transform to dataframe for easier plotting\n",
    "cm_df = pd.DataFrame(cm, index = ['Approved','Not Apporved'],\n",
    "columns = ['Approved','Not Apporved'])\n",
    "# plot the confusion matrix\n",
    "plt.figure(figsize=(10,10))\n",
    "sns.heatmap(cm_df, annot=True, fmt='g')\n",
    "plt.ylabel('True label')\n",
    "plt.xlabel('Predicted label')\n",
    "plt.title(\"Support Vector Machine Accuracy :\" + str(svc.score(x_test,y_test)*100))\n",
    "print(classification_report(y_test,y_pred_svc,labels=np.unique(y_pred_svc)))\n",
    "\n",
    "\n",
    "temp_y_pred=(y_pred_svc.tolist())\n",
    "temp_y_test=list(chain.from_iterable(y_test.values.tolist()))\n",
    "length = len(temp_y_pred)\n",
    "count_true_neg=0\n",
    "count_neg=0\n",
    "for i in range(length):\n",
    "    if (temp_y_test[i]==1.0):\n",
    "        count_neg += 1\n",
    "    if temp_y_test[i]==1.0 and temp_y_pred[i]==1.0:\n",
    "        count_true_neg += 1\n",
    "\n",
    "\n",
    "print(\"Specificity is\")\n",
    "print(round(count_true_neg/count_neg, 5))\n"
   ]
  },
  {
   "cell_type": "markdown",
   "metadata": {
    "id": "LDCXcLecjrd-"
   },
   "source": [
    "# SVM - poly"
   ]
  },
  {
   "cell_type": "code",
   "execution_count": 35,
   "metadata": {
    "id": "Zh4r89b2jrd-",
    "outputId": "a7dd4b2e-7819-4e58-feb0-42fde2a51a6b"
   },
   "outputs": [
    {
     "name": "stdout",
     "output_type": "stream",
     "text": [
      "              precision    recall  f1-score   support\n",
      "\n",
      "         0.0       0.85      0.94      0.89        87\n",
      "         1.0       0.95      0.86      0.90       109\n",
      "\n",
      "    accuracy                           0.90       196\n",
      "   macro avg       0.90      0.90      0.90       196\n",
      "weighted avg       0.90      0.90      0.90       196\n",
      "\n",
      "Specificity is\n",
      "0.86239\n"
     ]
    },
    {
     "data": {
      "image/png": "[encoded data removed]",
      "text/plain": [
       "<Figure size 720x720 with 2 Axes>"
      ]
     },
     "metadata": {
      "needs_background": "light"
     },
     "output_type": "display_data"
    }
   ],
   "source": [
    "svc= SVC(C= 1000, gamma=0.1, kernel='poly')\n",
    "svc.fit(x_train, y_train.values.ravel())\n",
    "y_pred_svc = svc.predict(x_test)\n",
    "# Creates a confusion matrix\n",
    "cm = confusion_matrix(y_test, y_pred_svc)\n",
    "\n",
    "# Transform to dataframe for easier plotting\n",
    "cm_df = pd.DataFrame(cm, index = ['Approved','Not Apporved'],\n",
    "columns = ['Approved','Not Apporved'])\n",
    "\n",
    "# plot the confusion matrix\n",
    "plt.figure(figsize=(10,10))\n",
    "sns.heatmap(cm_df, annot=True, fmt='g')\n",
    "plt.ylabel('True label')\n",
    "plt.xlabel('Predicted label')\n",
    "plt.title(\"Support Vector Machine Accuracy :\" + str(svc.score(x_test,y_test)*100))\n",
    "print(classification_report(y_test,y_pred_svc,labels=np.unique(y_pred_svc)))\n",
    "\n",
    "temp_y_pred=(y_pred_svc.tolist())\n",
    "temp_y_test=list(chain.from_iterable(y_test.values.tolist()))\n",
    "length = len(temp_y_pred)\n",
    "count_true_neg=0\n",
    "count_neg=0\n",
    "for i in range(length):\n",
    "    if (temp_y_test[i]==1.0):\n",
    "        count_neg += 1\n",
    "    if temp_y_test[i]==1.0 and temp_y_pred[i]==1.0:\n",
    "        count_true_neg += 1\n",
    "\n",
    "\n",
    "print(\"Specificity is\")\n",
    "print(round(count_true_neg/count_neg, 5))"
   ]
  },
  {
   "cell_type": "markdown",
   "metadata": {
    "id": "kWgGzuxOjrd_"
   },
   "source": [
    "# SVM - rbf"
   ]
  },
  {
   "cell_type": "code",
   "execution_count": 36,
   "metadata": {
    "id": "6NV5SW25jrd_",
    "outputId": "21ee5f42-6163-4498-ea7a-6fd3123ffb9e"
   },
   "outputs": [
    {
     "name": "stdout",
     "output_type": "stream",
     "text": [
      "              precision    recall  f1-score   support\n",
      "\n",
      "         0.0       0.84      0.93      0.89        87\n",
      "         1.0       0.94      0.86      0.90       109\n",
      "\n",
      "    accuracy                           0.89       196\n",
      "   macro avg       0.89      0.90      0.89       196\n",
      "weighted avg       0.90      0.89      0.89       196\n",
      "\n",
      "Specificity is\n",
      "0.86239\n"
     ]
    },
    {
     "data": {
      "image/png": "[encoded data removed]",
      "text/plain": [
       "<Figure size 720x720 with 2 Axes>"
      ]
     },
     "metadata": {
      "needs_background": "light"
     },
     "output_type": "display_data"
    }
   ],
   "source": [
    "svc= SVC(C= 1000, gamma=0.1, kernel='rbf')\n",
    "svc.fit(x_train, y_train.values.ravel())\n",
    "y_pred_svc = svc.predict(x_test)\n",
    "# Creates a confusion matrix\n",
    "cm = confusion_matrix(y_test, y_pred_svc)\n",
    "\n",
    "# Transform to dataframe for easier plotting\n",
    "cm_df = pd.DataFrame(cm, index = ['Approved','Not Apporved'],\n",
    "columns = ['Approved','Not Apporved'])\n",
    "# plot the confusion matrix\n",
    "plt.figure(figsize=(10,10))\n",
    "sns.heatmap(cm_df, annot=True, fmt='g')\n",
    "plt.ylabel('True label')\n",
    "plt.xlabel('Predicted label')\n",
    "plt.title(\"Support Vector Machine Accuracy :\" + str(svc.score(x_test,y_test)*100))\n",
    "print(classification_report(y_test,y_pred_svc,labels=np.unique(y_pred_svc)))\n",
    "\n",
    "temp_y_pred=(y_pred_svc.tolist())\n",
    "temp_y_test=list(chain.from_iterable(y_test.values.tolist()))\n",
    "length = len(temp_y_pred)\n",
    "count_true_neg=0\n",
    "count_neg=0\n",
    "for i in range(length):\n",
    "    if (temp_y_test[i]==1.0):\n",
    "        count_neg += 1\n",
    "    if temp_y_test[i]==1.0 and temp_y_pred[i]==1.0:\n",
    "        count_true_neg += 1\n",
    "\n",
    "print(\"Specificity is\")\n",
    "print(round(count_true_neg/count_neg, 5))"
   ]
  },
  {
   "cell_type": "markdown",
   "metadata": {
    "id": "70glrHJcjrd_"
   },
   "source": [
    "# SVM - sigmoid"
   ]
  },
  {
   "cell_type": "code",
   "execution_count": 37,
   "metadata": {
    "id": "czxNup1tjreA",
    "outputId": "e9c25d90-9df5-4d1b-f847-f22e703ea9f2"
   },
   "outputs": [
    {
     "name": "stdout",
     "output_type": "stream",
     "text": [
      "              precision    recall  f1-score   support\n",
      "\n",
      "         0.0       0.78      0.71      0.75        87\n",
      "         1.0       0.79      0.84      0.81       109\n",
      "\n",
      "    accuracy                           0.79       196\n",
      "   macro avg       0.79      0.78      0.78       196\n",
      "weighted avg       0.79      0.79      0.78       196\n",
      "\n",
      "Specificity is\n",
      "0.84404\n"
     ]
    },
    {
     "data": {
      "image/png": "[encoded data removed]",
      "text/plain": [
       "<Figure size 720x720 with 2 Axes>"
      ]
     },
     "metadata": {
      "needs_background": "light"
     },
     "output_type": "display_data"
    }
   ],
   "source": [
    "svc= SVC(C= 1000, gamma=0.1, kernel='sigmoid')\n",
    "svc.fit(x_train, y_train.values.ravel())\n",
    "y_pred_svc = svc.predict(x_test)\n",
    "# Creates a confusion matrix\n",
    "cm = confusion_matrix(y_test, y_pred_svc)\n",
    "\n",
    "# Transform to dataframe for easier plotting\n",
    "cm_df = pd.DataFrame(cm, index = ['Approved','Not Apporved'],\n",
    "columns = ['Approved','Not Apporved'])\n",
    "# plot the confusion matrix\n",
    "plt.figure(figsize=(10,10))\n",
    "sns.heatmap(cm_df, annot=True, fmt='g')\n",
    "plt.ylabel('True label')\n",
    "plt.xlabel('Predicted label')\n",
    "plt.title(\"Support Vector Machine Accuracy :\" + str(svc.score(x_test,y_test)*100))\n",
    "print(classification_report(y_test,y_pred_svc,labels=np.unique(y_pred_svc)))\n",
    "\n",
    "temp_y_pred=(y_pred_svc.tolist())\n",
    "temp_y_test=list(chain.from_iterable(y_test.values.tolist()))\n",
    "length = len(temp_y_pred)\n",
    "count_true_neg=0\n",
    "count_neg=0\n",
    "for i in range(length):\n",
    "    if (temp_y_test[i]==1.0):\n",
    "        count_neg += 1\n",
    "    if temp_y_test[i]==1.0 and temp_y_pred[i]==1.0:\n",
    "        count_true_neg += 1\n",
    "\n",
    "print(\"Specificity is\")\n",
    "print(round(count_true_neg/count_neg, 5))"
   ]
  }
 ],
 "metadata": {
  "colab": {
   "include_colab_link": true,
   "name": "Project final.ipynb",
   "provenance": []
  },
  "kernelspec": {
   "display_name": "Python 3",
   "language": "python",
   "name": "python3"
  },
  "language_info": {
   "codemirror_mode": {
    "name": "ipython",
    "version": 3
   },
   "file_extension": ".py",
   "mimetype": "text/x-python",
   "name": "python",
   "nbconvert_exporter": "python",
   "pygments_lexer": "ipython3",
   "version": "3.8.10"
  }
 },
 "nbformat": 4,
 "nbformat_minor": 4
}
